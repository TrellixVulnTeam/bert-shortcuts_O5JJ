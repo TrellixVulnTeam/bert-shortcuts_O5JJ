{
 "cells": [
  {
   "cell_type": "code",
   "execution_count": 1,
   "id": "91e7851f",
   "metadata": {},
   "outputs": [],
   "source": [
    "shuffle_data_file = \"../temp/out/dev_matched_shuffled.csv\"\n",
    "shuffle_data_pred_file = \"../temp/out/dev_matched_shuffle_revese_finetune_predict.txt\"\n",
    "shuffle_data_pred_file = \"../temp/out/dev_matched_shuffled_bert_base_finetune_predict.txt\"\n",
    "\n",
    "\n",
    "\n",
    "data_file = \"../temp/out/dev_matched.csv\"\n",
    "data_pred_file = \"../temp/out/dev_matched_reverse_finetune_predict.txt\"\n",
    "data_pred_file = \"../temp/out/dev_matched_bert_base_finetune_predict.txt\"\n"
   ]
  },
  {
   "cell_type": "code",
   "execution_count": 2,
   "id": "1b5650e7",
   "metadata": {},
   "outputs": [],
   "source": [
    "import pandas as pd\n",
    "pd.set_option('max_colwidth', 0)"
   ]
  },
  {
   "cell_type": "code",
   "execution_count": 3,
   "id": "eb89acef",
   "metadata": {},
   "outputs": [],
   "source": [
    "def load_df(raw_file, pred_file):\n",
    "\n",
    "    df = pd.read_csv(raw_file, quotechar='\"')\n",
    "    df[\"prediction\"] = pd.read_csv(pred_file, delimiter=\"\\t\")[\"prediction\"]\n",
    "    df = df.drop(columns = [\"sentence1_binary_parse\",\"sentence2_binary_parse\", \"sentence1_parse\", \"sentence2_parse\"])\n",
    "    return df"
   ]
  },
  {
   "cell_type": "code",
   "execution_count": 4,
   "id": "aad2c23b",
   "metadata": {},
   "outputs": [],
   "source": [
    "df_shuffle =  load_df(shuffle_data_file, shuffle_data_pred_file)\n",
    "df_normal =  load_df(data_file, data_pred_file)\n"
   ]
  },
  {
   "cell_type": "code",
   "execution_count": 5,
   "id": "b77d6b8a",
   "metadata": {},
   "outputs": [
    {
     "data": {
      "text/plain": [
       "(9714, 13)"
      ]
     },
     "execution_count": 5,
     "metadata": {},
     "output_type": "execute_result"
    }
   ],
   "source": [
    "df_normal.shape"
   ]
  },
  {
   "cell_type": "code",
   "execution_count": 6,
   "id": "94cc93d9",
   "metadata": {},
   "outputs": [
    {
     "data": {
      "text/html": [
       "<div>\n",
       "<style scoped>\n",
       "    .dataframe tbody tr th:only-of-type {\n",
       "        vertical-align: middle;\n",
       "    }\n",
       "\n",
       "    .dataframe tbody tr th {\n",
       "        vertical-align: top;\n",
       "    }\n",
       "\n",
       "    .dataframe thead th {\n",
       "        text-align: right;\n",
       "    }\n",
       "</style>\n",
       "<table border=\"1\" class=\"dataframe\">\n",
       "  <thead>\n",
       "    <tr style=\"text-align: right;\">\n",
       "      <th></th>\n",
       "      <th>index</th>\n",
       "      <th>promptID</th>\n",
       "      <th>pairID</th>\n",
       "      <th>genre</th>\n",
       "      <th>sentence1</th>\n",
       "      <th>sentence2</th>\n",
       "      <th>label1</th>\n",
       "      <th>label2</th>\n",
       "      <th>label3</th>\n",
       "      <th>label4</th>\n",
       "      <th>label5</th>\n",
       "      <th>label</th>\n",
       "      <th>prediction</th>\n",
       "    </tr>\n",
       "  </thead>\n",
       "  <tbody>\n",
       "    <tr>\n",
       "      <th>9612</th>\n",
       "      <td>9713</td>\n",
       "      <td>88813</td>\n",
       "      <td>88813n</td>\n",
       "      <td>fiction</td>\n",
       "      <td>120 \"You do not think I ought to go to the police?\"</td>\n",
       "      <td>Will the police be able to help?</td>\n",
       "      <td>neutral</td>\n",
       "      <td>neutral</td>\n",
       "      <td>entailment</td>\n",
       "      <td>neutral</td>\n",
       "      <td>neutral</td>\n",
       "      <td>001_neutral</td>\n",
       "      <td>001_neutral</td>\n",
       "    </tr>\n",
       "  </tbody>\n",
       "</table>\n",
       "</div>"
      ],
      "text/plain": [
       "      index  promptID  pairID    genre  \\\n",
       "9612  9713   88813     88813n  fiction   \n",
       "\n",
       "                                                sentence1  \\\n",
       "9612  120 \"You do not think I ought to go to the police?\"   \n",
       "\n",
       "                             sentence2   label1   label2      label3   label4  \\\n",
       "9612  Will the police be able to help?  neutral  neutral  entailment  neutral   \n",
       "\n",
       "       label5        label   prediction  \n",
       "9612  neutral  001_neutral  001_neutral  "
      ]
     },
     "execution_count": 6,
     "metadata": {},
     "output_type": "execute_result"
    }
   ],
   "source": [
    "df_normal.query(\"index == 9713\")"
   ]
  },
  {
   "cell_type": "code",
   "execution_count": 7,
   "id": "bd7fcc09",
   "metadata": {},
   "outputs": [
    {
     "data": {
      "text/html": [
       "<div>\n",
       "<style scoped>\n",
       "    .dataframe tbody tr th:only-of-type {\n",
       "        vertical-align: middle;\n",
       "    }\n",
       "\n",
       "    .dataframe tbody tr th {\n",
       "        vertical-align: top;\n",
       "    }\n",
       "\n",
       "    .dataframe thead th {\n",
       "        text-align: right;\n",
       "    }\n",
       "</style>\n",
       "<table border=\"1\" class=\"dataframe\">\n",
       "  <thead>\n",
       "    <tr style=\"text-align: right;\">\n",
       "      <th></th>\n",
       "      <th>index</th>\n",
       "      <th>promptID</th>\n",
       "      <th>pairID</th>\n",
       "      <th>genre</th>\n",
       "      <th>sentence1</th>\n",
       "      <th>sentence2</th>\n",
       "      <th>label1</th>\n",
       "      <th>label2</th>\n",
       "      <th>label3</th>\n",
       "      <th>label4</th>\n",
       "      <th>label5</th>\n",
       "      <th>label</th>\n",
       "      <th>prediction</th>\n",
       "    </tr>\n",
       "  </thead>\n",
       "  <tbody>\n",
       "    <tr>\n",
       "      <th>0</th>\n",
       "      <td>0</td>\n",
       "      <td>63735</td>\n",
       "      <td>63735n</td>\n",
       "      <td>slate</td>\n",
       "      <td>The new rights are nice enough</td>\n",
       "      <td>Everyone really likes the newest benefits</td>\n",
       "      <td>neutral</td>\n",
       "      <td>entailment</td>\n",
       "      <td>neutral</td>\n",
       "      <td>neutral</td>\n",
       "      <td>neutral</td>\n",
       "      <td>001_neutral</td>\n",
       "      <td>001_neutral</td>\n",
       "    </tr>\n",
       "    <tr>\n",
       "      <th>1</th>\n",
       "      <td>1</td>\n",
       "      <td>91383</td>\n",
       "      <td>91383c</td>\n",
       "      <td>government</td>\n",
       "      <td>This site includes a list of all award winners and a searchable database of Government Executive articles.</td>\n",
       "      <td>The Government Executive articles housed on the website are not able to be searched.</td>\n",
       "      <td>contradiction</td>\n",
       "      <td>contradiction</td>\n",
       "      <td>contradiction</td>\n",
       "      <td>contradiction</td>\n",
       "      <td>contradiction</td>\n",
       "      <td>002_contradiction</td>\n",
       "      <td>002_contradiction</td>\n",
       "    </tr>\n",
       "    <tr>\n",
       "      <th>2</th>\n",
       "      <td>2</td>\n",
       "      <td>755</td>\n",
       "      <td>755e</td>\n",
       "      <td>telephone</td>\n",
       "      <td>uh i don't know i i have mixed emotions about him uh sometimes i like him but at the same times i love to see somebody beat him</td>\n",
       "      <td>I like him for the most part, but would still enjoy seeing someone beat him.</td>\n",
       "      <td>entailment</td>\n",
       "      <td>entailment</td>\n",
       "      <td>entailment</td>\n",
       "      <td>entailment</td>\n",
       "      <td>entailment</td>\n",
       "      <td>000_entailment</td>\n",
       "      <td>000_entailment</td>\n",
       "    </tr>\n",
       "    <tr>\n",
       "      <th>3</th>\n",
       "      <td>3</td>\n",
       "      <td>78013</td>\n",
       "      <td>78013c</td>\n",
       "      <td>telephone</td>\n",
       "      <td>yeah i i think my favorite restaurant is always been the one closest  you know the closest as long as it's it meets the minimum criteria you know of good food</td>\n",
       "      <td>My favorite restaurants are always at least a hundred miles away from my house.</td>\n",
       "      <td>contradiction</td>\n",
       "      <td>contradiction</td>\n",
       "      <td>contradiction</td>\n",
       "      <td>contradiction</td>\n",
       "      <td>contradiction</td>\n",
       "      <td>002_contradiction</td>\n",
       "      <td>002_contradiction</td>\n",
       "    </tr>\n",
       "    <tr>\n",
       "      <th>4</th>\n",
       "      <td>4</td>\n",
       "      <td>96377</td>\n",
       "      <td>96377c</td>\n",
       "      <td>telephone</td>\n",
       "      <td>i don't know um do you do a lot of camping</td>\n",
       "      <td>I know exactly.</td>\n",
       "      <td>contradiction</td>\n",
       "      <td>contradiction</td>\n",
       "      <td>contradiction</td>\n",
       "      <td>contradiction</td>\n",
       "      <td>contradiction</td>\n",
       "      <td>002_contradiction</td>\n",
       "      <td>002_contradiction</td>\n",
       "    </tr>\n",
       "  </tbody>\n",
       "</table>\n",
       "</div>"
      ],
      "text/plain": [
       "   index  promptID  pairID       genre  \\\n",
       "0  0      63735     63735n  slate        \n",
       "1  1      91383     91383c  government   \n",
       "2  2      755       755e    telephone    \n",
       "3  3      78013     78013c  telephone    \n",
       "4  4      96377     96377c  telephone    \n",
       "\n",
       "                                                                                                                                                        sentence1  \\\n",
       "0  The new rights are nice enough                                                                                                                                   \n",
       "1  This site includes a list of all award winners and a searchable database of Government Executive articles.                                                       \n",
       "2  uh i don't know i i have mixed emotions about him uh sometimes i like him but at the same times i love to see somebody beat him                                  \n",
       "3  yeah i i think my favorite restaurant is always been the one closest  you know the closest as long as it's it meets the minimum criteria you know of good food   \n",
       "4  i don't know um do you do a lot of camping                                                                                                                       \n",
       "\n",
       "                                                                              sentence2  \\\n",
       "0  Everyone really likes the newest benefits                                              \n",
       "1  The Government Executive articles housed on the website are not able to be searched.   \n",
       "2  I like him for the most part, but would still enjoy seeing someone beat him.           \n",
       "3  My favorite restaurants are always at least a hundred miles away from my house.        \n",
       "4  I know exactly.                                                                        \n",
       "\n",
       "          label1         label2         label3         label4         label5  \\\n",
       "0  neutral        entailment     neutral        neutral        neutral         \n",
       "1  contradiction  contradiction  contradiction  contradiction  contradiction   \n",
       "2  entailment     entailment     entailment     entailment     entailment      \n",
       "3  contradiction  contradiction  contradiction  contradiction  contradiction   \n",
       "4  contradiction  contradiction  contradiction  contradiction  contradiction   \n",
       "\n",
       "               label         prediction  \n",
       "0  001_neutral        001_neutral        \n",
       "1  002_contradiction  002_contradiction  \n",
       "2  000_entailment     000_entailment     \n",
       "3  002_contradiction  002_contradiction  \n",
       "4  002_contradiction  002_contradiction  "
      ]
     },
     "execution_count": 7,
     "metadata": {},
     "output_type": "execute_result"
    }
   ],
   "source": [
    "df_normal.head()"
   ]
  },
  {
   "cell_type": "code",
   "execution_count": 9,
   "id": "d3a44dee",
   "metadata": {},
   "outputs": [
    {
     "data": {
      "text/plain": [
       "(9714, 13)"
      ]
     },
     "execution_count": 9,
     "metadata": {},
     "output_type": "execute_result"
    }
   ],
   "source": [
    "df_normal.shape"
   ]
  },
  {
   "cell_type": "code",
   "execution_count": 10,
   "id": "458f3187",
   "metadata": {},
   "outputs": [
    {
     "data": {
      "text/html": [
       "<div>\n",
       "<style scoped>\n",
       "    .dataframe tbody tr th:only-of-type {\n",
       "        vertical-align: middle;\n",
       "    }\n",
       "\n",
       "    .dataframe tbody tr th {\n",
       "        vertical-align: top;\n",
       "    }\n",
       "\n",
       "    .dataframe thead th {\n",
       "        text-align: right;\n",
       "    }\n",
       "</style>\n",
       "<table border=\"1\" class=\"dataframe\">\n",
       "  <thead>\n",
       "    <tr style=\"text-align: right;\">\n",
       "      <th></th>\n",
       "      <th>sentence1</th>\n",
       "      <th>sentence2</th>\n",
       "    </tr>\n",
       "  </thead>\n",
       "  <tbody>\n",
       "    <tr>\n",
       "      <th>6053</th>\n",
       "      <td>confused. I'm</td>\n",
       "      <td>don't understand. I</td>\n",
       "    </tr>\n",
       "    <tr>\n",
       "      <th>2418</th>\n",
       "      <td>river. need to able also We will bodied men the help us any spike</td>\n",
       "      <td>will spike the us to need We men river. help disabled</td>\n",
       "    </tr>\n",
       "    <tr>\n",
       "      <th>622</th>\n",
       "      <td>and Aid committee unanimous Compatibility Committee, Order, recommendations the Report in of Federal The Communications an Rulemaking advisory the by 1995. Negotiated in Commission large part, established adopts the Hearing</td>\n",
       "      <td>product Federal Compatibility Rulemaking Aid is the Negotiated Committee Communications The Hearing of Commission. a</td>\n",
       "    </tr>\n",
       "  </tbody>\n",
       "</table>\n",
       "</div>"
      ],
      "text/plain": [
       "                                                                                                                                                                                                                            sentence1  \\\n",
       "6053  confused. I'm                                                                                                                                                                                                                     \n",
       "2418  river. need to able also We will bodied men the help us any spike                                                                                                                                                                 \n",
       "622   and Aid committee unanimous Compatibility Committee, Order, recommendations the Report in of Federal The Communications an Rulemaking advisory the by 1995. Negotiated in Commission large part, established adopts the Hearing   \n",
       "\n",
       "                                                                                                                 sentence2  \n",
       "6053  don't understand. I                                                                                                   \n",
       "2418  will spike the us to need We men river. help disabled                                                                 \n",
       "622   product Federal Compatibility Rulemaking Aid is the Negotiated Committee Communications The Hearing of Commission. a  "
      ]
     },
     "execution_count": 10,
     "metadata": {},
     "output_type": "execute_result"
    }
   ],
   "source": [
    "df_shuffle[[\"sentence1\", \"sentence2\"]].sample(n=3)"
   ]
  },
  {
   "cell_type": "code",
   "execution_count": 11,
   "id": "f9d69e17",
   "metadata": {},
   "outputs": [],
   "source": [
    "df_shuffle[\"is_normal_correct\"] = df_shuffle[\"index\"].isin( df_normal.query(\"label == prediction\")[\"index\"])"
   ]
  },
  {
   "cell_type": "code",
   "execution_count": 12,
   "id": "98d374ca",
   "metadata": {},
   "outputs": [
    {
     "data": {
      "text/plain": [
       "(940, 14)"
      ]
     },
     "execution_count": 12,
     "metadata": {},
     "output_type": "execute_result"
    }
   ],
   "source": [
    "df_shuffle.query(\"label != prediction and label != '001_neutral' and is_normal_correct ==True \").shape"
   ]
  },
  {
   "cell_type": "code",
   "execution_count": 13,
   "id": "ee48c268",
   "metadata": {},
   "outputs": [
    {
     "data": {
      "text/html": [
       "<div>\n",
       "<style scoped>\n",
       "    .dataframe tbody tr th:only-of-type {\n",
       "        vertical-align: middle;\n",
       "    }\n",
       "\n",
       "    .dataframe tbody tr th {\n",
       "        vertical-align: top;\n",
       "    }\n",
       "\n",
       "    .dataframe thead th {\n",
       "        text-align: right;\n",
       "    }\n",
       "</style>\n",
       "<table border=\"1\" class=\"dataframe\">\n",
       "  <thead>\n",
       "    <tr style=\"text-align: right;\">\n",
       "      <th></th>\n",
       "      <th>sentence1</th>\n",
       "      <th>sentence2</th>\n",
       "    </tr>\n",
       "  </thead>\n",
       "  <tbody>\n",
       "    <tr>\n",
       "      <th>11</th>\n",
       "      <td>Hinduism. The rigid new bhakti hitherto ritual Tamils the to of warmth of brought a the Brahmanic movement</td>\n",
       "      <td>froze bhakti The ritual the Tamils' warm of Hinduism. movement previously</td>\n",
       "    </tr>\n",
       "    <tr>\n",
       "      <th>13</th>\n",
       "      <td>and your friends You are not welcome Severn. said here,</td>\n",
       "      <td>Severn said were not people there. welcome the</td>\n",
       "    </tr>\n",
       "    <tr>\n",
       "      <th>25</th>\n",
       "      <td>that's it how is. Sorry but</td>\n",
       "      <td>are is are about apologies there how This and it. no things</td>\n",
       "    </tr>\n",
       "    <tr>\n",
       "      <th>45</th>\n",
       "      <td>file their uh on from two send uh had guys to were but road them final actually in they when the home exams from uh their thousand these miles and</td>\n",
       "      <td>exams their filed home.  men midterm These from</td>\n",
       "    </tr>\n",
       "    <tr>\n",
       "      <th>58</th>\n",
       "      <td>a its heightened possibilities. a has and She turns, its has to tried life hollow get exchanged comprehend all life, for</td>\n",
       "      <td>hollow a life. live chose to has She</td>\n",
       "    </tr>\n",
       "    <tr>\n",
       "      <th>...</th>\n",
       "      <td>...</td>\n",
       "      <td>...</td>\n",
       "    </tr>\n",
       "    <tr>\n",
       "      <th>9650</th>\n",
       "      <td>Minoan pumice civilization. and of a eruption not whole Akrotiri b.c. destroyed the , volcanic under but 1500 massive at ash Santorini only feet Around</td>\n",
       "      <td>The volcano has years. lain for dormant thousand four the past</td>\n",
       "    </tr>\n",
       "    <tr>\n",
       "      <th>9668</th>\n",
       "      <td>i camping a of know you do don't lot do um</td>\n",
       "      <td>you Do alot? camp</td>\n",
       "    </tr>\n",
       "    <tr>\n",
       "      <th>9673</th>\n",
       "      <td>as blamed until paying is to globalization's official excesses we Rightly its America be or prime head and start mover seen and them. will for wrongly, cheerleader attention</td>\n",
       "      <td>role globalization in important with it movement  America's not. we agree is the whether or</td>\n",
       "    </tr>\n",
       "    <tr>\n",
       "      <th>9676</th>\n",
       "      <td>hillsides; and many into selling into homes some shops the art converted been are have collectibles. There galleries built</td>\n",
       "      <td>hillside in and selling the have collectibles. shops homes of been converted art galleries the All into</td>\n",
       "    </tr>\n",
       "    <tr>\n",
       "      <th>9681</th>\n",
       "      <td>i i no painted just</td>\n",
       "      <td>now. painted just I</td>\n",
       "    </tr>\n",
       "  </tbody>\n",
       "</table>\n",
       "<p>940 rows × 2 columns</p>\n",
       "</div>"
      ],
      "text/plain": [
       "                                                                                                                                                                          sentence1  \\\n",
       "11    Hinduism. The rigid new bhakti hitherto ritual Tamils the to of warmth of brought a the Brahmanic movement                                                                      \n",
       "13    and your friends You are not welcome Severn. said here,                                                                                                                         \n",
       "25    that's it how is. Sorry but                                                                                                                                                     \n",
       "45    file their uh on from two send uh had guys to were but road them final actually in they when the home exams from uh their thousand these miles and                              \n",
       "58    a its heightened possibilities. a has and She turns, its has to tried life hollow get exchanged comprehend all life, for                                                        \n",
       "...                                                                                                                        ...                                                        \n",
       "9650  Minoan pumice civilization. and of a eruption not whole Akrotiri b.c. destroyed the , volcanic under but 1500 massive at ash Santorini only feet Around                         \n",
       "9668  i camping a of know you do don't lot do um                                                                                                                                      \n",
       "9673  as blamed until paying is to globalization's official excesses we Rightly its America be or prime head and start mover seen and them. will for wrongly, cheerleader attention   \n",
       "9676  hillsides; and many into selling into homes some shops the art converted been are have collectibles. There galleries built                                                      \n",
       "9681  i i no painted just                                                                                                                                                             \n",
       "\n",
       "                                                                                                    sentence2  \n",
       "11    froze bhakti The ritual the Tamils' warm of Hinduism. movement previously                                \n",
       "13    Severn said were not people there. welcome the                                                           \n",
       "25    are is are about apologies there how This and it. no things                                              \n",
       "45    exams their filed home.  men midterm These from                                                          \n",
       "58    hollow a life. live chose to has She                                                                     \n",
       "...                                    ...                                                                     \n",
       "9650  The volcano has years. lain for dormant thousand four the past                                           \n",
       "9668  you Do alot? camp                                                                                        \n",
       "9673  role globalization in important with it movement  America's not. we agree is the whether or              \n",
       "9676  hillside in and selling the have collectibles. shops homes of been converted art galleries the All into  \n",
       "9681  now. painted just I                                                                                      \n",
       "\n",
       "[940 rows x 2 columns]"
      ]
     },
     "execution_count": 13,
     "metadata": {},
     "output_type": "execute_result"
    }
   ],
   "source": [
    "df_shuffle.query(\"label != prediction and label != '001_neutral' and is_normal_correct ==True \")\\\n",
    "    [[\"sentence1\", \"sentence2\"]]"
   ]
  },
  {
   "cell_type": "code",
   "execution_count": 14,
   "id": "c345691b",
   "metadata": {},
   "outputs": [
    {
     "data": {
      "text/html": [
       "<div>\n",
       "<style scoped>\n",
       "    .dataframe tbody tr th:only-of-type {\n",
       "        vertical-align: middle;\n",
       "    }\n",
       "\n",
       "    .dataframe tbody tr th {\n",
       "        vertical-align: top;\n",
       "    }\n",
       "\n",
       "    .dataframe thead th {\n",
       "        text-align: right;\n",
       "    }\n",
       "</style>\n",
       "<table border=\"1\" class=\"dataframe\">\n",
       "  <thead>\n",
       "    <tr style=\"text-align: right;\">\n",
       "      <th></th>\n",
       "      <th>sentence1</th>\n",
       "      <th>sentence2</th>\n",
       "    </tr>\n",
       "  </thead>\n",
       "  <tbody>\n",
       "    <tr>\n",
       "      <th>1</th>\n",
       "      <td>a This and database winners articles. a all award of searchable list includes Executive of site Government</td>\n",
       "      <td>to searched. Government on be are Executive the not website The housed able articles</td>\n",
       "    </tr>\n",
       "    <tr>\n",
       "      <th>2</th>\n",
       "      <td>somebody about at see i know the to uh times him sometimes beat him have i don't i uh emotions like i but mixed i same love him</td>\n",
       "      <td>most still him. like but him for would seeing enjoy I part, beat the someone</td>\n",
       "    </tr>\n",
       "    <tr>\n",
       "      <th>3</th>\n",
       "      <td>as criteria it's know the closest my one favorite food you always think as restaurant yeah good been minimum is long it i  the of the i meets closest you know</td>\n",
       "      <td>hundred away My my  favorite at a always miles from restaurants least house. are</td>\n",
       "    </tr>\n",
       "    <tr>\n",
       "      <th>4</th>\n",
       "      <td>know do of um do a camping lot don't i you</td>\n",
       "      <td>know I exactly.</td>\n",
       "    </tr>\n",
       "    <tr>\n",
       "      <th>5</th>\n",
       "      <td>out that got would we're before to well we that would of wish here they i it's little space left that end landfill so be have really the be this help and going do decade a going run to</td>\n",
       "      <td>We plenty have of the in space landfill.</td>\n",
       "    </tr>\n",
       "    <tr>\n",
       "      <th>...</th>\n",
       "      <td>...</td>\n",
       "      <td>...</td>\n",
       "    </tr>\n",
       "    <tr>\n",
       "      <th>9708</th>\n",
       "      <td>Second, rate not If entirely. of the only we'd any goal it reducing were, sex worth the  social in HIV is event transmission outlaw</td>\n",
       "      <td>HIV problems. No one about social or other cares any</td>\n",
       "    </tr>\n",
       "    <tr>\n",
       "      <th>9710</th>\n",
       "      <td>in by malfunction space. were pagers the United knocked out of percent satellite a States Eighty in</td>\n",
       "      <td>by Pagers States the in United the satellite were unaffected malfunction.</td>\n",
       "    </tr>\n",
       "    <tr>\n",
       "      <th>9711</th>\n",
       "      <td>the videotapes, the and entities complying in issue to conduct aid with hold FDA guidance will manuals rule. and Finally, workshops, teleconferences small</td>\n",
       "      <td>is set to workshops. FDA  The conduct</td>\n",
       "    </tr>\n",
       "    <tr>\n",
       "      <th>9712</th>\n",
       "      <td>Soleil's that of 1.5 in water. an The million troupe, from aquatic latest liters) million international utilizes gallons dazzles acclaimed O the du environment (6.8 Cirque</td>\n",
       "      <td>an Cirque international troupe. is du Soleil</td>\n",
       "    </tr>\n",
       "    <tr>\n",
       "      <th>9713</th>\n",
       "      <td>listen and  right agree i sounds with i'll think what</td>\n",
       "      <td>even listening. bother I wont</td>\n",
       "    </tr>\n",
       "  </tbody>\n",
       "</table>\n",
       "<p>4754 rows × 2 columns</p>\n",
       "</div>"
      ],
      "text/plain": [
       "                                                                                                                                                                                     sentence1  \\\n",
       "1     a This and database winners articles. a all award of searchable list includes Executive of site Government                                                                                 \n",
       "2     somebody about at see i know the to uh times him sometimes beat him have i don't i uh emotions like i but mixed i same love him                                                            \n",
       "3     as criteria it's know the closest my one favorite food you always think as restaurant yeah good been minimum is long it i  the of the i meets closest you know                             \n",
       "4     know do of um do a camping lot don't i you                                                                                                                                                 \n",
       "5     out that got would we're before to well we that would of wish here they i it's little space left that end landfill so be have really the be this help and going do decade a going run to   \n",
       "...                                                                                                                                                                                        ...   \n",
       "9708  Second, rate not If entirely. of the only we'd any goal it reducing were, sex worth the  social in HIV is event transmission outlaw                                                        \n",
       "9710  in by malfunction space. were pagers the United knocked out of percent satellite a States Eighty in                                                                                        \n",
       "9711  the videotapes, the and entities complying in issue to conduct aid with hold FDA guidance will manuals rule. and Finally, workshops, teleconferences small                                 \n",
       "9712  Soleil's that of 1.5 in water. an The million troupe, from aquatic latest liters) million international utilizes gallons dazzles acclaimed O the du environment (6.8 Cirque                \n",
       "9713  listen and  right agree i sounds with i'll think what                                                                                                                                      \n",
       "\n",
       "                                                                                 sentence2  \n",
       "1     to searched. Government on be are Executive the not website The housed able articles  \n",
       "2     most still him. like but him for would seeing enjoy I part, beat the someone          \n",
       "3     hundred away My my  favorite at a always miles from restaurants least house. are      \n",
       "4     know I exactly.                                                                       \n",
       "5     We plenty have of the in space landfill.                                              \n",
       "...                                        ...                                              \n",
       "9708  HIV problems. No one about social or other cares any                                  \n",
       "9710  by Pagers States the in United the satellite were unaffected malfunction.             \n",
       "9711  is set to workshops. FDA  The conduct                                                 \n",
       "9712  an Cirque international troupe. is du Soleil                                          \n",
       "9713  even listening. bother I wont                                                         \n",
       "\n",
       "[4754 rows x 2 columns]"
      ]
     },
     "execution_count": 14,
     "metadata": {},
     "output_type": "execute_result"
    }
   ],
   "source": [
    "df_shuffle.query(\"label == prediction and label != '001_neutral' and is_normal_correct ==True \")\\\n",
    "    [[\"sentence1\", \"sentence2\"]]"
   ]
  },
  {
   "cell_type": "code",
   "execution_count": 15,
   "id": "fe74adaa",
   "metadata": {},
   "outputs": [
    {
     "data": {
      "text/plain": [
       "((4754, 14), (5694, 14))"
      ]
     },
     "execution_count": 15,
     "metadata": {},
     "output_type": "execute_result"
    }
   ],
   "source": [
    "df_shuffle.query(\"label == prediction and label != '001_neutral' and is_normal_correct ==True \").shape, df_shuffle.query(\"label != '001_neutral' and is_normal_correct ==True \").shape"
   ]
  },
  {
   "cell_type": "code",
   "execution_count": 16,
   "id": "e9083a18",
   "metadata": {},
   "outputs": [
    {
     "data": {
      "text/plain": [
       "True     5694\n",
       "False    926 \n",
       "Name: is_normal_correct, dtype: int64"
      ]
     },
     "execution_count": 16,
     "metadata": {},
     "output_type": "execute_result"
    }
   ],
   "source": [
    "df_shuffle.query(\"label != '001_neutral'\")[\"is_normal_correct\"].value_counts()"
   ]
  },
  {
   "cell_type": "code",
   "execution_count": 17,
   "id": "48b4a0bd",
   "metadata": {},
   "outputs": [
    {
     "data": {
      "text/plain": [
       "True     8165\n",
       "False    1549\n",
       "Name: is_normal_correct, dtype: int64"
      ]
     },
     "execution_count": 17,
     "metadata": {},
     "output_type": "execute_result"
    }
   ],
   "source": [
    "df_shuffle[\"is_normal_correct\"].value_counts()"
   ]
  },
  {
   "cell_type": "code",
   "execution_count": 18,
   "id": "7bb07402",
   "metadata": {},
   "outputs": [
    {
     "data": {
      "text/plain": [
       "True     8165\n",
       "False    1549\n",
       "dtype: int64"
      ]
     },
     "execution_count": 18,
     "metadata": {},
     "output_type": "execute_result"
    }
   ],
   "source": [
    "(df_normal[\"label\"]==df_normal[\"prediction\"]).value_counts()"
   ]
  }
 ],
 "metadata": {
  "kernelspec": {
   "display_name": "Python 3 (ipykernel)",
   "language": "python",
   "name": "python3"
  },
  "language_info": {
   "codemirror_mode": {
    "name": "ipython",
    "version": 3
   },
   "file_extension": ".py",
   "mimetype": "text/x-python",
   "name": "python",
   "nbconvert_exporter": "python",
   "pygments_lexer": "ipython3",
   "version": "3.8.9"
  }
 },
 "nbformat": 4,
 "nbformat_minor": 5
}
