{
 "cells": [
  {
   "cell_type": "markdown",
   "metadata": {
    "collapsed": true
   },
   "source": [
    "# PTM PPI Shortcut analysis"
   ]
  },
  {
   "cell_type": "code",
   "execution_count": 1,
   "metadata": {},
   "outputs": [],
   "source": [
    "import sys, pandas as pd, os, matplotlib.pyplot as plt, sklearn\n",
    "from sklearn import tree\n",
    "\n",
    "sys.path.append(\"../src\")\n",
    "\n",
    "all_labels = list(range(7))\n",
    "pos_labels = list(range(1,7,1))\n",
    "label_names = [\"other\",\n",
    "                            \"phosphorylation\",\n",
    "                            \"dephosphorylation\",\n",
    "                            \"methylation\",\n",
    "                            \"ubiquitination\",\n",
    "                            \"acetylation\",\n",
    "                            \"deubiquitination\"]\n",
    "\n",
    "renamed_labels = [\"Negative\"] + [i.title() for i in label_names[1:]]\n",
    "\n",
    "ptm_trigger_words =  [\"phosphorylation\", \"deubiquitination\", \"acetylation\", \"ubiquitination\", \"methylation\", \"dephosphorylation\"]\n",
    "\n"
   ]
  },
  {
   "cell_type": "markdown",
   "metadata": {},
   "source": [
    "## Original inputs with markers\n",
    "For how to create the preprocessed file for PTM-PPI, see https://github.com/elangovana/large-scale-ptm-ppi/blob/main/src/utils/static_markers_ppi_multiclass.py"
   ]
  },
  {
   "cell_type": "code",
   "execution_count": 2,
   "metadata": {},
   "outputs": [],
   "source": [
    "temp_dir = \"temp\""
   ]
  },
  {
   "cell_type": "code",
   "execution_count": 3,
   "metadata": {},
   "outputs": [],
   "source": [
    "trainfile=\"../temp/markers_train_multiclass.json\"\n",
    "testfile=\"../temp/markers_test_multiclass.json\"\n",
    "valfile=\"../temp/markers_val_multiclass.json\"\n"
   ]
  },
  {
   "cell_type": "markdown",
   "metadata": {},
   "source": [
    "## Predictions with markers"
   ]
  },
  {
   "cell_type": "code",
   "execution_count": 4,
   "metadata": {},
   "outputs": [],
   "source": [
    "largescalefile = \"../temp/markers_largescale_hq_above_threshold.json\"\n",
    "largescale_low_hq=\"../temp/markers_largescale_lq_below_threshold.json\"\n",
    "\n",
    "test_predictions_file =\"../temp/markers_test_pred_multiclass.json\""
   ]
  },
  {
   "cell_type": "code",
   "execution_count": 5,
   "metadata": {},
   "outputs": [],
   "source": [
    "def load_large_scale(file, labels_order = label_names):\n",
    "    df = pd.read_json(file, orient=\"records\")\n",
    "    df[\"y\"] = df[\"prediction\"].apply(lambda x: labels_order.index(x) )\n",
    "    df[\"y_raw\"] = df[\"prediction\"]\n",
    "\n",
    "\n",
    "    return df\n",
    "\n",
    "def load_valtest_ensemble_pred(file, labels_order = label_names):\n",
    "    df = pd.read_json(file, orient=\"records\")\n",
    "    df[\"y\"] = df[\"prediction\"].apply(lambda x: labels_order.index(x) )\n",
    "    df[\"y_raw\"] = df[\"prediction\"]\n",
    "\n",
    "\n",
    "    return df"
   ]
  },
  {
   "cell_type": "code",
   "execution_count": 6,
   "metadata": {},
   "outputs": [],
   "source": [
    "from model_nb_classifier import ModelNBClassifier\n",
    "from model_nb_tree_relation_classifier import ModelNBTreeRelationClassifier\n",
    "\n",
    "\n",
    "\n",
    "def train_and_predict(df, min_df=None):\n",
    "    m = ModelNBTreeRelationClassifier(\"PROTPART1\", \"PROTPART0\", min_df=min_df, trigger_words=ptm_trigger_words)\n",
    "    m.train(df[\"x\"], df[\"y\"])\n",
    "    return m, m.predict(df[\"x\"])[0]\n",
    "\n"
   ]
  },
  {
   "cell_type": "code",
   "execution_count": 7,
   "metadata": {},
   "outputs": [],
   "source": [
    "def isint(a):\n",
    "    try:\n",
    "        t = int(a)\n",
    "        return True\n",
    "    except:\n",
    "        return False\n",
    "    \n",
    "def float_percent_format(x):\n",
    "     return \"{:.1f}\".format(x*100)\n",
    "\n",
    "def int_format(x):\n",
    "     return str(int(x))\n",
    "\n",
    "def print_report(actual, pred, latex=True, labels=None, label_names = renamed_labels):\n",
    "\n",
    "    pos_f1 = sklearn.metrics.f1_score(actual, pred, labels=labels, average='micro',\n",
    "                                  sample_weight=None, zero_division=0)\n",
    "    all_f1 = sklearn.metrics.f1_score(actual, pred, average='micro', sample_weight=None, zero_division=0)\n",
    "    print(sklearn.metrics.classification_report(actual,\n",
    "                                            pred,\n",
    "                                            output_dict=False,\n",
    "                                            labels=labels,zero_division=0)\n",
    "     )\n",
    "    \n",
    "    \n",
    "    \n",
    "    if latex:\n",
    "        \n",
    "        d = sklearn.metrics.classification_report(actual,\n",
    "                                                pred,\n",
    "                                                output_dict=True,\n",
    "                                                labels=labels,zero_division=0)\n",
    "        df =  pd.DataFrame(d).T\n",
    "        df.index = list(map(lambda x: label_names[int(x)] if isint( x) else x, df.index))\n",
    "        \n",
    "        print(df.to_latex(formatters = {\"precision\": float_percent_format, \"recall\":float_percent_format, \"f1-score\":float_percent_format,\"support\":int_format }))\n",
    "        return df"
   ]
  },
  {
   "cell_type": "code",
   "execution_count": 8,
   "metadata": {},
   "outputs": [],
   "source": [
    "def plot_tree(m):\n",
    "    _, ax = plt.subplots(1,1, figsize=(45,15))\n",
    "\n",
    "    tree.plot_tree(m.tree_model, ax=ax, fontsize=10, feature_names=m.feature_names)\n",
    "\n",
    "    plt.show()"
   ]
  },
  {
   "cell_type": "code",
   "execution_count": 9,
   "metadata": {},
   "outputs": [],
   "source": [
    "def get_top_discrimintary_keywords(model, label_index ) :\n",
    "    index_to_vocab = {i:v  for v,i in model.vocab.items()}\n",
    "\n",
    "    return sorted( [ (index_to_vocab[i],p) for i,p in enumerate(model.nb_model.feature_log_prob_[label_index])], \n",
    "           reverse=True, key=lambda x: x[1])[:50]\n",
    "\n",
    "\n"
   ]
  },
  {
   "cell_type": "code",
   "execution_count": 10,
   "metadata": {},
   "outputs": [],
   "source": [
    "from sklearn.metrics import confusion_matrix, ConfusionMatrixDisplay\n",
    "\n",
    "\n",
    "def consolidate_label_names(actual, pred, label_names):\n",
    "    label_indices = list(set(actual).union(pred))\n",
    "    return [label_names[i] for i in sorted(label_indices)]\n",
    "\n",
    "def plot_confusionmatrix(y_true,y_pred):\n",
    "    cm = confusion_matrix(y_true,y_pred)\n",
    "    labels = consolidate_label_names( y_true,y_pred,label_names)\n",
    "    disp = ConfusionMatrixDisplay(confusion_matrix=cm, display_labels = labels)\n",
    "    disp.plot(cmap=\"PuBu\", xticks_rotation=\"vertical\")\n",
    "    "
   ]
  },
  {
   "cell_type": "code",
   "execution_count": 11,
   "metadata": {},
   "outputs": [],
   "source": [
    "m = ModelNBTreeRelationClassifier(\"PROTPART1\", \"PROTPART0\", trigger_words=ptm_trigger_words)"
   ]
  },
  {
   "cell_type": "markdown",
   "metadata": {},
   "source": [
    "## Train GT Train predictions"
   ]
  },
  {
   "cell_type": "code",
   "execution_count": 12,
   "metadata": {},
   "outputs": [
    {
     "name": "stdout",
     "output_type": "stream",
     "text": [
      "(1305, 11)\n",
      "(1305, 11)\n",
      "              precision    recall  f1-score   support\n",
      "\n",
      "           1       0.73      0.51      0.60       139\n",
      "           2       0.76      0.57      0.65        28\n",
      "           3       0.62      0.50      0.56        10\n",
      "           4       0.00      0.00      0.00         5\n",
      "           5       0.00      0.00      0.00         5\n",
      "           6       1.00      0.50      0.67         2\n",
      "\n",
      "   micro avg       0.73      0.49      0.59       189\n",
      "   macro avg       0.52      0.35      0.41       189\n",
      "weighted avg       0.69      0.49      0.58       189\n",
      "\n",
      "              precision    recall  f1-score   support\n",
      "\n",
      "           0       0.92      0.97      0.94      1116\n",
      "           1       0.73      0.51      0.60       139\n",
      "           2       0.76      0.57      0.65        28\n",
      "           3       0.62      0.50      0.56        10\n",
      "           4       0.00      0.00      0.00         5\n",
      "           5       0.00      0.00      0.00         5\n",
      "           6       1.00      0.50      0.67         2\n",
      "\n",
      "    accuracy                           0.90      1305\n",
      "   macro avg       0.58      0.44      0.49      1305\n",
      "weighted avg       0.89      0.90      0.89      1305\n",
      "\n"
     ]
    }
   ],
   "source": [
    "df_train = pd.read_json(trainfile, orient=\"records\")\n",
    "m.train(df_train[\"x\"], df_train[\"y\"])\n",
    "train_pred = m.predict(df_train[\"x\"])[0]\n",
    "\n",
    "print_report(df_train[\"y\"], train_pred, False, pos_labels)\n",
    "\n",
    "print_report(df_train[\"y\"], train_pred, False, all_labels)\n",
    "\n"
   ]
  },
  {
   "cell_type": "code",
   "execution_count": 13,
   "metadata": {},
   "outputs": [
    {
     "data": {
      "text/plain": [
       "[('protpart1', -3.301113923105173),\n",
       " ('protpart0', -3.7806870033670594),\n",
       " ('prtig0', -4.399726211773283),\n",
       " ('protein', -4.473834183927005),\n",
       " ('degradation', -4.553876891600542),\n",
       " ('proteins', -4.640888268590171),\n",
       " ('cell', -4.841558964052322),\n",
       " ('cells', -4.959341999708705),\n",
       " ('transcription', -4.959341999708705),\n",
       " ('prtig1', -4.959341999708705),\n",
       " ('dependent', -5.092873392333228),\n",
       " ('expression', -5.092873392333228),\n",
       " ('ubiquitin', -5.247024072160487),\n",
       " ('dna', -5.247024072160487),\n",
       " ('ubiquitination', -5.429345628954441),\n",
       " ('human', -5.429345628954441),\n",
       " ('suppressor', -5.429345628954441),\n",
       " ('activity', -5.429345628954441),\n",
       " ('phase', -5.429345628954441),\n",
       " ('protpart1 degradation', -5.429345628954441),\n",
       " ('depletion', -5.429345628954441),\n",
       " ('mediated', -5.429345628954441),\n",
       " ('function', -5.652489180268651),\n",
       " ('cell cycle', -5.652489180268651),\n",
       " ('kinases', -5.652489180268651),\n",
       " ('levels', -5.652489180268651),\n",
       " ('depletion protpart1', -5.652489180268651),\n",
       " ('cycle', -5.652489180268651),\n",
       " ('protpart1 protein', -5.652489180268651),\n",
       " ('complex', -5.652489180268651),\n",
       " ('regulate', -5.652489180268651),\n",
       " ('known', -5.652489180268651),\n",
       " ('protpart0 protpart1', -5.652489180268651),\n",
       " ('identify', -5.652489180268651),\n",
       " ('role', -5.652489180268651),\n",
       " ('sirna', -5.652489180268651),\n",
       " ('ligase', -5.652489180268651),\n",
       " ('response', -5.652489180268651),\n",
       " ('dna damage', -5.652489180268651),\n",
       " ('mechanism', -5.652489180268651),\n",
       " ('damage', -5.652489180268651),\n",
       " ('results', -5.652489180268651),\n",
       " ('demonstrate', -5.652489180268651),\n",
       " ('prtig2', -5.652489180268651),\n",
       " ('pathway', -5.652489180268651),\n",
       " ('regulation', -5.652489180268651),\n",
       " ('tumor', -5.652489180268651),\n",
       " ('leads', -5.652489180268651),\n",
       " ('protpart1 protpart1', -5.652489180268651),\n",
       " ('inhibits', -5.652489180268651)]"
      ]
     },
     "execution_count": 13,
     "metadata": {},
     "output_type": "execute_result"
    }
   ],
   "source": [
    "get_top_discrimintary_keywords(m, 4)\n"
   ]
  },
  {
   "cell_type": "markdown",
   "metadata": {},
   "source": [
    "## Val GT predictions\n"
   ]
  },
  {
   "cell_type": "code",
   "execution_count": 14,
   "metadata": {},
   "outputs": [
    {
     "name": "stdout",
     "output_type": "stream",
     "text": [
      "(200, 11)\n",
      "              precision    recall  f1-score   support\n",
      "\n",
      "           1       0.57      0.38      0.46        21\n",
      "           2       0.30      0.30      0.30        10\n",
      "           3       0.00      0.00      0.00         1\n",
      "           4       0.00      0.00      0.00         1\n",
      "           5       0.00      0.00      0.00         1\n",
      "           6       0.00      0.00      0.00         0\n",
      "\n",
      "   micro avg       0.46      0.32      0.38        34\n",
      "   macro avg       0.15      0.11      0.13        34\n",
      "weighted avg       0.44      0.32      0.37        34\n",
      "\n",
      "              precision    recall  f1-score   support\n",
      "\n",
      "           0       0.88      0.93      0.90       166\n",
      "           1       0.57      0.38      0.46        21\n",
      "           2       0.30      0.30      0.30        10\n",
      "           3       0.00      0.00      0.00         1\n",
      "           4       0.00      0.00      0.00         1\n",
      "           5       0.00      0.00      0.00         1\n",
      "           6       0.00      0.00      0.00         0\n",
      "\n",
      "   micro avg       0.82      0.82      0.82       200\n",
      "   macro avg       0.25      0.23      0.24       200\n",
      "weighted avg       0.80      0.82      0.81       200\n",
      "\n"
     ]
    }
   ],
   "source": [
    "df_val = pd.read_json(valfile, orient=\"records\")\n",
    "val_pred = m.predict(df_val[\"x\"])[0]\n",
    "print_report(df_val[\"y\"], val_pred, False, pos_labels)\n",
    "\n",
    "print_report(df_val[\"y\"], val_pred, False, all_labels)\n",
    "\n",
    "\n"
   ]
  },
  {
   "cell_type": "markdown",
   "metadata": {},
   "source": [
    "## Test "
   ]
  },
  {
   "cell_type": "markdown",
   "metadata": {},
   "source": [
    "### Predict Test on Train GT fit"
   ]
  },
  {
   "cell_type": "code",
   "execution_count": 15,
   "metadata": {},
   "outputs": [
    {
     "name": "stdout",
     "output_type": "stream",
     "text": [
      "(352, 11)\n",
      "              precision    recall  f1-score   support\n",
      "\n",
      "           1       0.65      0.39      0.49        44\n",
      "           2       0.60      0.50      0.55         6\n",
      "           3       0.50      0.25      0.33         4\n",
      "           4       0.00      0.00      0.00         1\n",
      "           5       0.00      0.00      0.00         1\n",
      "           6       0.00      0.00      0.00         0\n",
      "\n",
      "   micro avg       0.64      0.38      0.47        56\n",
      "   macro avg       0.29      0.19      0.23        56\n",
      "weighted avg       0.61      0.38      0.46        56\n",
      "\n",
      "              precision    recall  f1-score   support\n",
      "\n",
      "           1       0.65      0.39      0.49        44\n",
      "           2       0.60      0.50      0.55         6\n",
      "           3       0.50      0.25      0.33         4\n",
      "           4       0.00      0.00      0.00         1\n",
      "           5       0.00      0.00      0.00         1\n",
      "           6       0.00      0.00      0.00         0\n",
      "\n",
      "   micro avg       0.64      0.38      0.47        56\n",
      "   macro avg       0.29      0.19      0.23        56\n",
      "weighted avg       0.61      0.38      0.46        56\n",
      "\n",
      "\\begin{tabular}{lrrrr}\n",
      "\\toprule\n",
      "{} & precision & recall & f1-score & support \\\\\n",
      "\\midrule\n",
      "Phosphorylation   &      65.4 &   38.6 &     48.6 &      44 \\\\\n",
      "Dephosphorylation &      60.0 &   50.0 &     54.5 &       6 \\\\\n",
      "Methylation       &      50.0 &   25.0 &     33.3 &       4 \\\\\n",
      "Ubiquitination    &       0.0 &    0.0 &      0.0 &       1 \\\\\n",
      "Acetylation       &       0.0 &    0.0 &      0.0 &       1 \\\\\n",
      "Deubiquitination  &       0.0 &    0.0 &      0.0 &       0 \\\\\n",
      "micro avg         &      63.6 &   37.5 &     47.2 &      56 \\\\\n",
      "macro avg         &      29.2 &   18.9 &     22.7 &      56 \\\\\n",
      "weighted avg      &      61.4 &   37.5 &     46.4 &      56 \\\\\n",
      "\\bottomrule\n",
      "\\end{tabular}\n",
      "\n"
     ]
    },
    {
     "data": {
      "text/html": [
       "<div>\n",
       "<style scoped>\n",
       "    .dataframe tbody tr th:only-of-type {\n",
       "        vertical-align: middle;\n",
       "    }\n",
       "\n",
       "    .dataframe tbody tr th {\n",
       "        vertical-align: top;\n",
       "    }\n",
       "\n",
       "    .dataframe thead th {\n",
       "        text-align: right;\n",
       "    }\n",
       "</style>\n",
       "<table border=\"1\" class=\"dataframe\">\n",
       "  <thead>\n",
       "    <tr style=\"text-align: right;\">\n",
       "      <th></th>\n",
       "      <th>precision</th>\n",
       "      <th>recall</th>\n",
       "      <th>f1-score</th>\n",
       "      <th>support</th>\n",
       "    </tr>\n",
       "  </thead>\n",
       "  <tbody>\n",
       "    <tr>\n",
       "      <th>Phosphorylation</th>\n",
       "      <td>0.653846</td>\n",
       "      <td>0.386364</td>\n",
       "      <td>0.485714</td>\n",
       "      <td>44.0</td>\n",
       "    </tr>\n",
       "    <tr>\n",
       "      <th>Dephosphorylation</th>\n",
       "      <td>0.600000</td>\n",
       "      <td>0.500000</td>\n",
       "      <td>0.545455</td>\n",
       "      <td>6.0</td>\n",
       "    </tr>\n",
       "    <tr>\n",
       "      <th>Methylation</th>\n",
       "      <td>0.500000</td>\n",
       "      <td>0.250000</td>\n",
       "      <td>0.333333</td>\n",
       "      <td>4.0</td>\n",
       "    </tr>\n",
       "    <tr>\n",
       "      <th>Ubiquitination</th>\n",
       "      <td>0.000000</td>\n",
       "      <td>0.000000</td>\n",
       "      <td>0.000000</td>\n",
       "      <td>1.0</td>\n",
       "    </tr>\n",
       "    <tr>\n",
       "      <th>Acetylation</th>\n",
       "      <td>0.000000</td>\n",
       "      <td>0.000000</td>\n",
       "      <td>0.000000</td>\n",
       "      <td>1.0</td>\n",
       "    </tr>\n",
       "    <tr>\n",
       "      <th>Deubiquitination</th>\n",
       "      <td>0.000000</td>\n",
       "      <td>0.000000</td>\n",
       "      <td>0.000000</td>\n",
       "      <td>0.0</td>\n",
       "    </tr>\n",
       "    <tr>\n",
       "      <th>micro avg</th>\n",
       "      <td>0.636364</td>\n",
       "      <td>0.375000</td>\n",
       "      <td>0.471910</td>\n",
       "      <td>56.0</td>\n",
       "    </tr>\n",
       "    <tr>\n",
       "      <th>macro avg</th>\n",
       "      <td>0.292308</td>\n",
       "      <td>0.189394</td>\n",
       "      <td>0.227417</td>\n",
       "      <td>56.0</td>\n",
       "    </tr>\n",
       "    <tr>\n",
       "      <th>weighted avg</th>\n",
       "      <td>0.613736</td>\n",
       "      <td>0.375000</td>\n",
       "      <td>0.463884</td>\n",
       "      <td>56.0</td>\n",
       "    </tr>\n",
       "  </tbody>\n",
       "</table>\n",
       "</div>"
      ],
      "text/plain": [
       "                   precision    recall  f1-score  support\n",
       "Phosphorylation     0.653846  0.386364  0.485714     44.0\n",
       "Dephosphorylation   0.600000  0.500000  0.545455      6.0\n",
       "Methylation         0.500000  0.250000  0.333333      4.0\n",
       "Ubiquitination      0.000000  0.000000  0.000000      1.0\n",
       "Acetylation         0.000000  0.000000  0.000000      1.0\n",
       "Deubiquitination    0.000000  0.000000  0.000000      0.0\n",
       "micro avg           0.636364  0.375000  0.471910     56.0\n",
       "macro avg           0.292308  0.189394  0.227417     56.0\n",
       "weighted avg        0.613736  0.375000  0.463884     56.0"
      ]
     },
     "execution_count": 15,
     "metadata": {},
     "output_type": "execute_result"
    }
   ],
   "source": [
    "df_test = pd.read_json(testfile, orient=\"records\")\n",
    "df_test[\"train_shortcut_pred\"] = m.predict(df_test[\"x\"])[0]\n",
    "print_report(df_test[\"y\"], df_test[\"train_shortcut_pred\"], False, pos_labels)\n",
    "\n",
    "print_report(df_test[\"y\"], df_test[\"train_shortcut_pred\"], True, pos_labels)\n",
    "\n",
    "\n"
   ]
  },
  {
   "cell_type": "markdown",
   "metadata": {},
   "source": [
    "### Predict Test on Test GT fit"
   ]
  },
  {
   "cell_type": "code",
   "execution_count": 16,
   "metadata": {},
   "outputs": [
    {
     "name": "stdout",
     "output_type": "stream",
     "text": [
      "(352, 11)\n",
      "(352, 11)\n",
      "              precision    recall  f1-score   support\n",
      "\n",
      "           0       0.93      0.95      0.94       296\n",
      "           1       0.67      0.64      0.65        44\n",
      "           2       1.00      0.83      0.91         6\n",
      "           3       0.67      0.50      0.57         4\n",
      "           4       1.00      1.00      1.00         1\n",
      "           5       0.00      0.00      0.00         1\n",
      "           6       0.00      0.00      0.00         0\n",
      "\n",
      "   micro avg       0.90      0.90      0.90       352\n",
      "   macro avg       0.61      0.56      0.58       352\n",
      "weighted avg       0.90      0.90      0.90       352\n",
      "\n",
      "              precision    recall  f1-score   support\n",
      "\n",
      "           1       0.67      0.64      0.65        44\n",
      "           2       1.00      0.83      0.91         6\n",
      "           3       0.67      0.50      0.57         4\n",
      "           4       1.00      1.00      1.00         1\n",
      "           5       0.00      0.00      0.00         1\n",
      "           6       0.00      0.00      0.00         0\n",
      "\n",
      "   micro avg       0.71      0.64      0.67        56\n",
      "   macro avg       0.56      0.49      0.52        56\n",
      "weighted avg       0.70      0.64      0.67        56\n",
      "\n",
      "\\begin{tabular}{lrrrr}\n",
      "\\toprule\n",
      "{} & precision & recall & f1-score & support \\\\\n",
      "\\midrule\n",
      "Phosphorylation   &      66.7 &   63.6 &     65.1 &      44 \\\\\n",
      "Dephosphorylation &     100.0 &   83.3 &     90.9 &       6 \\\\\n",
      "Methylation       &      66.7 &   50.0 &     57.1 &       4 \\\\\n",
      "Ubiquitination    &     100.0 &  100.0 &    100.0 &       1 \\\\\n",
      "Acetylation       &       0.0 &    0.0 &      0.0 &       1 \\\\\n",
      "Deubiquitination  &       0.0 &    0.0 &      0.0 &       0 \\\\\n",
      "micro avg         &      70.6 &   64.3 &     67.3 &      56 \\\\\n",
      "macro avg         &      55.6 &   49.5 &     52.2 &      56 \\\\\n",
      "weighted avg      &      69.6 &   64.3 &     66.8 &      56 \\\\\n",
      "\\bottomrule\n",
      "\\end{tabular}\n",
      "\n"
     ]
    }
   ],
   "source": [
    "\n",
    "df_test[\"shortcut_pred\"] = train_and_predict(df_test, min_df=1)[1]\n",
    "l_test_gt = print_report(df_test[\"y\"],df_test[\"shortcut_pred\"], False, all_labels)\n",
    "l_test_gt = print_report(df_test[\"y\"],df_test[\"shortcut_pred\"], True, pos_labels)"
   ]
  },
  {
   "cell_type": "markdown",
   "metadata": {},
   "source": [
    "### Predict Test on Test Prediction fit "
   ]
  },
  {
   "cell_type": "code",
   "execution_count": 17,
   "metadata": {},
   "outputs": [
    {
     "name": "stdout",
     "output_type": "stream",
     "text": [
      "(352, 11)\n",
      "(352, 11)\n"
     ]
    },
    {
     "data": {
      "image/png": "[encoded data removed]",
      "text/plain": [
       "<Figure size 3240x1080 with 1 Axes>"
      ]
     },
     "metadata": {
      "needs_background": "light"
     },
     "output_type": "display_data"
    },
    {
     "name": "stdout",
     "output_type": "stream",
     "text": [
      "              precision    recall  f1-score   support\n",
      "\n",
      "           1       0.77      0.83      0.80        24\n",
      "           2       0.00      0.00      0.00         2\n",
      "           3       1.00      1.00      1.00         4\n",
      "           4       0.00      0.00      0.00         0\n",
      "           5       0.00      0.00      0.00         1\n",
      "           6       0.00      0.00      0.00         0\n",
      "\n",
      "   micro avg       0.80      0.77      0.79        31\n",
      "   macro avg       0.29      0.31      0.30        31\n",
      "weighted avg       0.72      0.77      0.75        31\n",
      "\n",
      "              precision    recall  f1-score   support\n",
      "\n",
      "           0       0.98      0.98      0.98       321\n",
      "           1       0.77      0.83      0.80        24\n",
      "           2       0.00      0.00      0.00         2\n",
      "           3       1.00      1.00      1.00         4\n",
      "           4       0.00      0.00      0.00         0\n",
      "           5       0.00      0.00      0.00         1\n",
      "           6       0.00      0.00      0.00         0\n",
      "\n",
      "   micro avg       0.96      0.96      0.96       352\n",
      "   macro avg       0.39      0.40      0.40       352\n",
      "weighted avg       0.96      0.96      0.96       352\n",
      "\n",
      "\\begin{tabular}{lrrrr}\n",
      "\\toprule\n",
      "{} & precision & recall & f1-score & support \\\\\n",
      "\\midrule\n",
      "Negative          &      97.8 &   98.1 &     98.0 &     321 \\\\\n",
      "Phosphorylation   &      76.9 &   83.3 &     80.0 &      24 \\\\\n",
      "Dephosphorylation &       0.0 &    0.0 &      0.0 &       2 \\\\\n",
      "Methylation       &     100.0 &  100.0 &    100.0 &       4 \\\\\n",
      "Ubiquitination    &       0.0 &    0.0 &      0.0 &       0 \\\\\n",
      "Acetylation       &       0.0 &    0.0 &      0.0 &       1 \\\\\n",
      "Deubiquitination  &       0.0 &    0.0 &      0.0 &       0 \\\\\n",
      "micro avg         &      96.3 &   96.3 &     96.3 &     352 \\\\\n",
      "macro avg         &      39.2 &   40.2 &     39.7 &     352 \\\\\n",
      "weighted avg      &      95.6 &   96.3 &     95.9 &     352 \\\\\n",
      "\\bottomrule\n",
      "\\end{tabular}\n",
      "\n"
     ]
    }
   ],
   "source": [
    "df_test_prediction = load_valtest_ensemble_pred(test_predictions_file)\n",
    "\n",
    "t_m, df_test_prediction[\"shortcut_pred\"] = train_and_predict(df_test_prediction, min_df=1)\n",
    "\n",
    "plot_tree(t_m)\n",
    "\n",
    "\n",
    "print_report(df_test_prediction[\"y\"], df_test_prediction[\"shortcut_pred\"], False, pos_labels)\n",
    "\n",
    "l_test_pred =  print_report(df_test_prediction[\"y\"], df_test_prediction[\"shortcut_pred\"], True, pos_labels)"
   ]
  },
  {
   "cell_type": "code",
   "execution_count": 18,
   "metadata": {},
   "outputs": [
    {
     "name": "stdout",
     "output_type": "stream",
     "text": [
      "\\begin{tabular}{lrrrrrrrr}\n",
      "\\toprule\n",
      "{} &  precision\\_x &  recall\\_x &  f1-score\\_x &  support\\_x &  precision\\_y &  recall\\_y &  f1-score\\_y &  support\\_y \\\\\n",
      "\\midrule\n",
      "Phosphorylation   &        76.9 &     83.3 &       80.0 &    2400.0 &        66.7 &     63.6 &       65.1 &    4400.0 \\\\\n",
      "Dephosphorylation &         0.0 &      0.0 &        0.0 &     200.0 &       100.0 &     83.3 &       90.9 &     600.0 \\\\\n",
      "Methylation       &       100.0 &    100.0 &      100.0 &     400.0 &        66.7 &     50.0 &       57.1 &     400.0 \\\\\n",
      "Ubiquitination    &         0.0 &      0.0 &        0.0 &       0.0 &       100.0 &    100.0 &      100.0 &     100.0 \\\\\n",
      "Acetylation       &         0.0 &      0.0 &        0.0 &     100.0 &         0.0 &      0.0 &        0.0 &     100.0 \\\\\n",
      "Deubiquitination  &         0.0 &      0.0 &        0.0 &       0.0 &         0.0 &      0.0 &        0.0 &       0.0 \\\\\n",
      "micro avg         &        96.3 &     96.3 &       96.3 &   35200.0 &        70.6 &     64.3 &       67.3 &    5600.0 \\\\\n",
      "macro avg         &        39.2 &     40.2 &       39.7 &   35200.0 &        55.6 &     49.5 &       52.2 &    5600.0 \\\\\n",
      "weighted avg      &        95.6 &     96.3 &       95.9 &   35200.0 &        69.6 &     64.3 &       66.8 &    5600.0 \\\\\n",
      "\\bottomrule\n",
      "\\end{tabular}\n",
      "\n"
     ]
    }
   ],
   "source": [
    "print(l_test_pred.merge(l_test_gt, left_index = True, right_index=True).to_latex(float_format= lambda x: f\"{x:.1%}\").replace(\"\\%\",\"\"))"
   ]
  },
  {
   "cell_type": "markdown",
   "metadata": {},
   "source": [
    "## Fit large scale hq"
   ]
  },
  {
   "cell_type": "code",
   "execution_count": null,
   "metadata": {},
   "outputs": [],
   "source": [
    "df_largescale_hq = load_large_scale(largescalefile)\n",
    "largescale_hq_m, df_largescale_hq[\"shortcut_pred\"] = train_and_predict(df_largescale_hq)\n",
    "plot_tree(largescale_hq_m)\n",
    "\n",
    "\n",
    "print_report(df_largescale_hq[\"y\"], df_largescale_hq[\"shortcut_pred\"], False, pos_labels)\n",
    "\n",
    "print_report(df_largescale_hq[\"y\"], df_largescale_hq[\"shortcut_pred\"], False, all_labels)\n",
    "\n"
   ]
  },
  {
   "cell_type": "code",
   "execution_count": null,
   "metadata": {},
   "outputs": [],
   "source": [
    "print_report(df_largescale_hq[\"y\"], df_largescale_hq[\"shortcut_pred\"], latex=True)\n",
    "\n"
   ]
  },
  {
   "cell_type": "code",
   "execution_count": null,
   "metadata": {},
   "outputs": [],
   "source": [
    "plot_confusionmatrix(df_largescale_hq[\"y\"], df_largescale_hq[\"shortcut_pred\"])\n",
    "plt.savefig(os.path.join(temp_dir,\"confusionMatrixPTMPHC.png\"))"
   ]
  },
  {
   "cell_type": "markdown",
   "metadata": {},
   "source": [
    "## Fit large scale low quality"
   ]
  },
  {
   "cell_type": "code",
   "execution_count": null,
   "metadata": {},
   "outputs": [],
   "source": [
    "df_low_quality = load_large_scale(largescale_low_hq)\n",
    "df_low_quality[\"shortcut_pred\"] = train_and_predict(df_low_quality)[1]\n",
    "\n"
   ]
  },
  {
   "cell_type": "code",
   "execution_count": null,
   "metadata": {},
   "outputs": [],
   "source": [
    "# Custom train\n",
    "print_report(df_low_quality[\"y\"], df_low_quality[\"shortcut_pred\"])\n",
    "\n"
   ]
  },
  {
   "cell_type": "code",
   "execution_count": null,
   "metadata": {},
   "outputs": [],
   "source": [
    "plot_confusionmatrix(df_low_quality[\"y\"], df_low_quality[\"shortcut_pred\"])"
   ]
  },
  {
   "cell_type": "code",
   "execution_count": null,
   "metadata": {},
   "outputs": [],
   "source": [
    "def prep_data(df, m):\n",
    "    df_t = df.copy(deep=True)\n",
    "    pred_class, pred_prob = m.predict(df[\"x\"])\n",
    "    df_t[\"nb_pred\"] = pred_class\n",
    "    df_t[\"nb_pred_conf\"] = pred_prob\n",
    "    df_t[\"nb_pred_raw\"] = df_t[\"nb_pred\"].apply(lambda i: label_names[i])\n",
    "    return df_t\n",
    "\n",
    "def plot_confidence(df_t):\n",
    "    labels =  list(df_t[\"y_raw\"].unique())   \n",
    "    print(labels)\n",
    "    _ , ax = plt.subplots(len(labels),1, figsize=(10,15))\n",
    "\n",
    "\n",
    "\n",
    "    for i,l in enumerate(labels):\n",
    "        t = df_t.query(f\"y_raw == '{l}'\")\n",
    "\n",
    "        ax[i].set_ylim(0,1)\n",
    "\n",
    "\n",
    "        ax[i].tick_params(\n",
    "            axis='x',          # changes apply to the x-axis\n",
    "            which='both',      # both major and minor ticks are affected\n",
    "            bottom=False,      # ticks along the bottom edge are off\n",
    "            top=False,         # ticks along the top edge are off\n",
    "            labelbottom=False)\n",
    "\n",
    "        ax[i].spines['bottom'].set_color('grey')\n",
    "        ax[i].spines['top'].set_color('grey') \n",
    "        ax[i].spines['right'].set_color('grey')\n",
    "        ax[i].spines['left'].set_color('grey')\n",
    "\n",
    "\n",
    "\n",
    "        ax[i].violinplot(t[\"confidence\"],  showmeans=True )\n",
    "        ax[i].set_title(f\"{l}\")\n",
    "\n",
    "\n",
    "plot_confidence(prep_data(df_largescale_hq, largescale_hq_m))\n",
    "\n",
    "plt.show()\n",
    "\n",
    "\n"
   ]
  }
 ],
 "metadata": {
  "kernelspec": {
   "display_name": "Python 3 (ipykernel)",
   "language": "python",
   "name": "python3"
  },
  "language_info": {
   "codemirror_mode": {
    "name": "ipython",
    "version": 3
   },
   "file_extension": ".py",
   "mimetype": "text/x-python",
   "name": "python",
   "nbconvert_exporter": "python",
   "pygments_lexer": "ipython3",
   "version": "3.8.9"
  }
 },
 "nbformat": 4,
 "nbformat_minor": 1
}