{
 "cells": [
  {
   "cell_type": "markdown",
   "metadata": {
    "collapsed": true
   },
   "source": [
    "# Self supervised Shortcut analysis"
   ]
  },
  {
   "cell_type": "code",
   "execution_count": 1,
   "metadata": {},
   "outputs": [],
   "source": [
    "s3_train_prediction=\"s3://aegovan-data/selfsupervised_chemprot/predictions_selfsupervised-bert-f1-2022-09-17-23-42-42-470/2022091718/train.json.json\"\n",
    "s3_test_prediction=\"s3://aegovan-data/selfsupervised_chemprot/predictions_selfsupervised-bert-f1-2022-09-17-23-42-42-470/2022091718/test.json.json\"\n",
    "s3_val_prediction=\"s3://aegovan-data/selfsupervised_chemprot/predictions_selfsupervised-bert-f1-2022-09-17-23-42-42-470/2022091718/val.json.json\"\n",
    "\n",
    "\n",
    "\n",
    "\n",
    "\n",
    "s3_largescale_high_quality_prediction = \"s3://aegovan-data/selfsupervised_chemprot/predictions_selfsupervised-bert-f1-2022-09-17-23-42-42-470/2022091920_negative_generalisation/highquality_sample.json\"\n",
    "s3_largescale_low_quality_prediction = \"s3://aegovan-data/selfsupervised_chemprot/predictions_selfsupervised-bert-f1-2022-09-17-23-42-42-470/2022091920_negative_generalisation/lowquality_sample.json\"\n",
    "\n",
    "\n",
    "\n",
    "\n",
    "x_column = \"abstract\"\n",
    "prediction_y_column = \"prediction\"\n",
    "\n",
    "\n",
    "label_names = [\"False\",\"True\"]\n",
    "all_labels = label_names"
   ]
  },
  {
   "cell_type": "markdown",
   "metadata": {},
   "source": [
    "## Download prediction"
   ]
  },
  {
   "cell_type": "code",
   "execution_count": 2,
   "metadata": {},
   "outputs": [],
   "source": [
    "import sys, os, pandas as pd, sklearn\n",
    "pd.set_option('display.max_colwidth',None)\n",
    "\n",
    "\n",
    "sys.path.append(\"../src\")\n",
    "\n",
    "from utils.s3_utils import download_file as download_s3_file"
   ]
  },
  {
   "cell_type": "code",
   "execution_count": 3,
   "metadata": {},
   "outputs": [],
   "source": [
    "local_temp= \"temp\""
   ]
  },
  {
   "cell_type": "code",
   "execution_count": 4,
   "metadata": {},
   "outputs": [],
   "source": [
    "local_prediction_dir = os.path.join(local_temp, \"prediction\")\n",
    "os.makedirs(local_prediction_dir, exist_ok=True)\n",
    "local_test_prediction_file  = download_s3_file( s3_test_prediction, local_prediction_dir)\n",
    "local_train_prediction_file  = download_s3_file( s3_train_prediction, local_prediction_dir)\n",
    "local_val_prediction_file  = download_s3_file( s3_val_prediction, local_prediction_dir)\n",
    "local_highquality_file = download_s3_file(s3_largescale_high_quality_prediction, local_prediction_dir)\n",
    "local_lowquality_file = download_s3_file(s3_largescale_low_quality_prediction, local_prediction_dir)\n",
    "\n",
    "\n",
    "\n"
   ]
  },
  {
   "cell_type": "markdown",
   "metadata": {},
   "source": [
    "## Utils"
   ]
  },
  {
   "cell_type": "code",
   "execution_count": 5,
   "metadata": {},
   "outputs": [],
   "source": [
    "keywords1 = [\"activation\", \"trigger\", \"interact\", \"inhibit\", \"regulat\", \"supress\"]\n",
    "\n",
    "keywords2 = [\"gene\", \"protein\", \"chemical\"]\n",
    "\n",
    "def self_label(df):\n",
    "    \n",
    "\n",
    "    df[\"self_label\"] = df[\"abstract\"].apply(lambda x: any([ k.lower() in x.lower() for k in keywords1]) \n",
    "                                        and sum([  k.lower() in x.lower() for k in keywords2])>=2\n",
    "                                     \n",
    "                                       )\n",
    "    df[\"self_label\"] =  df[\"self_label\"].astype(str)\n",
    "    \n",
    "    return df\n",
    "    \n",
    "\n",
    "def load_file(file, labels_order = label_names):\n",
    "    df = pd.read_json(file, orient=\"records\").pipe(self_label)\n",
    "    \n",
    "\n",
    "    df[\"x\"] = df[x_column]\n",
    "    df[\"gold\"] = df[\"self_label\"].apply(lambda x: labels_order.index(x))\n",
    "    df[\"gold_raw\"] = df[\"self_label\"]\n",
    "\n",
    "    df[\"y\"] = df[prediction_y_column].apply(lambda x: labels_order.index(str(x)))\n",
    "    df[\"y_raw\"] = df[prediction_y_column].astype(str)\n",
    "\n",
    "\n",
    "    #df = df.query(\"is_eval == 'Y'\").copy()\n",
    "\n",
    "    return df"
   ]
  },
  {
   "cell_type": "code",
   "execution_count": 6,
   "metadata": {},
   "outputs": [],
   "source": [
    "import transformers\n",
    "\n",
    "def hf_analyser():\n",
    "    t = transformers.AutoTokenizer.from_pretrained(\"bert-base-cased\")\n",
    "\n",
    "\n",
    "    return lambda x: t.convert_ids_to_tokens(t([x], add_special_tokens=False)[\"input_ids\"][0])[:512]\n",
    "    "
   ]
  },
  {
   "cell_type": "code",
   "execution_count": 7,
   "metadata": {},
   "outputs": [],
   "source": [
    "from model_nb_relation_classifier import ModelNBRelationClassifier\n",
    "from model_nb_tree_relation_classifier import ModelNBTreeRelationClassifier\n",
    "from model_tree_relation_classifier import ModelTreeRelationClassifier\n",
    "\n",
    "NAIVE_BAYES=\"Naive Bayes\"\n",
    "NAIVE_BAYES_WITH_TREE = \"Naive Bayes + Tree\"\n",
    "TREE = \"Tree\"\n",
    "\n",
    "def  train_and_predict_all_classifiers(df, min_df=None, ngram_range=(1,1), stop_words = 'english', classifiers={NAIVE_BAYES}, max_words_per_class=5000, classwise_vocab=True):\n",
    "    \n",
    "    max_tree_depth = 8\n",
    "    min_df = min_df or 3\n",
    "    \n",
    "    nb_kwargs = {\n",
    "        \"min_df\": min_df,\n",
    "        \"max_words_per_class\":max_words_per_class, \n",
    "        \"stop_words\": stop_words, \n",
    "        \"ngram_range\": ngram_range, \n",
    "        \"classwise_vocab\": classwise_vocab,\n",
    "        \"analyzer\" : hf_analyser()\n",
    "    }\n",
    "    \n",
    "   \n",
    "    \n",
    "    classifiers_map = {\n",
    "        NAIVE_BAYES : ModelNBRelationClassifier(None, None, **nb_kwargs),\n",
    "    \n",
    "    }\n",
    "    \n",
    "    result = {}\n",
    "    for k in filter(lambda x: x in classifiers,  classifiers_map):\n",
    "    \n",
    "        m = classifiers_map[k]\n",
    "        \n",
    "        print(f\"Training {k}\")\n",
    "        \n",
    "        m.train(df[\"x\"], df[\"y\"])\n",
    "        p, p_conf = m.predict(df[\"x\"])\n",
    "        result[k] = {\n",
    "            \"m\" : m,\n",
    "            \"predictions\" : p,\n",
    "             \"predictions_conf\": p_conf\n",
    "        }\n",
    "    return result\n",
    "\n",
    "\n",
    "def  predict_all_classifiers(df, models_dict):\n",
    "   \n",
    "    \n",
    "   \n",
    "    \n",
    "    result = {}\n",
    "    for k, v in models_dict.items():\n",
    "        m = v[\"m\"]\n",
    "        \n",
    "        p, p_conf = m.predict(df[\"x\"])\n",
    "        result[k] = {\n",
    "            \"m\" : m,\n",
    "            \"predictions\" : p,\n",
    "            \"predictions_conf\": p_conf\n",
    "        }\n",
    "    return result\n",
    "\n",
    "\n"
   ]
  },
  {
   "cell_type": "code",
   "execution_count": 8,
   "metadata": {},
   "outputs": [],
   "source": [
    "import tempfile\n",
    "\n",
    "def isint(a):\n",
    "    try:\n",
    "        t = int(a)\n",
    "        return True\n",
    "    except:\n",
    "        return False\n",
    "\n",
    "def float_percent_format(x):\n",
    "     return \"{:.1f}\".format(x*100)\n",
    "\n",
    "def int_format(x):\n",
    "     return str(int(x))\n",
    "\n",
    "def print_report(actual, pred,  label_names = label_names):\n",
    "\n",
    "    \n",
    "  \n",
    "        \n",
    "    d = sklearn.metrics.classification_report(actual,\n",
    "                                            pred,\n",
    "                                            output_dict=True,zero_division=0)\n",
    "    df =  pd.DataFrame(d).T\n",
    "    df.index = list(map(lambda x: label_names[int(x)] if isint( x) else x, df.index))\n",
    "\n",
    "    return df\n",
    "    \n",
    "\n",
    "def print_report_all_classifiers(actual, results_dict, *args, **kwargs):\n",
    "    result = []\n",
    "    \n",
    "    for k, v in results_dict.items():\n",
    "\n",
    "        df = print_report(actual,v[\"predictions\"],  *args, **kwargs)\n",
    "        df.insert (0, \"model\", k)\n",
    "        \n",
    "        result.append(df)\n",
    "    df = pd.concat(result)\n",
    "    df.insert(1, \"index\", df.index)\n",
    "    \n",
    "    print(df.to_latex(index=False, formatters = {\"precision\": float_percent_format, \"recall\":float_percent_format, \"f1-score\":float_percent_format,\"support\":int_format }))\n",
    "    return df    \n",
    "    "
   ]
  },
  {
   "cell_type": "code",
   "execution_count": 9,
   "metadata": {},
   "outputs": [],
   "source": [
    "def plot_tree(m):\n",
    "    _, ax = plt.subplots(1,1, figsize=(45,15))\n",
    "\n",
    "    tree.plot_tree(m.tree_model, ax=ax, fontsize=10, feature_names=m.feature_names)\n",
    "\n",
    "    plt.show()"
   ]
  },
  {
   "cell_type": "code",
   "execution_count": 10,
   "metadata": {},
   "outputs": [],
   "source": [
    "def get_top_discrimintary_keywords(model, label_index ) :\n",
    "    index_to_vocab = {i:v  for v,i in model.vocab.items()}\n",
    "\n",
    "    return sorted( [ (index_to_vocab[i],p) for i,p in enumerate(model.nb_model.feature_log_prob_[label_index])], \n",
    "           reverse=True, key=lambda x: x[1])\n",
    "\n",
    "\n"
   ]
  },
  {
   "cell_type": "code",
   "execution_count": 11,
   "metadata": {},
   "outputs": [],
   "source": [
    "from sklearn.metrics import confusion_matrix, ConfusionMatrixDisplay\n",
    "\n",
    "\n",
    "def consolidate_label_names(actual, pred, label_names):\n",
    "    label_indices = list(set(actual).union(pred))\n",
    "    return [label_names[i] for i in sorted(label_indices)]\n",
    "\n",
    "def plot_confusionmatrix(y_true,y_pred, normalize=None):\n",
    "    cm = confusion_matrix(y_true,y_pred, normalize=normalize)\n",
    "    labels = consolidate_label_names( y_true,y_pred,label_names)\n",
    "    disp = ConfusionMatrixDisplay(confusion_matrix=cm, display_labels = labels)\n",
    "    disp.plot(cmap=\"PuBu\", xticks_rotation=\"vertical\")"
   ]
  },
  {
   "cell_type": "code",
   "execution_count": 12,
   "metadata": {},
   "outputs": [],
   "source": [
    "import math\n",
    "from scipy.spatial import distance\n",
    "\n",
    "\n",
    "def _build_list(l1,l2, use_common_only=True):\n",
    "    word_index = {w:i for i,(w,p) in enumerate(l1)}\n",
    "    for w,_ in l2:\n",
    "        if w not in word_index: word_index[w]=len(word_index)\n",
    "           \n",
    "    if use_common_only:\n",
    "        intersection = set([w for w,_ in l2]).intersection(set([w for w,_ in l1]))\n",
    "        word_index = {w:i for i,w in enumerate(intersection)}\n",
    "\n",
    "\n",
    "    \n",
    "    l1_r = [0.00000000   for _ in range(len(word_index))]\n",
    "    for i, (w,p) in enumerate( filter(lambda x:x[0] in word_index ,l1)):        \n",
    "        l1_r[word_index[w] ] = math.exp(p)\n",
    "        \n",
    "    l2_r = [0.00000000   for _ in range(len(word_index))]\n",
    "    for i, (w,p) in enumerate( filter(lambda x:x[0] in word_index ,l2)):\n",
    "        l2_r[word_index[w] ] = math.exp(p)\n",
    "    \n",
    "    return l1_r,l2_r\n",
    "\n",
    "def js_divergence(p_keyword, q_keyword, use_common_only=True):\n",
    "    p,q = _build_list(p_keyword, q_keyword, use_common_only=use_common_only)\n",
    "    return distance.jensenshannon(p,q, 2.71828)\n",
    "\n",
    "def kl_divergence(p_keyword, q_keyword, use_common_only=True):\n",
    "    p,q = _build_list(p_keyword, q_keyword, use_common_only=use_common_only)\n",
    "    return sum(p[i] * math.log(p[i]/q[i]) for i in range(len(p)))"
   ]
  },
  {
   "cell_type": "code",
   "execution_count": 13,
   "metadata": {},
   "outputs": [],
   "source": [
    "import scipy\n",
    "\n",
    "def jaccard(list1, list2):\n",
    "    intersection = len(list(set(list1).intersection(list2)))\n",
    "    union = (len(list1) + len(list2)) - intersection\n",
    "    return float(intersection) / union\n",
    "\n"
   ]
  },
  {
   "cell_type": "code",
   "execution_count": null,
   "metadata": {},
   "outputs": [],
   "source": []
  },
  {
   "cell_type": "code",
   "execution_count": 14,
   "metadata": {},
   "outputs": [],
   "source": [
    "from sklearn.metrics import confusion_matrix, ConfusionMatrixDisplay\n",
    "\n",
    "def plot_cm(df, normalize=None):\n",
    "\n",
    "    cm = confusion_matrix(df[\"self_label\"],\n",
    "                          df[\"prediction\"], \n",
    "                          normalize=normalize)\n",
    "    disp = ConfusionMatrixDisplay(confusion_matrix=cm)\n",
    "    disp.plot()\n",
    "    \n"
   ]
  },
  {
   "cell_type": "markdown",
   "metadata": {},
   "source": [
    "## Train GT Train predictions"
   ]
  },
  {
   "cell_type": "code",
   "execution_count": 15,
   "metadata": {},
   "outputs": [],
   "source": [
    "df_train = load_file(local_train_prediction_file)\n"
   ]
  },
  {
   "cell_type": "code",
   "execution_count": 16,
   "metadata": {},
   "outputs": [
    {
     "data": {
      "text/html": [
       "<div>\n",
       "<style scoped>\n",
       "    .dataframe tbody tr th:only-of-type {\n",
       "        vertical-align: middle;\n",
       "    }\n",
       "\n",
       "    .dataframe tbody tr th {\n",
       "        vertical-align: top;\n",
       "    }\n",
       "\n",
       "    .dataframe thead th {\n",
       "        text-align: right;\n",
       "    }\n",
       "</style>\n",
       "<table border=\"1\" class=\"dataframe\">\n",
       "  <thead>\n",
       "    <tr style=\"text-align: right;\">\n",
       "      <th></th>\n",
       "      <th>abstract</th>\n",
       "      <th>abstract_id</th>\n",
       "      <th>false</th>\n",
       "      <th>true</th>\n",
       "      <th>prediction</th>\n",
       "      <th>confidence</th>\n",
       "      <th>confidence_std</th>\n",
       "      <th>raw_confidence</th>\n",
       "      <th>self_label</th>\n",
       "      <th>x</th>\n",
       "      <th>gold</th>\n",
       "      <th>gold_raw</th>\n",
       "      <th>y</th>\n",
       "      <th>y_raw</th>\n",
       "    </tr>\n",
       "  </thead>\n",
       "  <tbody>\n",
       "    <tr>\n",
       "      <th>0</th>\n",
       "      <td>Cyclin E-cdk2 activation is associated with cell cycle arrest and inhibition of DNA replication induced by the thymidylate synthase inhibitor Tomudex. Tomudex (ZD1694) is a specific antifolate-based thymidylate synthase inhibitor active in a variety of solid tumor malignancies. Studies were carried out in vitro to evaluate downstream molecular alterations induced as a consequence of the potent and sustained inhibition of thymidylate synthase by Tomudex. Twenty-four hours following the initial 2-h treatment with Tomudex, human A253 head and neck squamous carcinoma cells, not expressing p53 and p21(WAF1), were accumulated with DNA content characteristic of early S phase of the cell cycle with a concomitant reduction of cells in G1 and G2/M phases. The changes in cyclin and cdk protein expression and their kinase activities were examined in control and drug-treated A253 cells. Tomudex treatment resulted in the decrease in p27(kip1) expression, with an increase in cyclin E and cdk2 protein expression and kinase activities 24 h after a 2-h exposure. Although cyclin A protein expression was markedly increased, cyclin A kinase activity was only slightly increased. Cyclin D1, cyclin B, cdk4, and cdc2 protein expression and kinase activities remain constant. Lack of activation of cyclin A- and B-cdc2 was associated with a reduced proportion of cells in G2/M phases. Increased cyclin E-cdk2 protein expression was accompanied by the inhibition of DNA synthesis, with a decrease in E2F-1 expression. These results propose that cyclin E-cdk2 kinase can negatively regulate DNA replication. The studies with dThyd rescue from cyclin E-cdk2 protein overexpression and growth inhibition by Tomudex indicate that increased cyclin E-cdk2 protein expression is associated with effective inhibition of thymidylate synthase and resultant dNTP pool imbalance. Provision of dThyd more than 24 h after exposure to Tomudex allowed cells to replicate DNA for a single cycle back to G1, but did not prevent the profound growth-inhibitory effect manifested in the following 5 days. Tomudex treatment resulted in a time-dependent induction of the megabase DNA fragments, followed by secondary 50- to 300-kb DNA fragmentation. The 50- to 300-kb DNA fragmentation may be derived from the inhibition of DNA synthesis associated with cyclin E-cdk2 activation. These results suggest that the megabase DNA fragmentation is induced as a consequence of inhibition of thymidylate synthase by Tomudex and kilobase DNA fragmentation may correlate with the reduction of p27(kip1) expression and the increase in cyclin E and cdk2 kinase activities. Activation of cyclin E and cdk2 kinases allows cells to transit from G1 to S phase accompanied by the inhibition of DNA synthesis. The changes in cell cycle regulatory proteins associated with growth inhibition and DNA damage by Tomudex are not p53 dependent.</td>\n",
       "      <td>10047461</td>\n",
       "      <td>0.997039</td>\n",
       "      <td>0.002961</td>\n",
       "      <td>False</td>\n",
       "      <td>0.997039</td>\n",
       "      <td>NaN</td>\n",
       "      <td>[0.9970393776893611]</td>\n",
       "      <td>False</td>\n",
       "      <td>Cyclin E-cdk2 activation is associated with cell cycle arrest and inhibition of DNA replication induced by the thymidylate synthase inhibitor Tomudex. Tomudex (ZD1694) is a specific antifolate-based thymidylate synthase inhibitor active in a variety of solid tumor malignancies. Studies were carried out in vitro to evaluate downstream molecular alterations induced as a consequence of the potent and sustained inhibition of thymidylate synthase by Tomudex. Twenty-four hours following the initial 2-h treatment with Tomudex, human A253 head and neck squamous carcinoma cells, not expressing p53 and p21(WAF1), were accumulated with DNA content characteristic of early S phase of the cell cycle with a concomitant reduction of cells in G1 and G2/M phases. The changes in cyclin and cdk protein expression and their kinase activities were examined in control and drug-treated A253 cells. Tomudex treatment resulted in the decrease in p27(kip1) expression, with an increase in cyclin E and cdk2 protein expression and kinase activities 24 h after a 2-h exposure. Although cyclin A protein expression was markedly increased, cyclin A kinase activity was only slightly increased. Cyclin D1, cyclin B, cdk4, and cdc2 protein expression and kinase activities remain constant. Lack of activation of cyclin A- and B-cdc2 was associated with a reduced proportion of cells in G2/M phases. Increased cyclin E-cdk2 protein expression was accompanied by the inhibition of DNA synthesis, with a decrease in E2F-1 expression. These results propose that cyclin E-cdk2 kinase can negatively regulate DNA replication. The studies with dThyd rescue from cyclin E-cdk2 protein overexpression and growth inhibition by Tomudex indicate that increased cyclin E-cdk2 protein expression is associated with effective inhibition of thymidylate synthase and resultant dNTP pool imbalance. Provision of dThyd more than 24 h after exposure to Tomudex allowed cells to replicate DNA for a single cycle back to G1, but did not prevent the profound growth-inhibitory effect manifested in the following 5 days. Tomudex treatment resulted in a time-dependent induction of the megabase DNA fragments, followed by secondary 50- to 300-kb DNA fragmentation. The 50- to 300-kb DNA fragmentation may be derived from the inhibition of DNA synthesis associated with cyclin E-cdk2 activation. These results suggest that the megabase DNA fragmentation is induced as a consequence of inhibition of thymidylate synthase by Tomudex and kilobase DNA fragmentation may correlate with the reduction of p27(kip1) expression and the increase in cyclin E and cdk2 kinase activities. Activation of cyclin E and cdk2 kinases allows cells to transit from G1 to S phase accompanied by the inhibition of DNA synthesis. The changes in cell cycle regulatory proteins associated with growth inhibition and DNA damage by Tomudex are not p53 dependent.</td>\n",
       "      <td>0</td>\n",
       "      <td>False</td>\n",
       "      <td>0</td>\n",
       "      <td>False</td>\n",
       "    </tr>\n",
       "    <tr>\n",
       "      <th>1</th>\n",
       "      <td>New aspects in the management of obesity: operation and the impact of lipase inhibitors. Obesity is an increasing health problem in most developed countries and its prevalence is also increasing in developing countries. There has been no great success with dietary means and life style modification for permanent weight loss. Various surgical treatment methods for obesity are now available. They are aimed at limiting oral energy intake with or without causing dumping or inducing selective maldigestion and malabsorption. Based on current literature, up to 75% of excess weight is lost by surgical treatment with concomitant disappearance of hyperlipidaemias, type 2 diabetes, hypertension or sleep apnoea. The main indication for operative treatment is morbid obesity (body mass index greater than 40 kg/m2) or severe obesity (body mass index &gt; 35 kg/m2) with comorbidities of obesity. Orlistat is a new inhibitor of pancreatic lipase enzyme. At doses of 120 mg three times per day with meals it results in a 30% reduction in dietary fat absorption, which equals approximately 200 kcal daily energy deficit. In the long term, orlistat has been shown to be more effective than placebo in reducing body weight and serum total and low-density lipoprotein cholesterol levels. Orlistat has a lowering effect on serum cholesterol independent of weight loss. Along with weight loss, orlistat also favourably affects blood pressure and glucose and insulin levels in obese individuals and in obese type 2 diabetic patients.</td>\n",
       "      <td>10095983</td>\n",
       "      <td>0.999303</td>\n",
       "      <td>0.000697</td>\n",
       "      <td>False</td>\n",
       "      <td>0.999303</td>\n",
       "      <td>NaN</td>\n",
       "      <td>[0.999302744865417]</td>\n",
       "      <td>False</td>\n",
       "      <td>New aspects in the management of obesity: operation and the impact of lipase inhibitors. Obesity is an increasing health problem in most developed countries and its prevalence is also increasing in developing countries. There has been no great success with dietary means and life style modification for permanent weight loss. Various surgical treatment methods for obesity are now available. They are aimed at limiting oral energy intake with or without causing dumping or inducing selective maldigestion and malabsorption. Based on current literature, up to 75% of excess weight is lost by surgical treatment with concomitant disappearance of hyperlipidaemias, type 2 diabetes, hypertension or sleep apnoea. The main indication for operative treatment is morbid obesity (body mass index greater than 40 kg/m2) or severe obesity (body mass index &gt; 35 kg/m2) with comorbidities of obesity. Orlistat is a new inhibitor of pancreatic lipase enzyme. At doses of 120 mg three times per day with meals it results in a 30% reduction in dietary fat absorption, which equals approximately 200 kcal daily energy deficit. In the long term, orlistat has been shown to be more effective than placebo in reducing body weight and serum total and low-density lipoprotein cholesterol levels. Orlistat has a lowering effect on serum cholesterol independent of weight loss. Along with weight loss, orlistat also favourably affects blood pressure and glucose and insulin levels in obese individuals and in obese type 2 diabetic patients.</td>\n",
       "      <td>0</td>\n",
       "      <td>False</td>\n",
       "      <td>0</td>\n",
       "      <td>False</td>\n",
       "    </tr>\n",
       "    <tr>\n",
       "      <th>2</th>\n",
       "      <td>Cyclopentenone prostaglandins suppress activation of microglia: down-regulation of inducible nitric-oxide synthase by 15-deoxy-Delta12,14-prostaglandin J2. Mechanisms leading to down-regulation of activated microglia and astrocytes are poorly understood, in spite of the potentially detrimental role of activated glia in neurodegeneration. Prostaglandins, produced both by neurons and glia, may serve as mediators of glial and neuronal functions. We examined the influence of cyclopentenone prostaglandins and their precursors on activated glia. As models of glial activation, production of inducible nitric-oxide synthase (iNOS) was studied in lipopolysaccharide-stimulated rat microglia, a murine microglial cell line BV-2, and IL-1beta-stimulated rat astrocytes. Cyclopentenone prostaglandins were potent inhibitors of iNOS induction and were more effective than their precursors, prostaglandins E2 and D2. 15-Deoxy-Delta12,14-prostaglandin J2 (15d-PGJ2) was the most potent prostaglandin among those tested. In activated microglia, 15d-PGJ2 suppressed iNOS promoter activity, iNOS mRNA, and protein levels. The action of 15d-PGJ2 does not appear to involve its nuclear receptor peroxisome proliferator-activated receptor gamma (PPARgamma) because troglitazone, a specific ligand of PPARgamma, was unable to inhibit iNOS induction, and neither troglitazone nor 15d-PGJ2 could stimulate the activity of a PPAR-dependent promoter in the absence of cotransfected PPARgamma. 15d-PGJ2 did not block nuclear translocation or DNA-binding activity of the transcription factor NFkappaB, but it did inhibit the activity of an NFkappaB reporter construct, suggesting that the mechanism of suppression of microglial iNOS by 15d-PGJ2 may involve interference with NFkappaB transcriptional activity in the nucleus. Thus, our data suggest the existence of a novel pathway mediated by cyclopentenone prostaglandins, which may represent part of a feedback mechanism leading to the cessation of inflammatory glial responses in the brain.</td>\n",
       "      <td>10200320</td>\n",
       "      <td>0.011538</td>\n",
       "      <td>0.988462</td>\n",
       "      <td>True</td>\n",
       "      <td>0.988462</td>\n",
       "      <td>NaN</td>\n",
       "      <td>[0.9884617328643791]</td>\n",
       "      <td>True</td>\n",
       "      <td>Cyclopentenone prostaglandins suppress activation of microglia: down-regulation of inducible nitric-oxide synthase by 15-deoxy-Delta12,14-prostaglandin J2. Mechanisms leading to down-regulation of activated microglia and astrocytes are poorly understood, in spite of the potentially detrimental role of activated glia in neurodegeneration. Prostaglandins, produced both by neurons and glia, may serve as mediators of glial and neuronal functions. We examined the influence of cyclopentenone prostaglandins and their precursors on activated glia. As models of glial activation, production of inducible nitric-oxide synthase (iNOS) was studied in lipopolysaccharide-stimulated rat microglia, a murine microglial cell line BV-2, and IL-1beta-stimulated rat astrocytes. Cyclopentenone prostaglandins were potent inhibitors of iNOS induction and were more effective than their precursors, prostaglandins E2 and D2. 15-Deoxy-Delta12,14-prostaglandin J2 (15d-PGJ2) was the most potent prostaglandin among those tested. In activated microglia, 15d-PGJ2 suppressed iNOS promoter activity, iNOS mRNA, and protein levels. The action of 15d-PGJ2 does not appear to involve its nuclear receptor peroxisome proliferator-activated receptor gamma (PPARgamma) because troglitazone, a specific ligand of PPARgamma, was unable to inhibit iNOS induction, and neither troglitazone nor 15d-PGJ2 could stimulate the activity of a PPAR-dependent promoter in the absence of cotransfected PPARgamma. 15d-PGJ2 did not block nuclear translocation or DNA-binding activity of the transcription factor NFkappaB, but it did inhibit the activity of an NFkappaB reporter construct, suggesting that the mechanism of suppression of microglial iNOS by 15d-PGJ2 may involve interference with NFkappaB transcriptional activity in the nucleus. Thus, our data suggest the existence of a novel pathway mediated by cyclopentenone prostaglandins, which may represent part of a feedback mechanism leading to the cessation of inflammatory glial responses in the brain.</td>\n",
       "      <td>1</td>\n",
       "      <td>True</td>\n",
       "      <td>1</td>\n",
       "      <td>True</td>\n",
       "    </tr>\n",
       "    <tr>\n",
       "      <th>3</th>\n",
       "      <td>Phospholipase A2 inhibitors p-bromophenacyl bromide and arachidonyl trifluoromethyl ketone suppressed interleukin-2 (IL-2) expression in murine primary splenocytes. Phospholipase A2 (PLA2) has been postulated to play a role in the regulation of cytokine expression. Therefore, the objective of the present study was to investigate the effects of PLA2 inhibitors p-bromophenacyl bromide (BPB) and arachidonyl trifluoromethyl ketone (AACOCF3) on interleukin-2 (IL-2) expression in murine primary splenocytes. Pretreatment of the splenocytes with both BPB and AACOCF3 suppressed phorbol 12-myristate 13-acetate plus ionomycin-induced IL-2 secretion in a concentration-dependent manner. Inhibition &gt; 90% of IL-2 secretion was observed at 1 microM BPB and 10 microM AACOCF3 compared to the respective vehicle control. Likewise, IL-2 steady-state mRNA expression was inhibited by both PLA2 inhibitors in a concentration-dependent fashion with &gt; 90% inhibition at 1 microM BPB and 20 microM AACOCF3. Taken together, these data demonstrated that PLA2 inhibitors BPB and AACOCF3 are robust inhibitors of IL-2 expression at both the mRNA and protein levels in murine splenocytes. Moreover, these findings suggest that drugs and chemicals which inhibit PLA2 may have marked effects on T-cell function.</td>\n",
       "      <td>10207608</td>\n",
       "      <td>0.002117</td>\n",
       "      <td>0.997883</td>\n",
       "      <td>True</td>\n",
       "      <td>0.997883</td>\n",
       "      <td>NaN</td>\n",
       "      <td>[0.9978830218315121]</td>\n",
       "      <td>True</td>\n",
       "      <td>Phospholipase A2 inhibitors p-bromophenacyl bromide and arachidonyl trifluoromethyl ketone suppressed interleukin-2 (IL-2) expression in murine primary splenocytes. Phospholipase A2 (PLA2) has been postulated to play a role in the regulation of cytokine expression. Therefore, the objective of the present study was to investigate the effects of PLA2 inhibitors p-bromophenacyl bromide (BPB) and arachidonyl trifluoromethyl ketone (AACOCF3) on interleukin-2 (IL-2) expression in murine primary splenocytes. Pretreatment of the splenocytes with both BPB and AACOCF3 suppressed phorbol 12-myristate 13-acetate plus ionomycin-induced IL-2 secretion in a concentration-dependent manner. Inhibition &gt; 90% of IL-2 secretion was observed at 1 microM BPB and 10 microM AACOCF3 compared to the respective vehicle control. Likewise, IL-2 steady-state mRNA expression was inhibited by both PLA2 inhibitors in a concentration-dependent fashion with &gt; 90% inhibition at 1 microM BPB and 20 microM AACOCF3. Taken together, these data demonstrated that PLA2 inhibitors BPB and AACOCF3 are robust inhibitors of IL-2 expression at both the mRNA and protein levels in murine splenocytes. Moreover, these findings suggest that drugs and chemicals which inhibit PLA2 may have marked effects on T-cell function.</td>\n",
       "      <td>1</td>\n",
       "      <td>True</td>\n",
       "      <td>1</td>\n",
       "      <td>True</td>\n",
       "    </tr>\n",
       "    <tr>\n",
       "      <th>4</th>\n",
       "      <td>Both 5-HT1B and 5-HT1F receptors modulate c-fos expression within rat trigeminal nucleus caudalis. A possible mechanism of action of antimigraine drugs such as sumatriptan is inhibition of the trigeminovascular pathway. Sumatriptan's effects might be mediated by 5-HT1B, 5-HT1D or 5-HT1F receptors. To establish the relative importance of these subtypes, we compared the effects of sumatriptan with those of a selective 5-HT1F receptor agonist (LY 344864) on c-fos protein expression in the trigeminal nucleus caudalis. c-fos expression was induced in urethane-anaesthetized rats by intracisternal capsaicin administration. Sumatriptan and LY 344864 decreased the number of capsaicin-induced c-fos-like immunoreactive cells within trigeminal nucleus caudalis (ID50 = 0.04 and 0.6 mg kg(-1)). The effect of sumatriptan, but not of LY 344864, was prevented by pretreatment with the antagonist SDZ 21-009, which displays high affinity for rat 5-HT1B receptors. LY 344864 appears to attenuate c-fos-like immunoreactivity via 5-HT1F receptors, while sumatriptan acts via 5-HT1B receptors. The fact that activation of 5-HT1F receptors is sufficient to modulate the activity of the trigeminal system suggests that this receptor may be a target for antimigraine drugs with improved safety profile.</td>\n",
       "      <td>10225363</td>\n",
       "      <td>0.998454</td>\n",
       "      <td>0.001546</td>\n",
       "      <td>False</td>\n",
       "      <td>0.998454</td>\n",
       "      <td>NaN</td>\n",
       "      <td>[0.998453855514526]</td>\n",
       "      <td>False</td>\n",
       "      <td>Both 5-HT1B and 5-HT1F receptors modulate c-fos expression within rat trigeminal nucleus caudalis. A possible mechanism of action of antimigraine drugs such as sumatriptan is inhibition of the trigeminovascular pathway. Sumatriptan's effects might be mediated by 5-HT1B, 5-HT1D or 5-HT1F receptors. To establish the relative importance of these subtypes, we compared the effects of sumatriptan with those of a selective 5-HT1F receptor agonist (LY 344864) on c-fos protein expression in the trigeminal nucleus caudalis. c-fos expression was induced in urethane-anaesthetized rats by intracisternal capsaicin administration. Sumatriptan and LY 344864 decreased the number of capsaicin-induced c-fos-like immunoreactive cells within trigeminal nucleus caudalis (ID50 = 0.04 and 0.6 mg kg(-1)). The effect of sumatriptan, but not of LY 344864, was prevented by pretreatment with the antagonist SDZ 21-009, which displays high affinity for rat 5-HT1B receptors. LY 344864 appears to attenuate c-fos-like immunoreactivity via 5-HT1F receptors, while sumatriptan acts via 5-HT1B receptors. The fact that activation of 5-HT1F receptors is sufficient to modulate the activity of the trigeminal system suggests that this receptor may be a target for antimigraine drugs with improved safety profile.</td>\n",
       "      <td>0</td>\n",
       "      <td>False</td>\n",
       "      <td>0</td>\n",
       "      <td>False</td>\n",
       "    </tr>\n",
       "  </tbody>\n",
       "</table>\n",
       "</div>"
      ],
      "text/plain": [
       "                                                                                                                                                                                                                                                                                                                                                                                                                                                                                                                                                                                                                                                                                                                                                                                                                                                                                                                                                                                                                                                                                                                                                                                                                                                                                                                                                                                                                                                                                                                                                                                                                                                                                                                                                                                                                                                                                                                                                                                                                                                                                                                                                                                                                                                                                                                                                                                                                                                                                                                                                                                                                                                                                                                                                                                                                                                                                                                                                                                                    abstract  \\\n",
       "0  Cyclin E-cdk2 activation is associated with cell cycle arrest and inhibition of DNA replication induced by the thymidylate synthase inhibitor Tomudex. Tomudex (ZD1694) is a specific antifolate-based thymidylate synthase inhibitor active in a variety of solid tumor malignancies. Studies were carried out in vitro to evaluate downstream molecular alterations induced as a consequence of the potent and sustained inhibition of thymidylate synthase by Tomudex. Twenty-four hours following the initial 2-h treatment with Tomudex, human A253 head and neck squamous carcinoma cells, not expressing p53 and p21(WAF1), were accumulated with DNA content characteristic of early S phase of the cell cycle with a concomitant reduction of cells in G1 and G2/M phases. The changes in cyclin and cdk protein expression and their kinase activities were examined in control and drug-treated A253 cells. Tomudex treatment resulted in the decrease in p27(kip1) expression, with an increase in cyclin E and cdk2 protein expression and kinase activities 24 h after a 2-h exposure. Although cyclin A protein expression was markedly increased, cyclin A kinase activity was only slightly increased. Cyclin D1, cyclin B, cdk4, and cdc2 protein expression and kinase activities remain constant. Lack of activation of cyclin A- and B-cdc2 was associated with a reduced proportion of cells in G2/M phases. Increased cyclin E-cdk2 protein expression was accompanied by the inhibition of DNA synthesis, with a decrease in E2F-1 expression. These results propose that cyclin E-cdk2 kinase can negatively regulate DNA replication. The studies with dThyd rescue from cyclin E-cdk2 protein overexpression and growth inhibition by Tomudex indicate that increased cyclin E-cdk2 protein expression is associated with effective inhibition of thymidylate synthase and resultant dNTP pool imbalance. Provision of dThyd more than 24 h after exposure to Tomudex allowed cells to replicate DNA for a single cycle back to G1, but did not prevent the profound growth-inhibitory effect manifested in the following 5 days. Tomudex treatment resulted in a time-dependent induction of the megabase DNA fragments, followed by secondary 50- to 300-kb DNA fragmentation. The 50- to 300-kb DNA fragmentation may be derived from the inhibition of DNA synthesis associated with cyclin E-cdk2 activation. These results suggest that the megabase DNA fragmentation is induced as a consequence of inhibition of thymidylate synthase by Tomudex and kilobase DNA fragmentation may correlate with the reduction of p27(kip1) expression and the increase in cyclin E and cdk2 kinase activities. Activation of cyclin E and cdk2 kinases allows cells to transit from G1 to S phase accompanied by the inhibition of DNA synthesis. The changes in cell cycle regulatory proteins associated with growth inhibition and DNA damage by Tomudex are not p53 dependent.   \n",
       "1                                                                                                                                                                                                                                                                                                                                                                                                                                                                                                                                                                                                                                                                                                                                                                                                                                                                                                                                                                                                                                                                                                                                                                                                                                                                                                                                                                                                                              New aspects in the management of obesity: operation and the impact of lipase inhibitors. Obesity is an increasing health problem in most developed countries and its prevalence is also increasing in developing countries. There has been no great success with dietary means and life style modification for permanent weight loss. Various surgical treatment methods for obesity are now available. They are aimed at limiting oral energy intake with or without causing dumping or inducing selective maldigestion and malabsorption. Based on current literature, up to 75% of excess weight is lost by surgical treatment with concomitant disappearance of hyperlipidaemias, type 2 diabetes, hypertension or sleep apnoea. The main indication for operative treatment is morbid obesity (body mass index greater than 40 kg/m2) or severe obesity (body mass index > 35 kg/m2) with comorbidities of obesity. Orlistat is a new inhibitor of pancreatic lipase enzyme. At doses of 120 mg three times per day with meals it results in a 30% reduction in dietary fat absorption, which equals approximately 200 kcal daily energy deficit. In the long term, orlistat has been shown to be more effective than placebo in reducing body weight and serum total and low-density lipoprotein cholesterol levels. Orlistat has a lowering effect on serum cholesterol independent of weight loss. Along with weight loss, orlistat also favourably affects blood pressure and glucose and insulin levels in obese individuals and in obese type 2 diabetic patients.   \n",
       "2                                                                                                                                                                                                                                                                                                                                                                                                                                                                                                                                                                                                                                                                                                                                                                                                                                                                                                     Cyclopentenone prostaglandins suppress activation of microglia: down-regulation of inducible nitric-oxide synthase by 15-deoxy-Delta12,14-prostaglandin J2. Mechanisms leading to down-regulation of activated microglia and astrocytes are poorly understood, in spite of the potentially detrimental role of activated glia in neurodegeneration. Prostaglandins, produced both by neurons and glia, may serve as mediators of glial and neuronal functions. We examined the influence of cyclopentenone prostaglandins and their precursors on activated glia. As models of glial activation, production of inducible nitric-oxide synthase (iNOS) was studied in lipopolysaccharide-stimulated rat microglia, a murine microglial cell line BV-2, and IL-1beta-stimulated rat astrocytes. Cyclopentenone prostaglandins were potent inhibitors of iNOS induction and were more effective than their precursors, prostaglandins E2 and D2. 15-Deoxy-Delta12,14-prostaglandin J2 (15d-PGJ2) was the most potent prostaglandin among those tested. In activated microglia, 15d-PGJ2 suppressed iNOS promoter activity, iNOS mRNA, and protein levels. The action of 15d-PGJ2 does not appear to involve its nuclear receptor peroxisome proliferator-activated receptor gamma (PPARgamma) because troglitazone, a specific ligand of PPARgamma, was unable to inhibit iNOS induction, and neither troglitazone nor 15d-PGJ2 could stimulate the activity of a PPAR-dependent promoter in the absence of cotransfected PPARgamma. 15d-PGJ2 did not block nuclear translocation or DNA-binding activity of the transcription factor NFkappaB, but it did inhibit the activity of an NFkappaB reporter construct, suggesting that the mechanism of suppression of microglial iNOS by 15d-PGJ2 may involve interference with NFkappaB transcriptional activity in the nucleus. Thus, our data suggest the existence of a novel pathway mediated by cyclopentenone prostaglandins, which may represent part of a feedback mechanism leading to the cessation of inflammatory glial responses in the brain.   \n",
       "3                                                                                                                                                                                                                                                                                                                                                                                                                                                                                                                                                                                                                                                                                                                                                                                                                                                                                                                                                                                                                                                                                                                                                                                                                                                                                                                                                                                                                                                                                                                                                                                                                                                                 Phospholipase A2 inhibitors p-bromophenacyl bromide and arachidonyl trifluoromethyl ketone suppressed interleukin-2 (IL-2) expression in murine primary splenocytes. Phospholipase A2 (PLA2) has been postulated to play a role in the regulation of cytokine expression. Therefore, the objective of the present study was to investigate the effects of PLA2 inhibitors p-bromophenacyl bromide (BPB) and arachidonyl trifluoromethyl ketone (AACOCF3) on interleukin-2 (IL-2) expression in murine primary splenocytes. Pretreatment of the splenocytes with both BPB and AACOCF3 suppressed phorbol 12-myristate 13-acetate plus ionomycin-induced IL-2 secretion in a concentration-dependent manner. Inhibition > 90% of IL-2 secretion was observed at 1 microM BPB and 10 microM AACOCF3 compared to the respective vehicle control. Likewise, IL-2 steady-state mRNA expression was inhibited by both PLA2 inhibitors in a concentration-dependent fashion with > 90% inhibition at 1 microM BPB and 20 microM AACOCF3. Taken together, these data demonstrated that PLA2 inhibitors BPB and AACOCF3 are robust inhibitors of IL-2 expression at both the mRNA and protein levels in murine splenocytes. Moreover, these findings suggest that drugs and chemicals which inhibit PLA2 may have marked effects on T-cell function.   \n",
       "4                                                                                                                                                                                                                                                                                                                                                                                                                                                                                                                                                                                                                                                                                                                                                                                                                                                                                                                                                                                                                                                                                                                                                                                                                                                                                                                                                                                                                                                                                                                                                                                                                                                                  Both 5-HT1B and 5-HT1F receptors modulate c-fos expression within rat trigeminal nucleus caudalis. A possible mechanism of action of antimigraine drugs such as sumatriptan is inhibition of the trigeminovascular pathway. Sumatriptan's effects might be mediated by 5-HT1B, 5-HT1D or 5-HT1F receptors. To establish the relative importance of these subtypes, we compared the effects of sumatriptan with those of a selective 5-HT1F receptor agonist (LY 344864) on c-fos protein expression in the trigeminal nucleus caudalis. c-fos expression was induced in urethane-anaesthetized rats by intracisternal capsaicin administration. Sumatriptan and LY 344864 decreased the number of capsaicin-induced c-fos-like immunoreactive cells within trigeminal nucleus caudalis (ID50 = 0.04 and 0.6 mg kg(-1)). The effect of sumatriptan, but not of LY 344864, was prevented by pretreatment with the antagonist SDZ 21-009, which displays high affinity for rat 5-HT1B receptors. LY 344864 appears to attenuate c-fos-like immunoreactivity via 5-HT1F receptors, while sumatriptan acts via 5-HT1B receptors. The fact that activation of 5-HT1F receptors is sufficient to modulate the activity of the trigeminal system suggests that this receptor may be a target for antimigraine drugs with improved safety profile.   \n",
       "\n",
       "   abstract_id     false      true  prediction  confidence  confidence_std  \\\n",
       "0     10047461  0.997039  0.002961       False    0.997039             NaN   \n",
       "1     10095983  0.999303  0.000697       False    0.999303             NaN   \n",
       "2     10200320  0.011538  0.988462        True    0.988462             NaN   \n",
       "3     10207608  0.002117  0.997883        True    0.997883             NaN   \n",
       "4     10225363  0.998454  0.001546       False    0.998454             NaN   \n",
       "\n",
       "         raw_confidence self_label  \\\n",
       "0  [0.9970393776893611]      False   \n",
       "1   [0.999302744865417]      False   \n",
       "2  [0.9884617328643791]       True   \n",
       "3  [0.9978830218315121]       True   \n",
       "4   [0.998453855514526]      False   \n",
       "\n",
       "                                                                                                                                                                                                                                                                                                                                                                                                                                                                                                                                                                                                                                                                                                                                                                                                                                                                                                                                                                                                                                                                                                                                                                                                                                                                                                                                                                                                                                                                                                                                                                                                                                                                                                                                                                                                                                                                                                                                                                                                                                                                                                                                                                                                                                                                                                                                                                                                                                                                                                                                                                                                                                                                                                                                                                                                                                                                                                                                                                                                           x  \\\n",
       "0  Cyclin E-cdk2 activation is associated with cell cycle arrest and inhibition of DNA replication induced by the thymidylate synthase inhibitor Tomudex. Tomudex (ZD1694) is a specific antifolate-based thymidylate synthase inhibitor active in a variety of solid tumor malignancies. Studies were carried out in vitro to evaluate downstream molecular alterations induced as a consequence of the potent and sustained inhibition of thymidylate synthase by Tomudex. Twenty-four hours following the initial 2-h treatment with Tomudex, human A253 head and neck squamous carcinoma cells, not expressing p53 and p21(WAF1), were accumulated with DNA content characteristic of early S phase of the cell cycle with a concomitant reduction of cells in G1 and G2/M phases. The changes in cyclin and cdk protein expression and their kinase activities were examined in control and drug-treated A253 cells. Tomudex treatment resulted in the decrease in p27(kip1) expression, with an increase in cyclin E and cdk2 protein expression and kinase activities 24 h after a 2-h exposure. Although cyclin A protein expression was markedly increased, cyclin A kinase activity was only slightly increased. Cyclin D1, cyclin B, cdk4, and cdc2 protein expression and kinase activities remain constant. Lack of activation of cyclin A- and B-cdc2 was associated with a reduced proportion of cells in G2/M phases. Increased cyclin E-cdk2 protein expression was accompanied by the inhibition of DNA synthesis, with a decrease in E2F-1 expression. These results propose that cyclin E-cdk2 kinase can negatively regulate DNA replication. The studies with dThyd rescue from cyclin E-cdk2 protein overexpression and growth inhibition by Tomudex indicate that increased cyclin E-cdk2 protein expression is associated with effective inhibition of thymidylate synthase and resultant dNTP pool imbalance. Provision of dThyd more than 24 h after exposure to Tomudex allowed cells to replicate DNA for a single cycle back to G1, but did not prevent the profound growth-inhibitory effect manifested in the following 5 days. Tomudex treatment resulted in a time-dependent induction of the megabase DNA fragments, followed by secondary 50- to 300-kb DNA fragmentation. The 50- to 300-kb DNA fragmentation may be derived from the inhibition of DNA synthesis associated with cyclin E-cdk2 activation. These results suggest that the megabase DNA fragmentation is induced as a consequence of inhibition of thymidylate synthase by Tomudex and kilobase DNA fragmentation may correlate with the reduction of p27(kip1) expression and the increase in cyclin E and cdk2 kinase activities. Activation of cyclin E and cdk2 kinases allows cells to transit from G1 to S phase accompanied by the inhibition of DNA synthesis. The changes in cell cycle regulatory proteins associated with growth inhibition and DNA damage by Tomudex are not p53 dependent.   \n",
       "1                                                                                                                                                                                                                                                                                                                                                                                                                                                                                                                                                                                                                                                                                                                                                                                                                                                                                                                                                                                                                                                                                                                                                                                                                                                                                                                                                                                                                              New aspects in the management of obesity: operation and the impact of lipase inhibitors. Obesity is an increasing health problem in most developed countries and its prevalence is also increasing in developing countries. There has been no great success with dietary means and life style modification for permanent weight loss. Various surgical treatment methods for obesity are now available. They are aimed at limiting oral energy intake with or without causing dumping or inducing selective maldigestion and malabsorption. Based on current literature, up to 75% of excess weight is lost by surgical treatment with concomitant disappearance of hyperlipidaemias, type 2 diabetes, hypertension or sleep apnoea. The main indication for operative treatment is morbid obesity (body mass index greater than 40 kg/m2) or severe obesity (body mass index > 35 kg/m2) with comorbidities of obesity. Orlistat is a new inhibitor of pancreatic lipase enzyme. At doses of 120 mg three times per day with meals it results in a 30% reduction in dietary fat absorption, which equals approximately 200 kcal daily energy deficit. In the long term, orlistat has been shown to be more effective than placebo in reducing body weight and serum total and low-density lipoprotein cholesterol levels. Orlistat has a lowering effect on serum cholesterol independent of weight loss. Along with weight loss, orlistat also favourably affects blood pressure and glucose and insulin levels in obese individuals and in obese type 2 diabetic patients.   \n",
       "2                                                                                                                                                                                                                                                                                                                                                                                                                                                                                                                                                                                                                                                                                                                                                                                                                                                                                                     Cyclopentenone prostaglandins suppress activation of microglia: down-regulation of inducible nitric-oxide synthase by 15-deoxy-Delta12,14-prostaglandin J2. Mechanisms leading to down-regulation of activated microglia and astrocytes are poorly understood, in spite of the potentially detrimental role of activated glia in neurodegeneration. Prostaglandins, produced both by neurons and glia, may serve as mediators of glial and neuronal functions. We examined the influence of cyclopentenone prostaglandins and their precursors on activated glia. As models of glial activation, production of inducible nitric-oxide synthase (iNOS) was studied in lipopolysaccharide-stimulated rat microglia, a murine microglial cell line BV-2, and IL-1beta-stimulated rat astrocytes. Cyclopentenone prostaglandins were potent inhibitors of iNOS induction and were more effective than their precursors, prostaglandins E2 and D2. 15-Deoxy-Delta12,14-prostaglandin J2 (15d-PGJ2) was the most potent prostaglandin among those tested. In activated microglia, 15d-PGJ2 suppressed iNOS promoter activity, iNOS mRNA, and protein levels. The action of 15d-PGJ2 does not appear to involve its nuclear receptor peroxisome proliferator-activated receptor gamma (PPARgamma) because troglitazone, a specific ligand of PPARgamma, was unable to inhibit iNOS induction, and neither troglitazone nor 15d-PGJ2 could stimulate the activity of a PPAR-dependent promoter in the absence of cotransfected PPARgamma. 15d-PGJ2 did not block nuclear translocation or DNA-binding activity of the transcription factor NFkappaB, but it did inhibit the activity of an NFkappaB reporter construct, suggesting that the mechanism of suppression of microglial iNOS by 15d-PGJ2 may involve interference with NFkappaB transcriptional activity in the nucleus. Thus, our data suggest the existence of a novel pathway mediated by cyclopentenone prostaglandins, which may represent part of a feedback mechanism leading to the cessation of inflammatory glial responses in the brain.   \n",
       "3                                                                                                                                                                                                                                                                                                                                                                                                                                                                                                                                                                                                                                                                                                                                                                                                                                                                                                                                                                                                                                                                                                                                                                                                                                                                                                                                                                                                                                                                                                                                                                                                                                                                 Phospholipase A2 inhibitors p-bromophenacyl bromide and arachidonyl trifluoromethyl ketone suppressed interleukin-2 (IL-2) expression in murine primary splenocytes. Phospholipase A2 (PLA2) has been postulated to play a role in the regulation of cytokine expression. Therefore, the objective of the present study was to investigate the effects of PLA2 inhibitors p-bromophenacyl bromide (BPB) and arachidonyl trifluoromethyl ketone (AACOCF3) on interleukin-2 (IL-2) expression in murine primary splenocytes. Pretreatment of the splenocytes with both BPB and AACOCF3 suppressed phorbol 12-myristate 13-acetate plus ionomycin-induced IL-2 secretion in a concentration-dependent manner. Inhibition > 90% of IL-2 secretion was observed at 1 microM BPB and 10 microM AACOCF3 compared to the respective vehicle control. Likewise, IL-2 steady-state mRNA expression was inhibited by both PLA2 inhibitors in a concentration-dependent fashion with > 90% inhibition at 1 microM BPB and 20 microM AACOCF3. Taken together, these data demonstrated that PLA2 inhibitors BPB and AACOCF3 are robust inhibitors of IL-2 expression at both the mRNA and protein levels in murine splenocytes. Moreover, these findings suggest that drugs and chemicals which inhibit PLA2 may have marked effects on T-cell function.   \n",
       "4                                                                                                                                                                                                                                                                                                                                                                                                                                                                                                                                                                                                                                                                                                                                                                                                                                                                                                                                                                                                                                                                                                                                                                                                                                                                                                                                                                                                                                                                                                                                                                                                                                                                  Both 5-HT1B and 5-HT1F receptors modulate c-fos expression within rat trigeminal nucleus caudalis. A possible mechanism of action of antimigraine drugs such as sumatriptan is inhibition of the trigeminovascular pathway. Sumatriptan's effects might be mediated by 5-HT1B, 5-HT1D or 5-HT1F receptors. To establish the relative importance of these subtypes, we compared the effects of sumatriptan with those of a selective 5-HT1F receptor agonist (LY 344864) on c-fos protein expression in the trigeminal nucleus caudalis. c-fos expression was induced in urethane-anaesthetized rats by intracisternal capsaicin administration. Sumatriptan and LY 344864 decreased the number of capsaicin-induced c-fos-like immunoreactive cells within trigeminal nucleus caudalis (ID50 = 0.04 and 0.6 mg kg(-1)). The effect of sumatriptan, but not of LY 344864, was prevented by pretreatment with the antagonist SDZ 21-009, which displays high affinity for rat 5-HT1B receptors. LY 344864 appears to attenuate c-fos-like immunoreactivity via 5-HT1F receptors, while sumatriptan acts via 5-HT1B receptors. The fact that activation of 5-HT1F receptors is sufficient to modulate the activity of the trigeminal system suggests that this receptor may be a target for antimigraine drugs with improved safety profile.   \n",
       "\n",
       "   gold gold_raw  y  y_raw  \n",
       "0     0    False  0  False  \n",
       "1     0    False  0  False  \n",
       "2     1     True  1   True  \n",
       "3     1     True  1   True  \n",
       "4     0    False  0  False  "
      ]
     },
     "execution_count": 16,
     "metadata": {},
     "output_type": "execute_result"
    }
   ],
   "source": [
    "df_train.head()"
   ]
  },
  {
   "cell_type": "code",
   "execution_count": 17,
   "metadata": {},
   "outputs": [
    {
     "name": "stderr",
     "output_type": "stream",
     "text": [
      "/Users/aparnaelangovan/PycharmProjects/venv/bert-shortcuts/lib/python3.8/site-packages/sklearn/feature_extraction/text.py:538: UserWarning: The parameter 'stop_words' will not be used since 'analyzer' != 'word'\n",
      "  warnings.warn(\n",
      "Token indices sequence length is longer than the specified maximum sequence length for this model (728 > 512). Running this sequence through the model will result in indexing errors\n"
     ]
    },
    {
     "name": "stdout",
     "output_type": "stream",
     "text": [
      "Training Naive Bayes\n",
      "Max words :  6087\n"
     ]
    },
    {
     "name": "stderr",
     "output_type": "stream",
     "text": [
      "/Users/aparnaelangovan/PycharmProjects/venv/bert-shortcuts/lib/python3.8/site-packages/sklearn/feature_extraction/text.py:1322: UserWarning: Upper case characters found in vocabulary while 'lowercase' is True. These entries will not be matched with any documents\n",
      "  warnings.warn(\n"
     ]
    },
    {
     "name": "stdout",
     "output_type": "stream",
     "text": [
      "\\begin{tabular}{llrrrr}\n",
      "\\toprule\n",
      "      model &        index & precision & recall & f1-score & support \\\\\n",
      "\\midrule\n",
      "Naive Bayes &        False &      99.5 &   94.3 &     96.8 &     628 \\\\\n",
      "Naive Bayes &         True &      79.1 &   97.8 &     87.5 &     139 \\\\\n",
      "Naive Bayes &     accuracy &      94.9 &   94.9 &     94.9 &       0 \\\\\n",
      "Naive Bayes &    macro avg &      89.3 &   96.1 &     92.1 &     767 \\\\\n",
      "Naive Bayes & weighted avg &      95.8 &   94.9 &     95.1 &     767 \\\\\n",
      "\\bottomrule\n",
      "\\end{tabular}\n",
      "\n"
     ]
    },
    {
     "data": {
      "text/html": [
       "<div>\n",
       "<style scoped>\n",
       "    .dataframe tbody tr th:only-of-type {\n",
       "        vertical-align: middle;\n",
       "    }\n",
       "\n",
       "    .dataframe tbody tr th {\n",
       "        vertical-align: top;\n",
       "    }\n",
       "\n",
       "    .dataframe thead th {\n",
       "        text-align: right;\n",
       "    }\n",
       "</style>\n",
       "<table border=\"1\" class=\"dataframe\">\n",
       "  <thead>\n",
       "    <tr style=\"text-align: right;\">\n",
       "      <th></th>\n",
       "      <th>model</th>\n",
       "      <th>index</th>\n",
       "      <th>precision</th>\n",
       "      <th>recall</th>\n",
       "      <th>f1-score</th>\n",
       "      <th>support</th>\n",
       "    </tr>\n",
       "  </thead>\n",
       "  <tbody>\n",
       "    <tr>\n",
       "      <th>False</th>\n",
       "      <td>Naive Bayes</td>\n",
       "      <td>False</td>\n",
       "      <td>0.994958</td>\n",
       "      <td>0.942675</td>\n",
       "      <td>0.968111</td>\n",
       "      <td>628.000000</td>\n",
       "    </tr>\n",
       "    <tr>\n",
       "      <th>True</th>\n",
       "      <td>Naive Bayes</td>\n",
       "      <td>True</td>\n",
       "      <td>0.790698</td>\n",
       "      <td>0.978417</td>\n",
       "      <td>0.874598</td>\n",
       "      <td>139.000000</td>\n",
       "    </tr>\n",
       "    <tr>\n",
       "      <th>accuracy</th>\n",
       "      <td>Naive Bayes</td>\n",
       "      <td>accuracy</td>\n",
       "      <td>0.949153</td>\n",
       "      <td>0.949153</td>\n",
       "      <td>0.949153</td>\n",
       "      <td>0.949153</td>\n",
       "    </tr>\n",
       "    <tr>\n",
       "      <th>macro avg</th>\n",
       "      <td>Naive Bayes</td>\n",
       "      <td>macro avg</td>\n",
       "      <td>0.892828</td>\n",
       "      <td>0.960546</td>\n",
       "      <td>0.921355</td>\n",
       "      <td>767.000000</td>\n",
       "    </tr>\n",
       "    <tr>\n",
       "      <th>weighted avg</th>\n",
       "      <td>Naive Bayes</td>\n",
       "      <td>weighted avg</td>\n",
       "      <td>0.957941</td>\n",
       "      <td>0.949153</td>\n",
       "      <td>0.951164</td>\n",
       "      <td>767.000000</td>\n",
       "    </tr>\n",
       "  </tbody>\n",
       "</table>\n",
       "</div>"
      ],
      "text/plain": [
       "                    model         index  precision    recall  f1-score  \\\n",
       "False         Naive Bayes         False   0.994958  0.942675  0.968111   \n",
       "True          Naive Bayes          True   0.790698  0.978417  0.874598   \n",
       "accuracy      Naive Bayes      accuracy   0.949153  0.949153  0.949153   \n",
       "macro avg     Naive Bayes     macro avg   0.892828  0.960546  0.921355   \n",
       "weighted avg  Naive Bayes  weighted avg   0.957941  0.949153  0.951164   \n",
       "\n",
       "                 support  \n",
       "False         628.000000  \n",
       "True          139.000000  \n",
       "accuracy        0.949153  \n",
       "macro avg     767.000000  \n",
       "weighted avg  767.000000  "
      ]
     },
     "execution_count": 17,
     "metadata": {},
     "output_type": "execute_result"
    }
   ],
   "source": [
    "train_result = train_and_predict_all_classifiers(df_train, min_df=1)\n",
    "\n",
    "\n",
    "\n",
    "print_report_all_classifiers(df_train[\"gold\"],train_result)"
   ]
  },
  {
   "cell_type": "code",
   "execution_count": 18,
   "metadata": {},
   "outputs": [
    {
     "data": {
      "image/png": "[encoded data removed]",
      "text/plain": [
       "<Figure size 432x288 with 2 Axes>"
      ]
     },
     "metadata": {
      "needs_background": "light"
     },
     "output_type": "display_data"
    }
   ],
   "source": [
    "plot_confusionmatrix(df_train[\"gold\"], train_result[NAIVE_BAYES][\"predictions\"])"
   ]
  },
  {
   "cell_type": "code",
   "execution_count": 19,
   "metadata": {},
   "outputs": [
    {
     "data": {
      "image/png": "[encoded data removed]",
      "text/plain": [
       "<Figure size 432x288 with 2 Axes>"
      ]
     },
     "metadata": {
      "needs_background": "light"
     },
     "output_type": "display_data"
    }
   ],
   "source": [
    "plot_confusionmatrix(df_train[\"gold\"], train_result[NAIVE_BAYES][\"predictions\"], normalize='pred')"
   ]
  },
  {
   "cell_type": "code",
   "execution_count": 20,
   "metadata": {},
   "outputs": [
    {
     "data": {
      "text/plain": [
       "[('-', -3.589895776113094),\n",
       " ('.', -3.7232686273183386),\n",
       " ('of', -3.7753298298617484),\n",
       " (',', -3.7942110381075),\n",
       " ('the', -3.8274320861842765),\n",
       " ('and', -3.9734061055742895),\n",
       " ('in', -4.055690738165256),\n",
       " (')', -4.474507179448286),\n",
       " ('(', -4.475852169563618),\n",
       " ('a', -4.686290768972556),\n",
       " ('##s', -4.800550119772512),\n",
       " ('to', -4.811786193039438),\n",
       " ('##2', -5.296588043384124),\n",
       " ('by', -5.296588043384124),\n",
       " ('that', -5.318227218487605),\n",
       " ('is', -5.389454727775973),\n",
       " ('p', -5.427065998521756),\n",
       " ('##1', -5.437573976120171),\n",
       " ('with', -5.473420107893307),\n",
       " ('c', -5.581216678349015),\n",
       " ('1', -5.6312270989236755),\n",
       " ('C', -5.702053151492288),\n",
       " ('as', -5.711269806597212),\n",
       " ('for', -5.7346900808053105),\n",
       " ('cells', -5.749010134580059),\n",
       " ('expression', -5.798281183586842),\n",
       " ('2', -5.829052842253596),\n",
       " ('/', -5.839524142120891),\n",
       " ('The', -5.844801199221735),\n",
       " ('##in', -5.866192389203053),\n",
       " ('was', -5.899162408440622),\n",
       " ('m', -5.904764663989292),\n",
       " ('protein', -5.910398481707548),\n",
       " ('##c', -5.944884657778717),\n",
       " ('G', -6.005143849296914),\n",
       " ('##p', -6.02395318125441),\n",
       " ('P', -6.0303024089330695),\n",
       " ('A', -6.056110292888942),\n",
       " ('##A', -6.069268377466453),\n",
       " ('on', -6.069268377466453),\n",
       " ('##R', -6.109814471860803),\n",
       " ('an', -6.1167349147053764),\n",
       " ('were', -6.130721156680116),\n",
       " ('##3', -6.144905791672073),\n",
       " ('T', -6.159294529124172),\n",
       " ('##H', -6.166567288453252),\n",
       " ('##ly', -6.166567288453252),\n",
       " ('are', -6.1812734358429475),\n",
       " ('##B', -6.1812734358429475),\n",
       " ('##K', -6.219013763825795)]"
      ]
     },
     "execution_count": 20,
     "metadata": {},
     "output_type": "execute_result"
    }
   ],
   "source": [
    "get_top_discrimintary_keywords(train_result[NAIVE_BAYES][\"m\"],1)[:50]"
   ]
  },
  {
   "cell_type": "markdown",
   "metadata": {},
   "source": [
    "## Val GT predictions\n"
   ]
  },
  {
   "cell_type": "code",
   "execution_count": 21,
   "metadata": {},
   "outputs": [
    {
     "name": "stderr",
     "output_type": "stream",
     "text": [
      "/Users/aparnaelangovan/PycharmProjects/venv/bert-shortcuts/lib/python3.8/site-packages/sklearn/feature_extraction/text.py:538: UserWarning: The parameter 'stop_words' will not be used since 'analyzer' != 'word'\n",
      "  warnings.warn(\n",
      "Token indices sequence length is longer than the specified maximum sequence length for this model (669 > 512). Running this sequence through the model will result in indexing errors\n"
     ]
    },
    {
     "name": "stdout",
     "output_type": "stream",
     "text": [
      "Training Naive Bayes\n",
      "Max words :  5809\n"
     ]
    },
    {
     "name": "stderr",
     "output_type": "stream",
     "text": [
      "/Users/aparnaelangovan/PycharmProjects/venv/bert-shortcuts/lib/python3.8/site-packages/sklearn/feature_extraction/text.py:1322: UserWarning: Upper case characters found in vocabulary while 'lowercase' is True. These entries will not be matched with any documents\n",
      "  warnings.warn(\n"
     ]
    },
    {
     "name": "stdout",
     "output_type": "stream",
     "text": [
      "\\begin{tabular}{llrrrr}\n",
      "\\toprule\n",
      "      model &        index & precision & recall & f1-score & support \\\\\n",
      "\\midrule\n",
      "Naive Bayes &        False &      90.0 &   84.6 &     87.2 &     371 \\\\\n",
      "Naive Bayes &         True &      39.4 &   51.4 &     44.6 &      72 \\\\\n",
      "Naive Bayes &     accuracy &      79.2 &   79.2 &     79.2 &       0 \\\\\n",
      "Naive Bayes &    macro avg &      64.7 &   68.0 &     65.9 &     443 \\\\\n",
      "Naive Bayes & weighted avg &      81.7 &   79.2 &     80.3 &     443 \\\\\n",
      "\\bottomrule\n",
      "\\end{tabular}\n",
      "\n"
     ]
    },
    {
     "data": {
      "text/html": [
       "<div>\n",
       "<style scoped>\n",
       "    .dataframe tbody tr th:only-of-type {\n",
       "        vertical-align: middle;\n",
       "    }\n",
       "\n",
       "    .dataframe tbody tr th {\n",
       "        vertical-align: top;\n",
       "    }\n",
       "\n",
       "    .dataframe thead th {\n",
       "        text-align: right;\n",
       "    }\n",
       "</style>\n",
       "<table border=\"1\" class=\"dataframe\">\n",
       "  <thead>\n",
       "    <tr style=\"text-align: right;\">\n",
       "      <th></th>\n",
       "      <th>model</th>\n",
       "      <th>index</th>\n",
       "      <th>precision</th>\n",
       "      <th>recall</th>\n",
       "      <th>f1-score</th>\n",
       "      <th>support</th>\n",
       "    </tr>\n",
       "  </thead>\n",
       "  <tbody>\n",
       "    <tr>\n",
       "      <th>False</th>\n",
       "      <td>Naive Bayes</td>\n",
       "      <td>False</td>\n",
       "      <td>0.899713</td>\n",
       "      <td>0.846361</td>\n",
       "      <td>0.872222</td>\n",
       "      <td>371.000000</td>\n",
       "    </tr>\n",
       "    <tr>\n",
       "      <th>True</th>\n",
       "      <td>Naive Bayes</td>\n",
       "      <td>True</td>\n",
       "      <td>0.393617</td>\n",
       "      <td>0.513889</td>\n",
       "      <td>0.445783</td>\n",
       "      <td>72.000000</td>\n",
       "    </tr>\n",
       "    <tr>\n",
       "      <th>accuracy</th>\n",
       "      <td>Naive Bayes</td>\n",
       "      <td>accuracy</td>\n",
       "      <td>0.792325</td>\n",
       "      <td>0.792325</td>\n",
       "      <td>0.792325</td>\n",
       "      <td>0.792325</td>\n",
       "    </tr>\n",
       "    <tr>\n",
       "      <th>macro avg</th>\n",
       "      <td>Naive Bayes</td>\n",
       "      <td>macro avg</td>\n",
       "      <td>0.646665</td>\n",
       "      <td>0.680125</td>\n",
       "      <td>0.659003</td>\n",
       "      <td>443.000000</td>\n",
       "    </tr>\n",
       "    <tr>\n",
       "      <th>weighted avg</th>\n",
       "      <td>Naive Bayes</td>\n",
       "      <td>weighted avg</td>\n",
       "      <td>0.817459</td>\n",
       "      <td>0.792325</td>\n",
       "      <td>0.802914</td>\n",
       "      <td>443.000000</td>\n",
       "    </tr>\n",
       "  </tbody>\n",
       "</table>\n",
       "</div>"
      ],
      "text/plain": [
       "                    model         index  precision    recall  f1-score  \\\n",
       "False         Naive Bayes         False   0.899713  0.846361  0.872222   \n",
       "True          Naive Bayes          True   0.393617  0.513889  0.445783   \n",
       "accuracy      Naive Bayes      accuracy   0.792325  0.792325  0.792325   \n",
       "macro avg     Naive Bayes     macro avg   0.646665  0.680125  0.659003   \n",
       "weighted avg  Naive Bayes  weighted avg   0.817459  0.792325  0.802914   \n",
       "\n",
       "                 support  \n",
       "False         371.000000  \n",
       "True           72.000000  \n",
       "accuracy        0.792325  \n",
       "macro avg     443.000000  \n",
       "weighted avg  443.000000  "
      ]
     },
     "execution_count": 21,
     "metadata": {},
     "output_type": "execute_result"
    }
   ],
   "source": [
    "df_val = load_file(local_val_prediction_file)\n",
    "\n",
    "\n",
    "val_result = train_and_predict_all_classifiers(df_val, min_df=1)\n",
    "\n",
    "\n",
    "\n",
    "\n",
    "print_report_all_classifiers(df_val[\"gold\"],val_result)"
   ]
  },
  {
   "cell_type": "code",
   "execution_count": 22,
   "metadata": {},
   "outputs": [
    {
     "name": "stderr",
     "output_type": "stream",
     "text": [
      "/Users/aparnaelangovan/PycharmProjects/venv/bert-shortcuts/lib/python3.8/site-packages/sklearn/feature_extraction/text.py:538: UserWarning: The parameter 'stop_words' will not be used since 'analyzer' != 'word'\n",
      "  warnings.warn(\n",
      "Token indices sequence length is longer than the specified maximum sequence length for this model (669 > 512). Running this sequence through the model will result in indexing errors\n"
     ]
    },
    {
     "name": "stdout",
     "output_type": "stream",
     "text": [
      "Training Naive Bayes\n",
      "Max words :  5809\n"
     ]
    },
    {
     "name": "stderr",
     "output_type": "stream",
     "text": [
      "/Users/aparnaelangovan/PycharmProjects/venv/bert-shortcuts/lib/python3.8/site-packages/sklearn/feature_extraction/text.py:1322: UserWarning: Upper case characters found in vocabulary while 'lowercase' is True. These entries will not be matched with any documents\n",
      "  warnings.warn(\n"
     ]
    },
    {
     "name": "stdout",
     "output_type": "stream",
     "text": [
      "\\begin{tabular}{llrrrr}\n",
      "\\toprule\n",
      "      model &        index & precision & recall & f1-score & support \\\\\n",
      "\\midrule\n",
      "Naive Bayes &        False &     100.0 &   97.8 &     98.9 &     357 \\\\\n",
      "Naive Bayes &         True &      91.5 &  100.0 &     95.6 &      86 \\\\\n",
      "Naive Bayes &     accuracy &      98.2 &   98.2 &     98.2 &       0 \\\\\n",
      "Naive Bayes &    macro avg &      95.7 &   98.9 &     97.2 &     443 \\\\\n",
      "Naive Bayes & weighted avg &      98.3 &   98.2 &     98.2 &     443 \\\\\n",
      "\\bottomrule\n",
      "\\end{tabular}\n",
      "\n"
     ]
    },
    {
     "data": {
      "text/html": [
       "<div>\n",
       "<style scoped>\n",
       "    .dataframe tbody tr th:only-of-type {\n",
       "        vertical-align: middle;\n",
       "    }\n",
       "\n",
       "    .dataframe tbody tr th {\n",
       "        vertical-align: top;\n",
       "    }\n",
       "\n",
       "    .dataframe thead th {\n",
       "        text-align: right;\n",
       "    }\n",
       "</style>\n",
       "<table border=\"1\" class=\"dataframe\">\n",
       "  <thead>\n",
       "    <tr style=\"text-align: right;\">\n",
       "      <th></th>\n",
       "      <th>model</th>\n",
       "      <th>index</th>\n",
       "      <th>precision</th>\n",
       "      <th>recall</th>\n",
       "      <th>f1-score</th>\n",
       "      <th>support</th>\n",
       "    </tr>\n",
       "  </thead>\n",
       "  <tbody>\n",
       "    <tr>\n",
       "      <th>False</th>\n",
       "      <td>Naive Bayes</td>\n",
       "      <td>False</td>\n",
       "      <td>1.000000</td>\n",
       "      <td>0.977591</td>\n",
       "      <td>0.988669</td>\n",
       "      <td>357.000000</td>\n",
       "    </tr>\n",
       "    <tr>\n",
       "      <th>True</th>\n",
       "      <td>Naive Bayes</td>\n",
       "      <td>True</td>\n",
       "      <td>0.914894</td>\n",
       "      <td>1.000000</td>\n",
       "      <td>0.955556</td>\n",
       "      <td>86.000000</td>\n",
       "    </tr>\n",
       "    <tr>\n",
       "      <th>accuracy</th>\n",
       "      <td>Naive Bayes</td>\n",
       "      <td>accuracy</td>\n",
       "      <td>0.981941</td>\n",
       "      <td>0.981941</td>\n",
       "      <td>0.981941</td>\n",
       "      <td>0.981941</td>\n",
       "    </tr>\n",
       "    <tr>\n",
       "      <th>macro avg</th>\n",
       "      <td>Naive Bayes</td>\n",
       "      <td>macro avg</td>\n",
       "      <td>0.957447</td>\n",
       "      <td>0.988796</td>\n",
       "      <td>0.972112</td>\n",
       "      <td>443.000000</td>\n",
       "    </tr>\n",
       "    <tr>\n",
       "      <th>weighted avg</th>\n",
       "      <td>Naive Bayes</td>\n",
       "      <td>weighted avg</td>\n",
       "      <td>0.983478</td>\n",
       "      <td>0.981941</td>\n",
       "      <td>0.982240</td>\n",
       "      <td>443.000000</td>\n",
       "    </tr>\n",
       "  </tbody>\n",
       "</table>\n",
       "</div>"
      ],
      "text/plain": [
       "                    model         index  precision    recall  f1-score  \\\n",
       "False         Naive Bayes         False   1.000000  0.977591  0.988669   \n",
       "True          Naive Bayes          True   0.914894  1.000000  0.955556   \n",
       "accuracy      Naive Bayes      accuracy   0.981941  0.981941  0.981941   \n",
       "macro avg     Naive Bayes     macro avg   0.957447  0.988796  0.972112   \n",
       "weighted avg  Naive Bayes  weighted avg   0.983478  0.981941  0.982240   \n",
       "\n",
       "                 support  \n",
       "False         357.000000  \n",
       "True           86.000000  \n",
       "accuracy        0.981941  \n",
       "macro avg     443.000000  \n",
       "weighted avg  443.000000  "
      ]
     },
     "execution_count": 22,
     "metadata": {},
     "output_type": "execute_result"
    }
   ],
   "source": [
    "df_val_prediction = load_file(local_val_prediction_file)\n",
    "\n",
    "val_prediction_result = train_and_predict_all_classifiers(df_val_prediction, min_df=1)\n",
    "\n",
    "\n",
    "\n",
    "\n",
    "print_report_all_classifiers(df_val_prediction[\"y\"], val_prediction_result)"
   ]
  },
  {
   "cell_type": "markdown",
   "metadata": {},
   "source": [
    "## Test "
   ]
  },
  {
   "cell_type": "code",
   "execution_count": 23,
   "metadata": {},
   "outputs": [
    {
     "data": {
      "text/html": [
       "<div>\n",
       "<style scoped>\n",
       "    .dataframe tbody tr th:only-of-type {\n",
       "        vertical-align: middle;\n",
       "    }\n",
       "\n",
       "    .dataframe tbody tr th {\n",
       "        vertical-align: top;\n",
       "    }\n",
       "\n",
       "    .dataframe thead th {\n",
       "        text-align: right;\n",
       "    }\n",
       "</style>\n",
       "<table border=\"1\" class=\"dataframe\">\n",
       "  <thead>\n",
       "    <tr style=\"text-align: right;\">\n",
       "      <th></th>\n",
       "      <th>precision</th>\n",
       "      <th>recall</th>\n",
       "      <th>f1-score</th>\n",
       "      <th>support</th>\n",
       "    </tr>\n",
       "  </thead>\n",
       "  <tbody>\n",
       "    <tr>\n",
       "      <th>False</th>\n",
       "      <td>0.878000</td>\n",
       "      <td>0.855750</td>\n",
       "      <td>0.866732</td>\n",
       "      <td>513.000000</td>\n",
       "    </tr>\n",
       "    <tr>\n",
       "      <th>True</th>\n",
       "      <td>0.383333</td>\n",
       "      <td>0.429907</td>\n",
       "      <td>0.405286</td>\n",
       "      <td>107.000000</td>\n",
       "    </tr>\n",
       "    <tr>\n",
       "      <th>accuracy</th>\n",
       "      <td>0.782258</td>\n",
       "      <td>0.782258</td>\n",
       "      <td>0.782258</td>\n",
       "      <td>0.782258</td>\n",
       "    </tr>\n",
       "    <tr>\n",
       "      <th>macro avg</th>\n",
       "      <td>0.630667</td>\n",
       "      <td>0.642829</td>\n",
       "      <td>0.636009</td>\n",
       "      <td>620.000000</td>\n",
       "    </tr>\n",
       "    <tr>\n",
       "      <th>weighted avg</th>\n",
       "      <td>0.792630</td>\n",
       "      <td>0.782258</td>\n",
       "      <td>0.787096</td>\n",
       "      <td>620.000000</td>\n",
       "    </tr>\n",
       "  </tbody>\n",
       "</table>\n",
       "</div>"
      ],
      "text/plain": [
       "              precision    recall  f1-score     support\n",
       "False          0.878000  0.855750  0.866732  513.000000\n",
       "True           0.383333  0.429907  0.405286  107.000000\n",
       "accuracy       0.782258  0.782258  0.782258    0.782258\n",
       "macro avg      0.630667  0.642829  0.636009  620.000000\n",
       "weighted avg   0.792630  0.782258  0.787096  620.000000"
      ]
     },
     "execution_count": 23,
     "metadata": {},
     "output_type": "execute_result"
    }
   ],
   "source": [
    "df_test = load_file(local_test_prediction_file)\n",
    "\n",
    "print_report(df_test[\"gold\"],df_test[\"y\"])"
   ]
  },
  {
   "cell_type": "code",
   "execution_count": 24,
   "metadata": {},
   "outputs": [
    {
     "data": {
      "image/png": "[encoded data removed]",
      "text/plain": [
       "<Figure size 432x288 with 2 Axes>"
      ]
     },
     "metadata": {
      "needs_background": "light"
     },
     "output_type": "display_data"
    }
   ],
   "source": [
    "plot_confusionmatrix(df_test[\"gold\"],df_test[\"y\"] )"
   ]
  },
  {
   "cell_type": "markdown",
   "metadata": {},
   "source": [
    "### Predict Test on Test GT fit"
   ]
  },
  {
   "cell_type": "code",
   "execution_count": 25,
   "metadata": {},
   "outputs": [
    {
     "name": "stderr",
     "output_type": "stream",
     "text": [
      "/Users/aparnaelangovan/PycharmProjects/venv/bert-shortcuts/lib/python3.8/site-packages/sklearn/feature_extraction/text.py:538: UserWarning: The parameter 'stop_words' will not be used since 'analyzer' != 'word'\n",
      "  warnings.warn(\n",
      "Token indices sequence length is longer than the specified maximum sequence length for this model (796 > 512). Running this sequence through the model will result in indexing errors\n"
     ]
    },
    {
     "name": "stdout",
     "output_type": "stream",
     "text": [
      "Training Naive Bayes\n",
      "Max words :  5992\n"
     ]
    },
    {
     "name": "stderr",
     "output_type": "stream",
     "text": [
      "/Users/aparnaelangovan/PycharmProjects/venv/bert-shortcuts/lib/python3.8/site-packages/sklearn/feature_extraction/text.py:1322: UserWarning: Upper case characters found in vocabulary while 'lowercase' is True. These entries will not be matched with any documents\n",
      "  warnings.warn(\n"
     ]
    },
    {
     "name": "stdout",
     "output_type": "stream",
     "text": [
      "\\begin{tabular}{llrrrr}\n",
      "\\toprule\n",
      "      model &        index & precision & recall & f1-score & support \\\\\n",
      "\\midrule\n",
      "Naive Bayes &        False &      88.8 &   83.8 &     86.3 &     513 \\\\\n",
      "Naive Bayes &         True &      39.0 &   49.5 &     43.6 &     107 \\\\\n",
      "Naive Bayes &     accuracy &      77.9 &   77.9 &     77.9 &       0 \\\\\n",
      "Naive Bayes &    macro avg &      63.9 &   66.7 &     64.9 &     620 \\\\\n",
      "Naive Bayes & weighted avg &      80.2 &   77.9 &     78.9 &     620 \\\\\n",
      "\\bottomrule\n",
      "\\end{tabular}\n",
      "\n"
     ]
    },
    {
     "data": {
      "text/html": [
       "<div>\n",
       "<style scoped>\n",
       "    .dataframe tbody tr th:only-of-type {\n",
       "        vertical-align: middle;\n",
       "    }\n",
       "\n",
       "    .dataframe tbody tr th {\n",
       "        vertical-align: top;\n",
       "    }\n",
       "\n",
       "    .dataframe thead th {\n",
       "        text-align: right;\n",
       "    }\n",
       "</style>\n",
       "<table border=\"1\" class=\"dataframe\">\n",
       "  <thead>\n",
       "    <tr style=\"text-align: right;\">\n",
       "      <th></th>\n",
       "      <th>model</th>\n",
       "      <th>index</th>\n",
       "      <th>precision</th>\n",
       "      <th>recall</th>\n",
       "      <th>f1-score</th>\n",
       "      <th>support</th>\n",
       "    </tr>\n",
       "  </thead>\n",
       "  <tbody>\n",
       "    <tr>\n",
       "      <th>False</th>\n",
       "      <td>Naive Bayes</td>\n",
       "      <td>False</td>\n",
       "      <td>0.888430</td>\n",
       "      <td>0.838207</td>\n",
       "      <td>0.862588</td>\n",
       "      <td>513.000000</td>\n",
       "    </tr>\n",
       "    <tr>\n",
       "      <th>True</th>\n",
       "      <td>Naive Bayes</td>\n",
       "      <td>True</td>\n",
       "      <td>0.389706</td>\n",
       "      <td>0.495327</td>\n",
       "      <td>0.436214</td>\n",
       "      <td>107.000000</td>\n",
       "    </tr>\n",
       "    <tr>\n",
       "      <th>accuracy</th>\n",
       "      <td>Naive Bayes</td>\n",
       "      <td>accuracy</td>\n",
       "      <td>0.779032</td>\n",
       "      <td>0.779032</td>\n",
       "      <td>0.779032</td>\n",
       "      <td>0.779032</td>\n",
       "    </tr>\n",
       "    <tr>\n",
       "      <th>macro avg</th>\n",
       "      <td>Naive Bayes</td>\n",
       "      <td>macro avg</td>\n",
       "      <td>0.639068</td>\n",
       "      <td>0.666767</td>\n",
       "      <td>0.649401</td>\n",
       "      <td>620.000000</td>\n",
       "    </tr>\n",
       "    <tr>\n",
       "      <th>weighted avg</th>\n",
       "      <td>Naive Bayes</td>\n",
       "      <td>weighted avg</td>\n",
       "      <td>0.802360</td>\n",
       "      <td>0.779032</td>\n",
       "      <td>0.789004</td>\n",
       "      <td>620.000000</td>\n",
       "    </tr>\n",
       "  </tbody>\n",
       "</table>\n",
       "</div>"
      ],
      "text/plain": [
       "                    model         index  precision    recall  f1-score  \\\n",
       "False         Naive Bayes         False   0.888430  0.838207  0.862588   \n",
       "True          Naive Bayes          True   0.389706  0.495327  0.436214   \n",
       "accuracy      Naive Bayes      accuracy   0.779032  0.779032  0.779032   \n",
       "macro avg     Naive Bayes     macro avg   0.639068  0.666767  0.649401   \n",
       "weighted avg  Naive Bayes  weighted avg   0.802360  0.779032  0.789004   \n",
       "\n",
       "                 support  \n",
       "False         513.000000  \n",
       "True          107.000000  \n",
       "accuracy        0.779032  \n",
       "macro avg     620.000000  \n",
       "weighted avg  620.000000  "
      ]
     },
     "execution_count": 25,
     "metadata": {},
     "output_type": "execute_result"
    }
   ],
   "source": [
    "df_test = load_file(local_test_prediction_file)\n",
    "\n",
    "\n",
    "result_test_gt = train_and_predict_all_classifiers(df_test, min_df=1)\n",
    "\n",
    "\n",
    "\n",
    "print_report_all_classifiers(df_test[\"gold\"], result_test_gt)\n",
    "\n"
   ]
  },
  {
   "cell_type": "code",
   "execution_count": 26,
   "metadata": {},
   "outputs": [
    {
     "name": "stdout",
     "output_type": "stream",
     "text": [
      "\\begin{tabular}{llrrrr}\n",
      "\\toprule\n",
      "      model &        index & precision & recall & f1-score & support \\\\\n",
      "\\midrule\n",
      "Naive Bayes &        False &      88.5 &   85.4 &     86.9 &     513 \\\\\n",
      "Naive Bayes &         True &      40.0 &   46.7 &     43.1 &     107 \\\\\n",
      "Naive Bayes &     accuracy &      78.7 &   78.7 &     78.7 &       0 \\\\\n",
      "Naive Bayes &    macro avg &      64.2 &   66.1 &     65.0 &     620 \\\\\n",
      "Naive Bayes & weighted avg &      80.1 &   78.7 &     79.3 &     620 \\\\\n",
      "\\bottomrule\n",
      "\\end{tabular}\n",
      "\n"
     ]
    },
    {
     "data": {
      "text/html": [
       "<div>\n",
       "<style scoped>\n",
       "    .dataframe tbody tr th:only-of-type {\n",
       "        vertical-align: middle;\n",
       "    }\n",
       "\n",
       "    .dataframe tbody tr th {\n",
       "        vertical-align: top;\n",
       "    }\n",
       "\n",
       "    .dataframe thead th {\n",
       "        text-align: right;\n",
       "    }\n",
       "</style>\n",
       "<table border=\"1\" class=\"dataframe\">\n",
       "  <thead>\n",
       "    <tr style=\"text-align: right;\">\n",
       "      <th></th>\n",
       "      <th>model</th>\n",
       "      <th>index</th>\n",
       "      <th>precision</th>\n",
       "      <th>recall</th>\n",
       "      <th>f1-score</th>\n",
       "      <th>support</th>\n",
       "    </tr>\n",
       "  </thead>\n",
       "  <tbody>\n",
       "    <tr>\n",
       "      <th>False</th>\n",
       "      <td>Naive Bayes</td>\n",
       "      <td>False</td>\n",
       "      <td>0.884848</td>\n",
       "      <td>0.853801</td>\n",
       "      <td>0.869048</td>\n",
       "      <td>513.000000</td>\n",
       "    </tr>\n",
       "    <tr>\n",
       "      <th>True</th>\n",
       "      <td>Naive Bayes</td>\n",
       "      <td>True</td>\n",
       "      <td>0.400000</td>\n",
       "      <td>0.467290</td>\n",
       "      <td>0.431034</td>\n",
       "      <td>107.000000</td>\n",
       "    </tr>\n",
       "    <tr>\n",
       "      <th>accuracy</th>\n",
       "      <td>Naive Bayes</td>\n",
       "      <td>accuracy</td>\n",
       "      <td>0.787097</td>\n",
       "      <td>0.787097</td>\n",
       "      <td>0.787097</td>\n",
       "      <td>0.787097</td>\n",
       "    </tr>\n",
       "    <tr>\n",
       "      <th>macro avg</th>\n",
       "      <td>Naive Bayes</td>\n",
       "      <td>macro avg</td>\n",
       "      <td>0.642424</td>\n",
       "      <td>0.660545</td>\n",
       "      <td>0.650041</td>\n",
       "      <td>620.000000</td>\n",
       "    </tr>\n",
       "    <tr>\n",
       "      <th>weighted avg</th>\n",
       "      <td>Naive Bayes</td>\n",
       "      <td>weighted avg</td>\n",
       "      <td>0.801173</td>\n",
       "      <td>0.787097</td>\n",
       "      <td>0.793455</td>\n",
       "      <td>620.000000</td>\n",
       "    </tr>\n",
       "  </tbody>\n",
       "</table>\n",
       "</div>"
      ],
      "text/plain": [
       "                    model         index  precision    recall  f1-score  \\\n",
       "False         Naive Bayes         False   0.884848  0.853801  0.869048   \n",
       "True          Naive Bayes          True   0.400000  0.467290  0.431034   \n",
       "accuracy      Naive Bayes      accuracy   0.787097  0.787097  0.787097   \n",
       "macro avg     Naive Bayes     macro avg   0.642424  0.660545  0.650041   \n",
       "weighted avg  Naive Bayes  weighted avg   0.801173  0.787097  0.793455   \n",
       "\n",
       "                 support  \n",
       "False         513.000000  \n",
       "True          107.000000  \n",
       "accuracy        0.787097  \n",
       "macro avg     620.000000  \n",
       "weighted avg  620.000000  "
      ]
     },
     "execution_count": 26,
     "metadata": {},
     "output_type": "execute_result"
    }
   ],
   "source": [
    "result_train_predict_test_gt = predict_all_classifiers(df_test, train_result)\n",
    "\n",
    "print_report_all_classifiers(df_test[\"gold\"], result_train_predict_test_gt)\n",
    "\n",
    "\n",
    "\n"
   ]
  },
  {
   "cell_type": "code",
   "execution_count": 27,
   "metadata": {},
   "outputs": [
    {
     "name": "stdout",
     "output_type": "stream",
     "text": [
      "\\begin{tabular}{llrrrr}\n",
      "\\toprule\n",
      "      model &        index & precision & recall & f1-score & support \\\\\n",
      "\\midrule\n",
      "Naive Bayes &        False &      88.3 &   87.4 &     87.8 &     500 \\\\\n",
      "Naive Bayes &         True &      49.6 &   51.7 &     50.6 &     120 \\\\\n",
      "Naive Bayes &     accuracy &      80.5 &   80.5 &     80.5 &       0 \\\\\n",
      "Naive Bayes &    macro avg &      68.9 &   69.5 &     69.2 &     620 \\\\\n",
      "Naive Bayes & weighted avg &      80.8 &   80.5 &     80.6 &     620 \\\\\n",
      "\\bottomrule\n",
      "\\end{tabular}\n",
      "\n"
     ]
    },
    {
     "data": {
      "text/html": [
       "<div>\n",
       "<style scoped>\n",
       "    .dataframe tbody tr th:only-of-type {\n",
       "        vertical-align: middle;\n",
       "    }\n",
       "\n",
       "    .dataframe tbody tr th {\n",
       "        vertical-align: top;\n",
       "    }\n",
       "\n",
       "    .dataframe thead th {\n",
       "        text-align: right;\n",
       "    }\n",
       "</style>\n",
       "<table border=\"1\" class=\"dataframe\">\n",
       "  <thead>\n",
       "    <tr style=\"text-align: right;\">\n",
       "      <th></th>\n",
       "      <th>model</th>\n",
       "      <th>index</th>\n",
       "      <th>precision</th>\n",
       "      <th>recall</th>\n",
       "      <th>f1-score</th>\n",
       "      <th>support</th>\n",
       "    </tr>\n",
       "  </thead>\n",
       "  <tbody>\n",
       "    <tr>\n",
       "      <th>False</th>\n",
       "      <td>Naive Bayes</td>\n",
       "      <td>False</td>\n",
       "      <td>0.882828</td>\n",
       "      <td>0.874000</td>\n",
       "      <td>0.878392</td>\n",
       "      <td>500.000000</td>\n",
       "    </tr>\n",
       "    <tr>\n",
       "      <th>True</th>\n",
       "      <td>Naive Bayes</td>\n",
       "      <td>True</td>\n",
       "      <td>0.496000</td>\n",
       "      <td>0.516667</td>\n",
       "      <td>0.506122</td>\n",
       "      <td>120.000000</td>\n",
       "    </tr>\n",
       "    <tr>\n",
       "      <th>accuracy</th>\n",
       "      <td>Naive Bayes</td>\n",
       "      <td>accuracy</td>\n",
       "      <td>0.804839</td>\n",
       "      <td>0.804839</td>\n",
       "      <td>0.804839</td>\n",
       "      <td>0.804839</td>\n",
       "    </tr>\n",
       "    <tr>\n",
       "      <th>macro avg</th>\n",
       "      <td>Naive Bayes</td>\n",
       "      <td>macro avg</td>\n",
       "      <td>0.689414</td>\n",
       "      <td>0.695333</td>\n",
       "      <td>0.692257</td>\n",
       "      <td>620.000000</td>\n",
       "    </tr>\n",
       "    <tr>\n",
       "      <th>weighted avg</th>\n",
       "      <td>Naive Bayes</td>\n",
       "      <td>weighted avg</td>\n",
       "      <td>0.807958</td>\n",
       "      <td>0.804839</td>\n",
       "      <td>0.806340</td>\n",
       "      <td>620.000000</td>\n",
       "    </tr>\n",
       "  </tbody>\n",
       "</table>\n",
       "</div>"
      ],
      "text/plain": [
       "                    model         index  precision    recall  f1-score  \\\n",
       "False         Naive Bayes         False   0.882828  0.874000  0.878392   \n",
       "True          Naive Bayes          True   0.496000  0.516667  0.506122   \n",
       "accuracy      Naive Bayes      accuracy   0.804839  0.804839  0.804839   \n",
       "macro avg     Naive Bayes     macro avg   0.689414  0.695333  0.692257   \n",
       "weighted avg  Naive Bayes  weighted avg   0.807958  0.804839  0.806340   \n",
       "\n",
       "                 support  \n",
       "False         500.000000  \n",
       "True          120.000000  \n",
       "accuracy        0.804839  \n",
       "macro avg     620.000000  \n",
       "weighted avg  620.000000  "
      ]
     },
     "execution_count": 27,
     "metadata": {},
     "output_type": "execute_result"
    }
   ],
   "source": [
    "result_train_predict_test_gt = predict_all_classifiers(df_test, train_result)\n",
    "\n",
    "print_report_all_classifiers(df_test[\"y\"], result_train_predict_test_gt)\n",
    "\n"
   ]
  },
  {
   "cell_type": "markdown",
   "metadata": {},
   "source": [
    "### Predict Test on Test Prediction fit "
   ]
  },
  {
   "cell_type": "code",
   "execution_count": 28,
   "metadata": {},
   "outputs": [
    {
     "name": "stderr",
     "output_type": "stream",
     "text": [
      "/Users/aparnaelangovan/PycharmProjects/venv/bert-shortcuts/lib/python3.8/site-packages/sklearn/feature_extraction/text.py:538: UserWarning: The parameter 'stop_words' will not be used since 'analyzer' != 'word'\n",
      "  warnings.warn(\n",
      "Token indices sequence length is longer than the specified maximum sequence length for this model (796 > 512). Running this sequence through the model will result in indexing errors\n"
     ]
    },
    {
     "name": "stdout",
     "output_type": "stream",
     "text": [
      "Training Naive Bayes\n",
      "Max words :  5992\n"
     ]
    },
    {
     "name": "stderr",
     "output_type": "stream",
     "text": [
      "/Users/aparnaelangovan/PycharmProjects/venv/bert-shortcuts/lib/python3.8/site-packages/sklearn/feature_extraction/text.py:1322: UserWarning: Upper case characters found in vocabulary while 'lowercase' is True. These entries will not be matched with any documents\n",
      "  warnings.warn(\n"
     ]
    },
    {
     "name": "stdout",
     "output_type": "stream",
     "text": [
      "\\begin{tabular}{llrrrr}\n",
      "\\toprule\n",
      "      model &        index & precision & recall & f1-score & support \\\\\n",
      "\\midrule\n",
      "Naive Bayes &        False &      99.8 &   96.6 &     98.2 &     500 \\\\\n",
      "Naive Bayes &         True &      87.5 &   99.2 &     93.0 &     120 \\\\\n",
      "Naive Bayes &     accuracy &      97.1 &   97.1 &     97.1 &       0 \\\\\n",
      "Naive Bayes &    macro avg &      93.6 &   97.9 &     95.6 &     620 \\\\\n",
      "Naive Bayes & weighted avg &      97.4 &   97.1 &     97.2 &     620 \\\\\n",
      "\\bottomrule\n",
      "\\end{tabular}\n",
      "\n"
     ]
    },
    {
     "data": {
      "text/html": [
       "<div>\n",
       "<style scoped>\n",
       "    .dataframe tbody tr th:only-of-type {\n",
       "        vertical-align: middle;\n",
       "    }\n",
       "\n",
       "    .dataframe tbody tr th {\n",
       "        vertical-align: top;\n",
       "    }\n",
       "\n",
       "    .dataframe thead th {\n",
       "        text-align: right;\n",
       "    }\n",
       "</style>\n",
       "<table border=\"1\" class=\"dataframe\">\n",
       "  <thead>\n",
       "    <tr style=\"text-align: right;\">\n",
       "      <th></th>\n",
       "      <th>model</th>\n",
       "      <th>index</th>\n",
       "      <th>precision</th>\n",
       "      <th>recall</th>\n",
       "      <th>f1-score</th>\n",
       "      <th>support</th>\n",
       "    </tr>\n",
       "  </thead>\n",
       "  <tbody>\n",
       "    <tr>\n",
       "      <th>False</th>\n",
       "      <td>Naive Bayes</td>\n",
       "      <td>False</td>\n",
       "      <td>0.997934</td>\n",
       "      <td>0.966000</td>\n",
       "      <td>0.981707</td>\n",
       "      <td>500.000000</td>\n",
       "    </tr>\n",
       "    <tr>\n",
       "      <th>True</th>\n",
       "      <td>Naive Bayes</td>\n",
       "      <td>True</td>\n",
       "      <td>0.875000</td>\n",
       "      <td>0.991667</td>\n",
       "      <td>0.929688</td>\n",
       "      <td>120.000000</td>\n",
       "    </tr>\n",
       "    <tr>\n",
       "      <th>accuracy</th>\n",
       "      <td>Naive Bayes</td>\n",
       "      <td>accuracy</td>\n",
       "      <td>0.970968</td>\n",
       "      <td>0.970968</td>\n",
       "      <td>0.970968</td>\n",
       "      <td>0.970968</td>\n",
       "    </tr>\n",
       "    <tr>\n",
       "      <th>macro avg</th>\n",
       "      <td>Naive Bayes</td>\n",
       "      <td>macro avg</td>\n",
       "      <td>0.936467</td>\n",
       "      <td>0.978833</td>\n",
       "      <td>0.955697</td>\n",
       "      <td>620.000000</td>\n",
       "    </tr>\n",
       "    <tr>\n",
       "      <th>weighted avg</th>\n",
       "      <td>Naive Bayes</td>\n",
       "      <td>weighted avg</td>\n",
       "      <td>0.974140</td>\n",
       "      <td>0.970968</td>\n",
       "      <td>0.971639</td>\n",
       "      <td>620.000000</td>\n",
       "    </tr>\n",
       "  </tbody>\n",
       "</table>\n",
       "</div>"
      ],
      "text/plain": [
       "                    model         index  precision    recall  f1-score  \\\n",
       "False         Naive Bayes         False   0.997934  0.966000  0.981707   \n",
       "True          Naive Bayes          True   0.875000  0.991667  0.929688   \n",
       "accuracy      Naive Bayes      accuracy   0.970968  0.970968  0.970968   \n",
       "macro avg     Naive Bayes     macro avg   0.936467  0.978833  0.955697   \n",
       "weighted avg  Naive Bayes  weighted avg   0.974140  0.970968  0.971639   \n",
       "\n",
       "                 support  \n",
       "False         500.000000  \n",
       "True          120.000000  \n",
       "accuracy        0.970968  \n",
       "macro avg     620.000000  \n",
       "weighted avg  620.000000  "
      ]
     },
     "execution_count": 28,
     "metadata": {},
     "output_type": "execute_result"
    }
   ],
   "source": [
    "df_test_prediction = load_file(local_test_prediction_file)\n",
    "\n",
    "result_test_bp = train_and_predict_all_classifiers(df_test_prediction, min_df=1)\n",
    "\n",
    "#plot_tree(result_test_bp[NAIVE_BAYES_WITH_TREE][\"m\"])\n",
    "\n",
    "\n",
    "print_report_all_classifiers(df_test_prediction[\"y\"], result_test_bp)\n",
    "\n",
    "\n",
    "\n"
   ]
  },
  {
   "cell_type": "code",
   "execution_count": 29,
   "metadata": {},
   "outputs": [
    {
     "data": {
      "text/plain": [
       "0.04621893231790726"
      ]
     },
     "execution_count": 29,
     "metadata": {},
     "output_type": "execute_result"
    }
   ],
   "source": [
    "p1 = get_top_discrimintary_keywords(result_test_bp[NAIVE_BAYES][\"m\"],0)\n",
    "p2 = get_top_discrimintary_keywords(train_result[NAIVE_BAYES][\"m\"],0)\n",
    "\n",
    "kl_divergence(p1,p2)"
   ]
  },
  {
   "cell_type": "markdown",
   "metadata": {},
   "source": [
    "## Test BP "
   ]
  },
  {
   "cell_type": "code",
   "execution_count": 30,
   "metadata": {},
   "outputs": [
    {
     "name": "stdout",
     "output_type": "stream",
     "text": [
      "\\begin{tabular}{llrrrr}\n",
      "\\toprule\n",
      "      model &        index & precision & recall & f1-score & support \\\\\n",
      "\\midrule\n",
      "Naive Bayes &        False &      88.3 &   87.4 &     87.8 &     500 \\\\\n",
      "Naive Bayes &         True &      49.6 &   51.7 &     50.6 &     120 \\\\\n",
      "Naive Bayes &     accuracy &      80.5 &   80.5 &     80.5 &       0 \\\\\n",
      "Naive Bayes &    macro avg &      68.9 &   69.5 &     69.2 &     620 \\\\\n",
      "Naive Bayes & weighted avg &      80.8 &   80.5 &     80.6 &     620 \\\\\n",
      "\\bottomrule\n",
      "\\end{tabular}\n",
      "\n"
     ]
    },
    {
     "data": {
      "text/html": [
       "<div>\n",
       "<style scoped>\n",
       "    .dataframe tbody tr th:only-of-type {\n",
       "        vertical-align: middle;\n",
       "    }\n",
       "\n",
       "    .dataframe tbody tr th {\n",
       "        vertical-align: top;\n",
       "    }\n",
       "\n",
       "    .dataframe thead th {\n",
       "        text-align: right;\n",
       "    }\n",
       "</style>\n",
       "<table border=\"1\" class=\"dataframe\">\n",
       "  <thead>\n",
       "    <tr style=\"text-align: right;\">\n",
       "      <th></th>\n",
       "      <th>model</th>\n",
       "      <th>index</th>\n",
       "      <th>precision</th>\n",
       "      <th>recall</th>\n",
       "      <th>f1-score</th>\n",
       "      <th>support</th>\n",
       "    </tr>\n",
       "  </thead>\n",
       "  <tbody>\n",
       "    <tr>\n",
       "      <th>False</th>\n",
       "      <td>Naive Bayes</td>\n",
       "      <td>False</td>\n",
       "      <td>0.882828</td>\n",
       "      <td>0.874000</td>\n",
       "      <td>0.878392</td>\n",
       "      <td>500.000000</td>\n",
       "    </tr>\n",
       "    <tr>\n",
       "      <th>True</th>\n",
       "      <td>Naive Bayes</td>\n",
       "      <td>True</td>\n",
       "      <td>0.496000</td>\n",
       "      <td>0.516667</td>\n",
       "      <td>0.506122</td>\n",
       "      <td>120.000000</td>\n",
       "    </tr>\n",
       "    <tr>\n",
       "      <th>accuracy</th>\n",
       "      <td>Naive Bayes</td>\n",
       "      <td>accuracy</td>\n",
       "      <td>0.804839</td>\n",
       "      <td>0.804839</td>\n",
       "      <td>0.804839</td>\n",
       "      <td>0.804839</td>\n",
       "    </tr>\n",
       "    <tr>\n",
       "      <th>macro avg</th>\n",
       "      <td>Naive Bayes</td>\n",
       "      <td>macro avg</td>\n",
       "      <td>0.689414</td>\n",
       "      <td>0.695333</td>\n",
       "      <td>0.692257</td>\n",
       "      <td>620.000000</td>\n",
       "    </tr>\n",
       "    <tr>\n",
       "      <th>weighted avg</th>\n",
       "      <td>Naive Bayes</td>\n",
       "      <td>weighted avg</td>\n",
       "      <td>0.807958</td>\n",
       "      <td>0.804839</td>\n",
       "      <td>0.806340</td>\n",
       "      <td>620.000000</td>\n",
       "    </tr>\n",
       "  </tbody>\n",
       "</table>\n",
       "</div>"
      ],
      "text/plain": [
       "                    model         index  precision    recall  f1-score  \\\n",
       "False         Naive Bayes         False   0.882828  0.874000  0.878392   \n",
       "True          Naive Bayes          True   0.496000  0.516667  0.506122   \n",
       "accuracy      Naive Bayes      accuracy   0.804839  0.804839  0.804839   \n",
       "macro avg     Naive Bayes     macro avg   0.689414  0.695333  0.692257   \n",
       "weighted avg  Naive Bayes  weighted avg   0.807958  0.804839  0.806340   \n",
       "\n",
       "                 support  \n",
       "False         500.000000  \n",
       "True          120.000000  \n",
       "accuracy        0.804839  \n",
       "macro avg     620.000000  \n",
       "weighted avg  620.000000  "
      ]
     },
     "execution_count": 30,
     "metadata": {},
     "output_type": "execute_result"
    }
   ],
   "source": [
    "result_train_predict_test_bp = predict_all_classifiers(df_test_prediction, train_result)\n",
    "\n",
    "print_report_all_classifiers(df_test_prediction[\"y\"], result_train_predict_test_bp,  all_labels)\n",
    "\n",
    "\n",
    "\n"
   ]
  },
  {
   "cell_type": "markdown",
   "metadata": {},
   "source": [
    "## Large scale high quality"
   ]
  },
  {
   "cell_type": "code",
   "execution_count": 31,
   "metadata": {},
   "outputs": [],
   "source": [
    "df_highquality = load_file(local_highquality_file)"
   ]
  },
  {
   "cell_type": "code",
   "execution_count": 32,
   "metadata": {},
   "outputs": [
    {
     "name": "stderr",
     "output_type": "stream",
     "text": [
      "/Users/aparnaelangovan/PycharmProjects/venv/bert-shortcuts/lib/python3.8/site-packages/sklearn/feature_extraction/text.py:538: UserWarning: The parameter 'stop_words' will not be used since 'analyzer' != 'word'\n",
      "  warnings.warn(\n",
      "Token indices sequence length is longer than the specified maximum sequence length for this model (546 > 512). Running this sequence through the model will result in indexing errors\n"
     ]
    },
    {
     "name": "stdout",
     "output_type": "stream",
     "text": [
      "Training Naive Bayes\n",
      "Max words :  5864\n"
     ]
    },
    {
     "name": "stderr",
     "output_type": "stream",
     "text": [
      "/Users/aparnaelangovan/PycharmProjects/venv/bert-shortcuts/lib/python3.8/site-packages/sklearn/feature_extraction/text.py:1322: UserWarning: Upper case characters found in vocabulary while 'lowercase' is True. These entries will not be matched with any documents\n",
      "  warnings.warn(\n"
     ]
    },
    {
     "name": "stdout",
     "output_type": "stream",
     "text": [
      "\\begin{tabular}{llrrrr}\n",
      "\\toprule\n",
      "      model &        index & precision & recall & f1-score & support \\\\\n",
      "\\midrule\n",
      "Naive Bayes &        False &      90.4 &   86.0 &     88.2 &   97081 \\\\\n",
      "Naive Bayes &         True &      85.8 &   90.3 &     88.0 &   91053 \\\\\n",
      "Naive Bayes &     accuracy &      88.1 &   88.1 &     88.1 &       0 \\\\\n",
      "Naive Bayes &    macro avg &      88.1 &   88.1 &     88.1 &  188134 \\\\\n",
      "Naive Bayes & weighted avg &      88.2 &   88.1 &     88.1 &  188134 \\\\\n",
      "\\bottomrule\n",
      "\\end{tabular}\n",
      "\n"
     ]
    }
   ],
   "source": [
    "result_highquality_bp = train_and_predict_all_classifiers(df_highquality, min_df=1)\n",
    "print_report_all_classifiers(df_highquality[\"y\"], result_highquality_bp)\n",
    "\n",
    "\n",
    "df_highquality[\"nb_predictions\"]=result_highquality_bp[NAIVE_BAYES][\"predictions\"]"
   ]
  },
  {
   "cell_type": "code",
   "execution_count": 33,
   "metadata": {},
   "outputs": [
    {
     "data": {
      "image/png": "[encoded data removed]",
      "text/plain": [
       "<Figure size 432x288 with 2 Axes>"
      ]
     },
     "metadata": {
      "needs_background": "light"
     },
     "output_type": "display_data"
    }
   ],
   "source": [
    "plot_confusionmatrix(df_highquality[\"y\"],df_highquality[\"nb_predictions\"], \"pred\")"
   ]
  },
  {
   "cell_type": "code",
   "execution_count": 34,
   "metadata": {},
   "outputs": [
    {
     "data": {
      "text/plain": [
       "Index(['abstract_id', 'abstract', 'false', 'true', 'prediction', 'confidence',\n",
       "       'confidence_std', 'raw_confidence', 'RecordInTrainingData',\n",
       "       'self_label', 'x', 'gold', 'gold_raw', 'y', 'y_raw', 'nb_predictions'],\n",
       "      dtype='object')"
      ]
     },
     "execution_count": 34,
     "metadata": {},
     "output_type": "execute_result"
    }
   ],
   "source": [
    "df_highquality.columns"
   ]
  },
  {
   "cell_type": "code",
   "execution_count": 35,
   "metadata": {},
   "outputs": [
    {
     "data": {
      "text/plain": [
       "False    97081\n",
       "True     91053\n",
       "Name: y_raw, dtype: int64"
      ]
     },
     "execution_count": 35,
     "metadata": {},
     "output_type": "execute_result"
    }
   ],
   "source": [
    "df_highquality.y_raw.value_counts()"
   ]
  },
  {
   "cell_type": "code",
   "execution_count": 36,
   "metadata": {},
   "outputs": [
    {
     "data": {
      "text/plain": [
       "0.16830998812218764"
      ]
     },
     "execution_count": 36,
     "metadata": {},
     "output_type": "execute_result"
    }
   ],
   "source": [
    "p1 = get_top_discrimintary_keywords(result_highquality_bp[NAIVE_BAYES][\"m\"], 1)\n",
    "p2 = get_top_discrimintary_keywords(train_result[NAIVE_BAYES][\"m\"],1)\n",
    "\n",
    "kl_divergence(p1,p2)"
   ]
  },
  {
   "cell_type": "code",
   "execution_count": 37,
   "metadata": {},
   "outputs": [
    {
     "name": "stdout",
     "output_type": "stream",
     "text": [
      "\\begin{tabular}{llrrrr}\n",
      "\\toprule\n",
      "      model &        index & precision & recall & f1-score & support \\\\\n",
      "\\midrule\n",
      "Naive Bayes &        False &      79.4 &   77.7 &     78.6 &   97081 \\\\\n",
      "Naive Bayes &         True &      76.8 &   78.5 &     77.6 &   91053 \\\\\n",
      "Naive Bayes &     accuracy &      78.1 &   78.1 &     78.1 &       0 \\\\\n",
      "Naive Bayes &    macro avg &      78.1 &   78.1 &     78.1 &  188134 \\\\\n",
      "Naive Bayes & weighted avg &      78.1 &   78.1 &     78.1 &  188134 \\\\\n",
      "\\bottomrule\n",
      "\\end{tabular}\n",
      "\n"
     ]
    },
    {
     "data": {
      "text/html": [
       "<div>\n",
       "<style scoped>\n",
       "    .dataframe tbody tr th:only-of-type {\n",
       "        vertical-align: middle;\n",
       "    }\n",
       "\n",
       "    .dataframe tbody tr th {\n",
       "        vertical-align: top;\n",
       "    }\n",
       "\n",
       "    .dataframe thead th {\n",
       "        text-align: right;\n",
       "    }\n",
       "</style>\n",
       "<table border=\"1\" class=\"dataframe\">\n",
       "  <thead>\n",
       "    <tr style=\"text-align: right;\">\n",
       "      <th></th>\n",
       "      <th>model</th>\n",
       "      <th>index</th>\n",
       "      <th>precision</th>\n",
       "      <th>recall</th>\n",
       "      <th>f1-score</th>\n",
       "      <th>support</th>\n",
       "    </tr>\n",
       "  </thead>\n",
       "  <tbody>\n",
       "    <tr>\n",
       "      <th>False</th>\n",
       "      <td>Naive Bayes</td>\n",
       "      <td>False</td>\n",
       "      <td>0.794286</td>\n",
       "      <td>0.777268</td>\n",
       "      <td>0.785685</td>\n",
       "      <td>97081.000000</td>\n",
       "    </tr>\n",
       "    <tr>\n",
       "      <th>True</th>\n",
       "      <td>Naive Bayes</td>\n",
       "      <td>True</td>\n",
       "      <td>0.767827</td>\n",
       "      <td>0.785367</td>\n",
       "      <td>0.776498</td>\n",
       "      <td>91053.000000</td>\n",
       "    </tr>\n",
       "    <tr>\n",
       "      <th>accuracy</th>\n",
       "      <td>Naive Bayes</td>\n",
       "      <td>accuracy</td>\n",
       "      <td>0.781188</td>\n",
       "      <td>0.781188</td>\n",
       "      <td>0.781188</td>\n",
       "      <td>0.781188</td>\n",
       "    </tr>\n",
       "    <tr>\n",
       "      <th>macro avg</th>\n",
       "      <td>Naive Bayes</td>\n",
       "      <td>macro avg</td>\n",
       "      <td>0.781057</td>\n",
       "      <td>0.781318</td>\n",
       "      <td>0.781091</td>\n",
       "      <td>188134.000000</td>\n",
       "    </tr>\n",
       "    <tr>\n",
       "      <th>weighted avg</th>\n",
       "      <td>Naive Bayes</td>\n",
       "      <td>weighted avg</td>\n",
       "      <td>0.781480</td>\n",
       "      <td>0.781188</td>\n",
       "      <td>0.781239</td>\n",
       "      <td>188134.000000</td>\n",
       "    </tr>\n",
       "  </tbody>\n",
       "</table>\n",
       "</div>"
      ],
      "text/plain": [
       "                    model         index  precision    recall  f1-score  \\\n",
       "False         Naive Bayes         False   0.794286  0.777268  0.785685   \n",
       "True          Naive Bayes          True   0.767827  0.785367  0.776498   \n",
       "accuracy      Naive Bayes      accuracy   0.781188  0.781188  0.781188   \n",
       "macro avg     Naive Bayes     macro avg   0.781057  0.781318  0.781091   \n",
       "weighted avg  Naive Bayes  weighted avg   0.781480  0.781188  0.781239   \n",
       "\n",
       "                    support  \n",
       "False          97081.000000  \n",
       "True           91053.000000  \n",
       "accuracy           0.781188  \n",
       "macro avg     188134.000000  \n",
       "weighted avg  188134.000000  "
      ]
     },
     "execution_count": 37,
     "metadata": {},
     "output_type": "execute_result"
    }
   ],
   "source": [
    "result_highquality_train_result =  predict_all_classifiers(df_highquality, train_result)\n",
    "print_report_all_classifiers(df_highquality[\"y\"], result_highquality_train_result)\n"
   ]
  },
  {
   "cell_type": "markdown",
   "metadata": {},
   "source": [
    "## Low quality"
   ]
  },
  {
   "cell_type": "code",
   "execution_count": 38,
   "metadata": {},
   "outputs": [],
   "source": [
    "df_lowquality = load_file(local_lowquality_file)\n"
   ]
  },
  {
   "cell_type": "code",
   "execution_count": 39,
   "metadata": {},
   "outputs": [
    {
     "name": "stderr",
     "output_type": "stream",
     "text": [
      "/Users/aparnaelangovan/PycharmProjects/venv/bert-shortcuts/lib/python3.8/site-packages/sklearn/feature_extraction/text.py:538: UserWarning: The parameter 'stop_words' will not be used since 'analyzer' != 'word'\n",
      "  warnings.warn(\n",
      "Token indices sequence length is longer than the specified maximum sequence length for this model (513 > 512). Running this sequence through the model will result in indexing errors\n"
     ]
    },
    {
     "name": "stdout",
     "output_type": "stream",
     "text": [
      "Training Naive Bayes\n",
      "Max words :  5156\n"
     ]
    },
    {
     "name": "stderr",
     "output_type": "stream",
     "text": [
      "/Users/aparnaelangovan/PycharmProjects/venv/bert-shortcuts/lib/python3.8/site-packages/sklearn/feature_extraction/text.py:1322: UserWarning: Upper case characters found in vocabulary while 'lowercase' is True. These entries will not be matched with any documents\n",
      "  warnings.warn(\n"
     ]
    },
    {
     "name": "stdout",
     "output_type": "stream",
     "text": [
      "\\begin{tabular}{llrrrr}\n",
      "\\toprule\n",
      "      model &        index & precision & recall & f1-score & support \\\\\n",
      "\\midrule\n",
      "Naive Bayes &        False &      58.5 &   51.4 &     54.7 &   31142 \\\\\n",
      "Naive Bayes &         True &      53.7 &   60.7 &     56.9 &   28902 \\\\\n",
      "Naive Bayes &     accuracy &      55.8 &   55.8 &     55.8 &       0 \\\\\n",
      "Naive Bayes &    macro avg &      56.1 &   56.0 &     55.8 &   60044 \\\\\n",
      "Naive Bayes & weighted avg &      56.1 &   55.8 &     55.8 &   60044 \\\\\n",
      "\\bottomrule\n",
      "\\end{tabular}\n",
      "\n"
     ]
    },
    {
     "data": {
      "text/html": [
       "<div>\n",
       "<style scoped>\n",
       "    .dataframe tbody tr th:only-of-type {\n",
       "        vertical-align: middle;\n",
       "    }\n",
       "\n",
       "    .dataframe tbody tr th {\n",
       "        vertical-align: top;\n",
       "    }\n",
       "\n",
       "    .dataframe thead th {\n",
       "        text-align: right;\n",
       "    }\n",
       "</style>\n",
       "<table border=\"1\" class=\"dataframe\">\n",
       "  <thead>\n",
       "    <tr style=\"text-align: right;\">\n",
       "      <th></th>\n",
       "      <th>model</th>\n",
       "      <th>index</th>\n",
       "      <th>precision</th>\n",
       "      <th>recall</th>\n",
       "      <th>f1-score</th>\n",
       "      <th>support</th>\n",
       "    </tr>\n",
       "  </thead>\n",
       "  <tbody>\n",
       "    <tr>\n",
       "      <th>False</th>\n",
       "      <td>Naive Bayes</td>\n",
       "      <td>False</td>\n",
       "      <td>0.584582</td>\n",
       "      <td>0.513551</td>\n",
       "      <td>0.546769</td>\n",
       "      <td>31142.000000</td>\n",
       "    </tr>\n",
       "    <tr>\n",
       "      <th>True</th>\n",
       "      <td>Naive Bayes</td>\n",
       "      <td>True</td>\n",
       "      <td>0.536529</td>\n",
       "      <td>0.606775</td>\n",
       "      <td>0.569494</td>\n",
       "      <td>28902.000000</td>\n",
       "    </tr>\n",
       "    <tr>\n",
       "      <th>accuracy</th>\n",
       "      <td>Naive Bayes</td>\n",
       "      <td>accuracy</td>\n",
       "      <td>0.558424</td>\n",
       "      <td>0.558424</td>\n",
       "      <td>0.558424</td>\n",
       "      <td>0.558424</td>\n",
       "    </tr>\n",
       "    <tr>\n",
       "      <th>macro avg</th>\n",
       "      <td>Naive Bayes</td>\n",
       "      <td>macro avg</td>\n",
       "      <td>0.560556</td>\n",
       "      <td>0.560163</td>\n",
       "      <td>0.558132</td>\n",
       "      <td>60044.000000</td>\n",
       "    </tr>\n",
       "    <tr>\n",
       "      <th>weighted avg</th>\n",
       "      <td>Naive Bayes</td>\n",
       "      <td>weighted avg</td>\n",
       "      <td>0.561452</td>\n",
       "      <td>0.558424</td>\n",
       "      <td>0.557708</td>\n",
       "      <td>60044.000000</td>\n",
       "    </tr>\n",
       "  </tbody>\n",
       "</table>\n",
       "</div>"
      ],
      "text/plain": [
       "                    model         index  precision    recall  f1-score  \\\n",
       "False         Naive Bayes         False   0.584582  0.513551  0.546769   \n",
       "True          Naive Bayes          True   0.536529  0.606775  0.569494   \n",
       "accuracy      Naive Bayes      accuracy   0.558424  0.558424  0.558424   \n",
       "macro avg     Naive Bayes     macro avg   0.560556  0.560163  0.558132   \n",
       "weighted avg  Naive Bayes  weighted avg   0.561452  0.558424  0.557708   \n",
       "\n",
       "                   support  \n",
       "False         31142.000000  \n",
       "True          28902.000000  \n",
       "accuracy          0.558424  \n",
       "macro avg     60044.000000  \n",
       "weighted avg  60044.000000  "
      ]
     },
     "execution_count": 39,
     "metadata": {},
     "output_type": "execute_result"
    }
   ],
   "source": [
    "\n",
    "result_lowquality_bp = train_and_predict_all_classifiers(df_lowquality, min_df=1)\n",
    "print_report_all_classifiers(df_lowquality[\"y\"], result_lowquality_bp)"
   ]
  },
  {
   "cell_type": "code",
   "execution_count": 40,
   "metadata": {},
   "outputs": [
    {
     "data": {
      "text/plain": [
       "0.14503638911521888"
      ]
     },
     "execution_count": 40,
     "metadata": {},
     "output_type": "execute_result"
    }
   ],
   "source": [
    "p1 = get_top_discrimintary_keywords(result_lowquality_bp[NAIVE_BAYES][\"m\"],0)\n",
    "p2 = get_top_discrimintary_keywords(train_result[NAIVE_BAYES][\"m\"],0)\n",
    "\n",
    "kl_divergence(p1,p2)"
   ]
  },
  {
   "cell_type": "code",
   "execution_count": 41,
   "metadata": {},
   "outputs": [
    {
     "name": "stdout",
     "output_type": "stream",
     "text": [
      "\\begin{tabular}{llrrrr}\n",
      "\\toprule\n",
      "      model &        index & precision & recall & f1-score & support \\\\\n",
      "\\midrule\n",
      "Naive Bayes &        False &      53.4 &   49.2 &     51.2 &   31142 \\\\\n",
      "Naive Bayes &         True &      49.6 &   53.8 &     51.6 &   28902 \\\\\n",
      "Naive Bayes &     accuracy &      51.4 &   51.4 &     51.4 &       0 \\\\\n",
      "Naive Bayes &    macro avg &      51.5 &   51.5 &     51.4 &   60044 \\\\\n",
      "Naive Bayes & weighted avg &      51.6 &   51.4 &     51.4 &   60044 \\\\\n",
      "\\bottomrule\n",
      "\\end{tabular}\n",
      "\n"
     ]
    },
    {
     "data": {
      "text/html": [
       "<div>\n",
       "<style scoped>\n",
       "    .dataframe tbody tr th:only-of-type {\n",
       "        vertical-align: middle;\n",
       "    }\n",
       "\n",
       "    .dataframe tbody tr th {\n",
       "        vertical-align: top;\n",
       "    }\n",
       "\n",
       "    .dataframe thead th {\n",
       "        text-align: right;\n",
       "    }\n",
       "</style>\n",
       "<table border=\"1\" class=\"dataframe\">\n",
       "  <thead>\n",
       "    <tr style=\"text-align: right;\">\n",
       "      <th></th>\n",
       "      <th>model</th>\n",
       "      <th>index</th>\n",
       "      <th>precision</th>\n",
       "      <th>recall</th>\n",
       "      <th>f1-score</th>\n",
       "      <th>support</th>\n",
       "    </tr>\n",
       "  </thead>\n",
       "  <tbody>\n",
       "    <tr>\n",
       "      <th>False</th>\n",
       "      <td>Naive Bayes</td>\n",
       "      <td>False</td>\n",
       "      <td>0.534400</td>\n",
       "      <td>0.492101</td>\n",
       "      <td>0.512379</td>\n",
       "      <td>31142.000000</td>\n",
       "    </tr>\n",
       "    <tr>\n",
       "      <th>True</th>\n",
       "      <td>Naive Bayes</td>\n",
       "      <td>True</td>\n",
       "      <td>0.495744</td>\n",
       "      <td>0.538025</td>\n",
       "      <td>0.516020</td>\n",
       "      <td>28902.000000</td>\n",
       "    </tr>\n",
       "    <tr>\n",
       "      <th>accuracy</th>\n",
       "      <td>Naive Bayes</td>\n",
       "      <td>accuracy</td>\n",
       "      <td>0.514206</td>\n",
       "      <td>0.514206</td>\n",
       "      <td>0.514206</td>\n",
       "      <td>0.514206</td>\n",
       "    </tr>\n",
       "    <tr>\n",
       "      <th>macro avg</th>\n",
       "      <td>Naive Bayes</td>\n",
       "      <td>macro avg</td>\n",
       "      <td>0.515072</td>\n",
       "      <td>0.515063</td>\n",
       "      <td>0.514199</td>\n",
       "      <td>60044.000000</td>\n",
       "    </tr>\n",
       "    <tr>\n",
       "      <th>weighted avg</th>\n",
       "      <td>Naive Bayes</td>\n",
       "      <td>weighted avg</td>\n",
       "      <td>0.515793</td>\n",
       "      <td>0.514206</td>\n",
       "      <td>0.514132</td>\n",
       "      <td>60044.000000</td>\n",
       "    </tr>\n",
       "  </tbody>\n",
       "</table>\n",
       "</div>"
      ],
      "text/plain": [
       "                    model         index  precision    recall  f1-score  \\\n",
       "False         Naive Bayes         False   0.534400  0.492101  0.512379   \n",
       "True          Naive Bayes          True   0.495744  0.538025  0.516020   \n",
       "accuracy      Naive Bayes      accuracy   0.514206  0.514206  0.514206   \n",
       "macro avg     Naive Bayes     macro avg   0.515072  0.515063  0.514199   \n",
       "weighted avg  Naive Bayes  weighted avg   0.515793  0.514206  0.514132   \n",
       "\n",
       "                   support  \n",
       "False         31142.000000  \n",
       "True          28902.000000  \n",
       "accuracy          0.514206  \n",
       "macro avg     60044.000000  \n",
       "weighted avg  60044.000000  "
      ]
     },
     "execution_count": 41,
     "metadata": {},
     "output_type": "execute_result"
    }
   ],
   "source": [
    "result_lowquality_train_result =  predict_all_classifiers(df_lowquality, train_result)\n",
    "print_report_all_classifiers(df_lowquality[\"y\"], result_lowquality_train_result)\n",
    "\n"
   ]
  },
  {
   "cell_type": "code",
   "execution_count": 42,
   "metadata": {},
   "outputs": [
    {
     "data": {
      "text/plain": [
       "[('the', -3.4646863179073772),\n",
       " ('.', -3.4984705306015673),\n",
       " (',', -3.508342968697077),\n",
       " ('of', -3.53893849020608),\n",
       " ('-', -3.7451372166868815),\n",
       " ('and', -3.7837327900461357),\n",
       " ('in', -3.9466450468512964),\n",
       " (')', -4.307054870869884),\n",
       " ('(', -4.3115933289938475),\n",
       " ('to', -4.414255374491015),\n",
       " ('a', -4.4636919965156405),\n",
       " ('##s', -4.661327655749547),\n",
       " ('that', -4.991497304841966),\n",
       " ('is', -5.046741371728929),\n",
       " ('with', -5.186031440070474),\n",
       " ('for', -5.233798786855274),\n",
       " ('by', -5.351427248074097),\n",
       " ('The', -5.432198355203644),\n",
       " ('p', -5.4432874651400525),\n",
       " ('as', -5.526834837679868)]"
      ]
     },
     "execution_count": 42,
     "metadata": {},
     "output_type": "execute_result"
    }
   ],
   "source": [
    "get_top_discrimintary_keywords(result_lowquality_bp[NAIVE_BAYES][\"m\"],1)[:20]"
   ]
  },
  {
   "cell_type": "markdown",
   "metadata": {},
   "source": [
    "## Summary of Analysis"
   ]
  },
  {
   "cell_type": "code",
   "execution_count": 44,
   "metadata": {},
   "outputs": [
    {
     "name": "stdout",
     "output_type": "stream",
     "text": [
      "Training Naive Bayes\n"
     ]
    },
    {
     "name": "stderr",
     "output_type": "stream",
     "text": [
      "Token indices sequence length is longer than the specified maximum sequence length for this model (622 > 512). Running this sequence through the model will result in indexing errors\n"
     ]
    },
    {
     "name": "stdout",
     "output_type": "stream",
     "text": [
      "Max words :  2000\n"
     ]
    },
    {
     "name": "stderr",
     "output_type": "stream",
     "text": [
      "Token indices sequence length is longer than the specified maximum sequence length for this model (728 > 512). Running this sequence through the model will result in indexing errors\n"
     ]
    },
    {
     "name": "stdout",
     "output_type": "stream",
     "text": [
      "Training Naive Bayes\n",
      "Max words :  2000\n"
     ]
    },
    {
     "name": "stderr",
     "output_type": "stream",
     "text": [
      "/Users/aparnaelangovan/PycharmProjects/venv/bert-shortcuts/lib/python3.8/site-packages/sklearn/feature_extraction/text.py:1322: UserWarning: Upper case characters found in vocabulary while 'lowercase' is True. These entries will not be matched with any documents\n",
      "  warnings.warn(\n",
      "Token indices sequence length is longer than the specified maximum sequence length for this model (564 > 512). Running this sequence through the model will result in indexing errors\n"
     ]
    },
    {
     "name": "stdout",
     "output_type": "stream",
     "text": [
      "Training Naive Bayes\n",
      "Max words :  2000\n"
     ]
    },
    {
     "name": "stderr",
     "output_type": "stream",
     "text": [
      "/Users/aparnaelangovan/PycharmProjects/venv/bert-shortcuts/lib/python3.8/site-packages/sklearn/feature_extraction/text.py:1322: UserWarning: Upper case characters found in vocabulary while 'lowercase' is True. These entries will not be matched with any documents\n",
      "  warnings.warn(\n",
      "Token indices sequence length is longer than the specified maximum sequence length for this model (728 > 512). Running this sequence through the model will result in indexing errors\n"
     ]
    },
    {
     "name": "stdout",
     "output_type": "stream",
     "text": [
      "Training Naive Bayes\n",
      "Max words :  2000\n"
     ]
    },
    {
     "name": "stderr",
     "output_type": "stream",
     "text": [
      "/Users/aparnaelangovan/PycharmProjects/venv/bert-shortcuts/lib/python3.8/site-packages/sklearn/feature_extraction/text.py:1322: UserWarning: Upper case characters found in vocabulary while 'lowercase' is True. These entries will not be matched with any documents\n",
      "  warnings.warn(\n"
     ]
    },
    {
     "data": {
      "image/png": "[encoded data removed]",
      "text/plain": [
       "<Figure size 1080x360 with 1 Axes>"
      ]
     },
     "metadata": {
      "needs_background": "light"
     },
     "output_type": "display_data"
    }
   ],
   "source": [
    "import numpy as np\n",
    "import matplotlib.pyplot as plt\n",
    "\n",
    "def compute_js_divergence(p1_model_result, p2_model_result, label_names=label_names, use_common_only=False):\n",
    "    result = []\n",
    "    for i, l in enumerate(label_names):\n",
    "        p = js_divergence(get_top_discrimintary_keywords(p1_model_result[NAIVE_BAYES][\"m\"],i),\n",
    "                     get_top_discrimintary_keywords(p2_model_result[NAIVE_BAYES][\"m\"],i),\n",
    "                          use_common_only=use_common_only\n",
    "                     )\n",
    "        result.append({\n",
    "            \"label_name\" : l,\n",
    "            \"label_index\" : i,\n",
    "            \"kl\" : p\n",
    "        })\n",
    "    return pd.DataFrame(result)\n",
    "        \n",
    "def plot_divergence(df1,t1, df2, t2, ax, suffix_y_label):\n",
    "    ind = np.array([float(i) for i in df1[\"label_index\"].values] )\n",
    "    width = 0.4\n",
    "    \n",
    "    ax.bar(ind, df1[\"kl\"], width, color='green', label=t1)\n",
    "    ax.bar(ind + width,  df2[\"kl\"], width, color='lightgreen', label=t2)\n",
    "    \n",
    "    ax.legend()\n",
    "    \n",
    "    ax.set_xticks(df1[\"label_index\"].values)\n",
    "    ax.set_xticklabels(df1[\"label_name\"], rotation = 45)\n",
    "    \n",
    "    ax.set_ylim(0,1)\n",
    "    \n",
    "    ax.set_ylabel(f\"JS divergence {suffix_y_label}\")\n",
    "    \n",
    "    ax.spines['bottom'].set_color('grey')\n",
    "    ax.spines['top'].set_color('grey') \n",
    "    ax.spines['right'].set_color('grey')\n",
    "    ax.spines['left'].set_color('grey')\n",
    "\n",
    "        \n",
    "\n",
    "_, axes= plt.subplots(1,1, figsize=(15,5))  \n",
    "\n",
    "classifiers = {NAIVE_BAYES}\n",
    "\n",
    "kwargs = {\n",
    "    \"ngram_range\":(1,1),\n",
    "    \"min_df\": 5,\n",
    "    \"stop_words\": None,\n",
    "    \"classifiers\":classifiers,\n",
    "    \"classwise_vocab\":False,\n",
    "    \"max_words_per_class\" :  2000\n",
    "}\n",
    "\n",
    "ax = axes\n",
    "plot_divergence(compute_js_divergence(train_and_predict_all_classifiers(df_highquality.sample(n=50000, random_state=42), \n",
    "                                                                       **kwargs\n",
    "                                                                      ), \n",
    "                                      train_and_predict_all_classifiers(df_train, \n",
    "                                                                    **kwargs\n",
    "                                                                  ),\n",
    "                                      use_common_only=False\n",
    "                                     ),\n",
    "                \"High confidence\", \n",
    "                compute_js_divergence(train_and_predict_all_classifiers(df_lowquality.sample(n=50000, random_state=42), \n",
    "                                                                       **kwargs\n",
    "                                                                      ), \n",
    "                                      train_and_predict_all_classifiers(df_train, \n",
    "                                                                   **kwargs\n",
    "                                                                  ), \n",
    "                                      use_common_only=False\n",
    "                                     ),\n",
    "                \"Low confidence\",\n",
    "                ax,\n",
    "               \"ngram: 1\")\n",
    "\n",
    "\n",
    "# kwargs = {\n",
    "#     \"ngram_range\":(2,2),\n",
    "#     \"min_df\": 5,\n",
    "#     \"stop_words\":None,\n",
    "#     \"classifiers\":classifiers,\n",
    "#     \"classwise_vocab\":False,\n",
    "#     \"max_words_per_class\" :  1000\n",
    "# }\n",
    "\n",
    "# ax = axes[1]\n",
    "# plot_divergence(compute_js_divergence(train_and_predict_all_classifiers(df_highquality, \n",
    "#                                                                        **kwargs\n",
    "#                                                                       ), \n",
    "#                                       train_and_predict_all_classifiers(df_train, \n",
    "#                                                                     **kwargs\n",
    "#                                                                   ),\n",
    "#                                       use_common_only=False\n",
    "#                                      ),\n",
    "#                 \"High confidence\", \n",
    "#                 compute_js_divergence(train_and_predict_all_classifiers(df_lowquality, \n",
    "#                                                                        **kwargs\n",
    "#                                                                       ), \n",
    "#                                       train_and_predict_all_classifiers(df_train, \n",
    "#                                                                    **kwargs\n",
    "#                                                                   ),\n",
    "#                                        use_common_only=False\n",
    "#                                      ),\n",
    "#                 \"Low confidence\",\n",
    "#                 ax, \"ngram: 2\")\n",
    "\n",
    "# ax.legend().remove()\n",
    "\n",
    "\n",
    "\n",
    "\n",
    "# kwargs = {\n",
    "#     \"ngram_range\":(3,3),\n",
    "#    \"min_df\": 5,\n",
    "#    \"stop_words\":None,\n",
    "#     \"classifiers\":classifiers,\n",
    "#     \"max_words_per_class\" :  100,\n",
    "#     \"classwise_vocab\":False\n",
    "# }\n",
    "\n",
    "# ax = axes[2]\n",
    "# plot_divergence(compute_js_divergence(train_and_predict_all_classifiers(df_highquality, \n",
    "#                                                                        **kwargs\n",
    "#                                                                       ), \n",
    "#                                       train_and_predict_all_classifiers(df_train, \n",
    "#                                                                     **kwargs\n",
    "#                                                                   ),\n",
    "#                                        use_common_only=False\n",
    "#                                      ),\n",
    "#                 \"High confidence\", \n",
    "#                 compute_js_divergence(train_and_predict_all_classifiers(df_lowquality, \n",
    "#                                                                        **kwargs\n",
    "#                                                                       ), \n",
    "#                                       train_and_predict_all_classifiers(df_train, \n",
    "#                                                                    **kwargs\n",
    "#                                                                   ), \n",
    "#                                       use_common_only=False\n",
    "#                                      ),\n",
    "#                 \"Low confidence\",\n",
    "#                 ax, \"ngram: 3\")\n",
    "\n",
    "# ax.legend().remove()\n",
    "\n",
    "\n"
   ]
  },
  {
   "cell_type": "code",
   "execution_count": 48,
   "metadata": {},
   "outputs": [
    {
     "name": "stderr",
     "output_type": "stream",
     "text": [
      "Token indices sequence length is longer than the specified maximum sequence length for this model (546 > 512). Running this sequence through the model will result in indexing errors\n",
      "Token indices sequence length is longer than the specified maximum sequence length for this model (605 > 512). Running this sequence through the model will result in indexing errors\n",
      "Token indices sequence length is longer than the specified maximum sequence length for this model (513 > 512). Running this sequence through the model will result in indexing errors\n",
      "Token indices sequence length is longer than the specified maximum sequence length for this model (555 > 512). Running this sequence through the model will result in indexing errors\n"
     ]
    }
   ],
   "source": [
    "from sklearn.feature_extraction.text import CountVectorizer\n",
    "import warnings\n",
    "\n",
    "def classwise_jacq(df1, df2, label_names=label_names,\n",
    "                   stop_words=None, \n",
    "                   max_words_per_class=3000,\n",
    "                   min_df=5,\n",
    "                  ngram_range=(1,1)):\n",
    "    result = []\n",
    "    for i,l in enumerate(label_names):\n",
    "        df1_sub = df1.query(f\"y=={i}\")\n",
    "        df2_sub = df2.query(f\"y=={i}\")\n",
    "        \n",
    "        \n",
    "\n",
    "        cv = CountVectorizer(stop_words=stop_words, max_features=max_words_per_class, min_df=min_df,\n",
    "                             ngram_range=ngram_range,lowercase=False,\n",
    "                             analyzer=hf_analyser() )\n",
    "        \n",
    "        try:\n",
    "        \n",
    "            v1 = cv.fit(df1_sub[\"x\"]).vocabulary_\n",
    "            v2 = cv.fit(df2_sub[\"x\"]).vocabulary_\n",
    "\n",
    "\n",
    "            score = jaccard(v1,v2)\n",
    "\n",
    "            result.append({\n",
    "\n",
    "                \"score\" : score,\n",
    "                \"v1\" : v1,\n",
    "                \"v2\": v2,\n",
    "                \"union\": set(v1).union(set(v2)),\n",
    "                \"intersection\": set(v1).intersection(set(v2)),\n",
    "                \"onlyv2\": set(v2)-set(v1),\n",
    "                \"onlyv1\": set(v1)-set(v2)\n",
    "\n",
    "\n",
    "            })\n",
    "        except ValueError as e:\n",
    "            warnings.warn(l + \" - \"+ str(e))\n",
    "    return result\n",
    "kwargs = {\n",
    "    \"ngram_range\":(1,1),\n",
    "    \"min_df\": 1,\n",
    "    \"stop_words\":None,   \n",
    "    \"max_words_per_class\" :  None\n",
    "\n",
    "\n",
    "}\n",
    "\n",
    "\n",
    "\n",
    "\n",
    "high_jq_result = classwise_jacq(df_highquality, df_train, **kwargs)\n",
    "              \n",
    "low_jq_result = classwise_jacq(df_lowquality, df_train, **kwargs)"
   ]
  },
  {
   "cell_type": "code",
   "execution_count": 49,
   "metadata": {},
   "outputs": [
    {
     "data": {
      "text/plain": [
       "(0.37076072700018736, 0.3308596681397482)"
      ]
     },
     "execution_count": 49,
     "metadata": {},
     "output_type": "execute_result"
    }
   ],
   "source": [
    "low_jq_result[0][\"score\"], high_jq_result[0][\"score\"]"
   ]
  },
  {
   "cell_type": "code",
   "execution_count": 50,
   "metadata": {},
   "outputs": [
    {
     "data": {
      "image/png": "[encoded data removed]",
      "text/plain": [
       "<Figure size 432x288 with 1 Axes>"
      ]
     },
     "metadata": {},
     "output_type": "display_data"
    }
   ],
   "source": [
    "from matplotlib_venn import venn2\n",
    "\n",
    "def plot_venn( score, set_labels=('Low', 'Train'), label=1):\n",
    "    venn2(subsets = (len(score[label][\"v1\"])\n",
    "                     , len(score[label][\"v2\"])\n",
    "                     , len(score[label][\"intersection\"])\n",
    "                    ), \n",
    "          set_labels = set_labels)\n",
    "    plt.show()\n",
    "\n",
    "plot_venn(low_jq_result,label=0)"
   ]
  },
  {
   "cell_type": "code",
   "execution_count": null,
   "metadata": {},
   "outputs": [],
   "source": [
    "print(keywords1)\n",
    "print([ k for k in keywords1 if k in set(low_jq_result[0][\"intersection\"])])\n",
    "print([ k for k in keywords2 if k in set(low_jq_result[0][\"intersection\"])])"
   ]
  },
  {
   "cell_type": "code",
   "execution_count": null,
   "metadata": {},
   "outputs": [],
   "source": [
    "print(keywords2)\n",
    "print([ k for k in keywords1 if k in set(low_jq_result[1][\"intersection\"])])\n",
    "print([ k for k in keywords2 if k in set(low_jq_result[1][\"intersection\"])])"
   ]
  },
  {
   "cell_type": "code",
   "execution_count": 51,
   "metadata": {},
   "outputs": [
    {
     "data": {
      "image/png": "[encoded data removed]",
      "text/plain": [
       "<Figure size 432x288 with 1 Axes>"
      ]
     },
     "metadata": {},
     "output_type": "display_data"
    }
   ],
   "source": [
    "plot_venn(high_jq_result, set_labels=(\"High\", \"Train\"), label=0)"
   ]
  },
  {
   "cell_type": "code",
   "execution_count": 52,
   "metadata": {},
   "outputs": [
    {
     "data": {
      "image/png": "[encoded data removed]",
      "text/plain": [
       "<Figure size 432x288 with 2 Axes>"
      ]
     },
     "metadata": {
      "needs_background": "light"
     },
     "output_type": "display_data"
    }
   ],
   "source": [
    "plot_confusionmatrix(df_highquality[\"gold\"],df_highquality[\"y\"], \"pred\")"
   ]
  },
  {
   "cell_type": "code",
   "execution_count": 53,
   "metadata": {},
   "outputs": [
    {
     "data": {
      "text/plain": [
       "count    188134.000000\n",
       "mean          0.997563\n",
       "std           0.002152\n",
       "min           0.990000\n",
       "25%           0.996799\n",
       "50%           0.998215\n",
       "75%           0.999220\n",
       "max           0.999640\n",
       "Name: confidence, dtype: float64"
      ]
     },
     "execution_count": 53,
     "metadata": {},
     "output_type": "execute_result"
    }
   ],
   "source": [
    "df_highquality[\"confidence\"].describe()"
   ]
  },
  {
   "cell_type": "code",
   "execution_count": 54,
   "metadata": {},
   "outputs": [
    {
     "data": {
      "text/plain": [
       "count    60044.000000\n",
       "mean         0.661945\n",
       "std          0.087584\n",
       "min          0.500005\n",
       "25%          0.587240\n",
       "50%          0.667730\n",
       "75%          0.739715\n",
       "max          0.799999\n",
       "Name: confidence, dtype: float64"
      ]
     },
     "execution_count": 54,
     "metadata": {},
     "output_type": "execute_result"
    }
   ],
   "source": [
    "df_lowquality[\"confidence\"].describe()"
   ]
  },
  {
   "cell_type": "code",
   "execution_count": 55,
   "metadata": {},
   "outputs": [
    {
     "data": {
      "text/plain": [
       "count    620.000000\n",
       "mean       0.956045\n",
       "std        0.099433\n",
       "min        0.503486\n",
       "25%        0.975173\n",
       "50%        0.997518\n",
       "75%        0.999124\n",
       "max        0.999631\n",
       "Name: confidence, dtype: float64"
      ]
     },
     "execution_count": 55,
     "metadata": {},
     "output_type": "execute_result"
    }
   ],
   "source": [
    "df_test[\"confidence\"].describe()"
   ]
  },
  {
   "cell_type": "code",
   "execution_count": 56,
   "metadata": {},
   "outputs": [
    {
     "data": {
      "text/plain": [
       "count    767.000000\n",
       "mean       0.995575\n",
       "std        0.010179\n",
       "min        0.824948\n",
       "25%        0.996462\n",
       "50%        0.998371\n",
       "75%        0.999154\n",
       "max        0.999617\n",
       "Name: confidence, dtype: float64"
      ]
     },
     "execution_count": 56,
     "metadata": {},
     "output_type": "execute_result"
    }
   ],
   "source": [
    "df_train[\"confidence\"].describe()"
   ]
  },
  {
   "cell_type": "code",
   "execution_count": 57,
   "metadata": {},
   "outputs": [
    {
     "data": {
      "image/png": "[encoded data removed]",
      "text/plain": [
       "<Figure size 432x288 with 2 Axes>"
      ]
     },
     "metadata": {
      "needs_background": "light"
     },
     "output_type": "display_data"
    }
   ],
   "source": [
    "plot_confusionmatrix(df_test[\"gold\"],df_test[\"y\"], \"pred\")"
   ]
  },
  {
   "cell_type": "code",
   "execution_count": 58,
   "metadata": {},
   "outputs": [
    {
     "data": {
      "image/png": "[encoded data removed]",
      "text/plain": [
       "<Figure size 432x288 with 2 Axes>"
      ]
     },
     "metadata": {
      "needs_background": "light"
     },
     "output_type": "display_data"
    }
   ],
   "source": [
    "plot_confusionmatrix(df_val[\"gold\"],df_val[\"y\"], \"pred\")"
   ]
  },
  {
   "cell_type": "code",
   "execution_count": 59,
   "metadata": {},
   "outputs": [
    {
     "data": {
      "image/png": "[encoded data removed]",
      "text/plain": [
       "<Figure size 432x288 with 2 Axes>"
      ]
     },
     "metadata": {
      "needs_background": "light"
     },
     "output_type": "display_data"
    }
   ],
   "source": [
    "plot_confusionmatrix(df_train[\"gold\"],df_train[\"y\"])"
   ]
  },
  {
   "cell_type": "code",
   "execution_count": null,
   "metadata": {},
   "outputs": [],
   "source": [
    "plot_confusionmatrix(df_highquality[\"gold\"],df_highquality[\"y\"])"
   ]
  },
  {
   "cell_type": "code",
   "execution_count": null,
   "metadata": {},
   "outputs": [],
   "source": [
    "plot_confusionmatrix(df_lowquality[\"gold\"],df_lowquality[\"y\"], \"pred\")"
   ]
  },
  {
   "cell_type": "code",
   "execution_count": null,
   "metadata": {},
   "outputs": [],
   "source": [
    "plot_confusionmatrix(df_lowquality[\"gold\"],df_lowquality[\"y\"])"
   ]
  },
  {
   "cell_type": "markdown",
   "metadata": {},
   "source": [
    "## Latex results"
   ]
  },
  {
   "cell_type": "code",
   "execution_count": null,
   "metadata": {},
   "outputs": [],
   "source": [
    "def prepare_latex(meta_dict_df, index_filter=None):\n",
    "    result = []\n",
    "    model_names = {NAIVE_BAYES: \"NB\",\n",
    "                  NAIVE_BAYES_WITH_TREE:\"NT\",\n",
    "                  TREE : \"T\"\n",
    "    }\n",
    "\n",
    "    for item in meta_dict_df:\n",
    "        df= item.pop(\"df\")\n",
    "        if index_filter:\n",
    "            df = df[df[\"index\"].isin(index_filter)].copy(deep=True)\n",
    "        df[\"model\"] = df[\"model\"].apply(lambda x: model_names[x])\n",
    "        for i, meta in enumerate(item[\"meta\"]):\n",
    "            df.insert(i, meta[\"name\"], meta[\"value\"])\n",
    "        result.append(df)\n",
    "        \n",
    "    df_summ = pd.concat(result)\n",
    "    df_summ = df_summ.drop(\"index\", axis=1)\n",
    "    \n",
    "    return df_summ\n",
    "    \n",
    "df_summ_train = print_report_all_classifiers(df_train[\"gold\"], train_result, all_labels)\n",
    "\n",
    "df_summ_test_bp = print_report_all_classifiers(df_test_prediction[\"y\"], result_test_bp, all_labels)\n",
    "\n",
    "df_summ_test_gt = print_report_all_classifiers(df_test[\"gold\"], result_test_gt, all_labels)\n",
    "\n",
    "df_summ_test_high_conf = print_report_all_classifiers(df_highquality[\"y\"], result_highquality_train_result, all_labels)\n",
    "\n",
    "\n",
    "df_summ = prepare_latex ([\n",
    "    {\"df\": df_summ_train, \"meta\":[{ \"name\": \"dataset\" , \"value\": \"SELF TR\"}, { \"name\": \"T\" , \"value\": \"GT\"}]},\n",
    "    {\"df\": df_summ_test_gt, \"meta\":[{ \"name\": \"dataset\" , \"value\": \"SELF TS\"}, { \"name\": \"T\" , \"value\": \"GT\"}]},\n",
    "    {\"df\": df_summ_test_bp, \"meta\":[{ \"name\": \"dataset\" , \"value\": \"SELF TS\"}, { \"name\": \"T\" , \"value\": \"BP\"}]},\n",
    "    {\"df\": df_summ_test_high_conf, \"meta\":[{ \"name\": \"dataset\" , \"value\": \"SELF GH\"}, { \"name\": \"T\" , \"value\": \"BP\"}]},\n",
    "\n",
    "\n",
    "\n",
    "                ]\n",
    "              )\n",
    "\n",
    "print(df_summ.to_latex(index=False, formatters = {\"precision\": float_percent_format, \"recall\":float_percent_format, \"f1-score\":float_percent_format,\"support\":int_format}))"
   ]
  },
  {
   "cell_type": "code",
   "execution_count": null,
   "metadata": {},
   "outputs": [],
   "source": [
    "df_summ_trainfit_test_bp = print_report_all_classifiers(df_test_prediction[\"y\"], result_train_predict_test_bp,  all_labels)\n",
    "df_summ_trainfit_test_gt = print_report_all_classifiers(df_test[\"gold\"], result_train_predict_test_gt,  all_labels)\n",
    "\n",
    "df_summ_train = print_report_all_classifiers(df_train[\"y\"], train_result, all_labels)\n",
    "\n",
    "\n",
    "\n",
    "\n",
    "\n",
    "df_summ_neg = prepare_latex ([\n",
    "                    {\"df\": df_summ_train, \"meta\":[{ \"name\": \"dataset\" , \"value\": \"CHM TR\"}, { \"name\": \"T\" , \"value\": \"GT\"}]},\n",
    "\n",
    "\n",
    "                {\"df\": df_summ_trainfit_test_gt, \"meta\":[{ \"name\": \"dataset\" , \"value\": \"CHM TS\"}, { \"name\": \"T\" , \"value\": \"GT\"}]},\n",
    "                {\"df\": df_summ_trainfit_test_bp, \"meta\":[{ \"name\": \"dataset\" , \"value\": \"CHM TS\"}, { \"name\": \"T\" , \"value\": \"BP\"}]},\n",
    "               \n",
    "\n",
    "\n",
    "\n",
    "                ],\n",
    "    index_filter=[0]\n",
    "              )\n",
    "\n",
    "print(\"**0***\")\n",
    "print(df_summ_neg.to_latex(index=False, formatters = {\"precision\": float_percent_format, \"recall\":float_percent_format, \"f1-score\":float_percent_format,\"support\":int_format}))\n",
    "\n",
    "df_summ_phos = prepare_latex ([\n",
    "                        {\"df\": df_summ_train, \"meta\":[{ \"name\": \"dataset\" , \"value\": \"PTM TR\"}, { \"name\": \"T\" , \"value\": \"GT\"}]},\n",
    "\n",
    "\n",
    "                {\"df\": df_summ_trainfit_test_gt, \"meta\":[{ \"name\": \"dataset\" , \"value\": \"PTM TS\"}, { \"name\": \"T\" , \"value\": \"GT\"}]},\n",
    "                {\"df\": df_summ_trainfit_test_bp, \"meta\":[{ \"name\": \"dataset\" , \"value\": \"PTM TS\"}, { \"name\": \"T\" , \"value\": \"BP\"}]},\n",
    "             \n",
    "\n",
    "\n",
    "\n",
    "\n",
    "                ],\n",
    "    index_filter=[2]\n",
    "              )\n",
    "\n",
    "print(\"**2***\")\n",
    "\n",
    "print(df_summ_phos.to_latex(index=False, formatters = {\"precision\": float_percent_format, \"recall\":float_percent_format, \"f1-score\":float_percent_format,\"support\":int_format}))"
   ]
  },
  {
   "cell_type": "code",
   "execution_count": null,
   "metadata": {},
   "outputs": [],
   "source": [
    "print(len(result_test_bp[NAIVE_BAYES][\"m\"].vocab))"
   ]
  },
  {
   "cell_type": "code",
   "execution_count": null,
   "metadata": {},
   "outputs": [],
   "source": [
    "def prepare_latex_2(meta_dict_df, index_filter=None):\n",
    "    result = []\n",
    "    model_names = {NAIVE_BAYES: \"NB\",\n",
    "                  NAIVE_BAYES_WITH_TREE:\"NBT\",\n",
    "                  TREE : \"T\"\n",
    "    }\n",
    "\n",
    "    for item in meta_dict_df:\n",
    "        df= item.pop(\"df\")\n",
    "        df = df.copy(deep=True)\n",
    "        if index_filter:\n",
    "            df = df[df[\"index\"].isin(index_filter)].copy(deep=True)\n",
    "        df[\"model\"] = df[\"model\"].apply(lambda x: model_names[x])\n",
    "        for i, meta in enumerate(item[\"meta\"]):\n",
    "            df.insert(i, meta[\"name\"], meta[\"value\"])\n",
    "        result.append(df)\n",
    "    df_summ = pd.concat(result)\n",
    "    df_summ[\"index\"] = df_summ[\"index\"].apply(lambda x: label_names[int(x)] if isint(x) else x )\n",
    "    \n",
    "    return df_summ\n",
    "    \n",
    "df_summ_train = print_report_all_classifiers(df_train[\"gold\"], train_result, all_labels)\n",
    "\n",
    "df_summ_test_bp = print_report_all_classifiers(df_test_prediction[\"y\"], result_test_bp, all_labels)\n",
    "\n",
    "df_summ_test_gt = print_report_all_classifiers(df_test[\"gold\"], result_test_gt, all_labels)\n",
    "\n",
    "\n",
    "\n",
    "df_summ = prepare_latex_2 ([\n",
    "    {\"df\": df_summ_train, \"meta\":[{ \"name\": \"dataset\" , \"value\": \"CHM TR\"}, { \"name\": \"T\" , \"value\": \"GT\"}]},\n",
    "    {\"df\": df_summ_test_gt, \"meta\":[{ \"name\": \"dataset\" , \"value\": \"CHM TS\"}, { \"name\": \"T\" , \"value\": \"GT\"}]},\n",
    "    {\"df\": df_summ_test_bp, \"meta\":[{ \"name\": \"dataset\" , \"value\": \"CHM TS\"}, { \"name\": \"T\" , \"value\": \"BP\"}]},\n",
    "                ]\n",
    "              )\n",
    "\n",
    "print(df_summ.to_latex(index=False, formatters = {\"precision\": float_percent_format, \"recall\":float_percent_format, \"f1-score\":float_percent_format,\"support\":int_format}))"
   ]
  }
 ],
 "metadata": {
  "kernelspec": {
   "display_name": "Python 3 (ipykernel)",
   "language": "python",
   "name": "python3"
  },
  "language_info": {
   "codemirror_mode": {
    "name": "ipython",
    "version": 3
   },
   "file_extension": ".py",
   "mimetype": "text/x-python",
   "name": "python",
   "nbconvert_exporter": "python",
   "pygments_lexer": "ipython3",
   "version": "3.8.9"
  }
 },
 "nbformat": 4,
 "nbformat_minor": 1
}
